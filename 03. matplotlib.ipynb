{
 "cells": [
  {
   "cell_type": "markdown",
   "metadata": {},
   "source": [
    "# Matplotlib\n",
    "다양한 형태의 그래프를 통해서 데이터를 시각화 할 수 있는 라이브러리"
   ]
  },
  {
   "cell_type": "code",
   "execution_count": 12,
   "metadata": {},
   "outputs": [],
   "source": [
    "import matplotlib.pyplot as plt\n",
    "%matplotlib inline"
   ]
  },
  {
   "cell_type": "markdown",
   "metadata": {},
   "source": [
    "---\n",
    "## 1. 선 그래프"
   ]
  },
  {
   "cell_type": "code",
   "execution_count": null,
   "metadata": {},
   "outputs": [],
   "source": [
    "# 고전 스타일\n",
    "x = [-1, 2, 3]\n",
    "y = [2, 4, -8]\n",
    "\n",
    "plt.plot(x,y)\n",
    "plt.show()"
   ]
  },
  {
   "cell_type": "code",
   "execution_count": null,
   "metadata": {},
   "outputs": [],
   "source": [
    "# OOP 스타일\n",
    "hf, ha = plt.subplots()\n",
    "line1, = ha.plot(x, y)"
   ]
  },
  {
   "cell_type": "markdown",
   "metadata": {},
   "source": [
    "### 타이틀 설정"
   ]
  },
  {
   "cell_type": "code",
   "execution_count": null,
   "metadata": {},
   "outputs": [],
   "source": [
    "plt.plot(x, y)\n",
    "plt.title('line Graph')"
   ]
  },
  {
   "cell_type": "markdown",
   "metadata": {},
   "source": [
    "### 전역 한글 폰트 설정"
   ]
  },
  {
   "cell_type": "code",
   "execution_count": 13,
   "metadata": {},
   "outputs": [],
   "source": [
    "import matplotlib\n",
    "matplotlib.rcParams['font.family'] = 'Malgun Gothic'\n",
    "matplotlib.rcParams['font.size'] = 12\n",
    "matplotlib.rcParams['axes.unicode_minus'] = False"
   ]
  },
  {
   "cell_type": "code",
   "execution_count": null,
   "metadata": {},
   "outputs": [],
   "source": [
    "plt.plot(x, y)\n",
    "plt.title('라인 그래프')"
   ]
  },
  {
   "cell_type": "markdown",
   "metadata": {},
   "source": [
    "### 개별 폰트 설정"
   ]
  },
  {
   "cell_type": "code",
   "execution_count": null,
   "metadata": {},
   "outputs": [],
   "source": [
    "plt.plot(x, y)\n",
    "plt.title(\"라인 그래프\", fontdict={'family':'HYGungSo-Bold', 'size':20})"
   ]
  },
  {
   "cell_type": "markdown",
   "metadata": {},
   "source": [
    "### 그래프 축"
   ]
  },
  {
   "cell_type": "code",
   "execution_count": null,
   "metadata": {},
   "outputs": [],
   "source": [
    "x = [1, 2, 3]\n",
    "y = [2, 4, 8]\n",
    "\n",
    "plt.plot(x, y)\n",
    "plt.xlabel('X 축')\n",
    "plt.ylabel('Y 축')"
   ]
  },
  {
   "cell_type": "code",
   "execution_count": null,
   "metadata": {},
   "outputs": [],
   "source": [
    "plt.plot(x, y)\n",
    "plt.xlabel('X 축', color='red')\n",
    "plt.ylabel('Y 축', color='blue')"
   ]
  },
  {
   "cell_type": "code",
   "execution_count": null,
   "metadata": {},
   "outputs": [],
   "source": [
    "plt.plot(x, y)\n",
    "plt.xlabel('X 축', color='red', loc='right') # left, center, right\n",
    "plt.ylabel('Y 축', color='blue', loc='top') # top, center, bottom"
   ]
  },
  {
   "cell_type": "code",
   "execution_count": null,
   "metadata": {},
   "outputs": [],
   "source": [
    "plt.plot(x, y)\n",
    "plt.xticks([1,2,3])\n",
    "plt.yticks([3,6,9])"
   ]
  },
  {
   "cell_type": "markdown",
   "metadata": {},
   "source": [
    "### 범례"
   ]
  },
  {
   "cell_type": "code",
   "execution_count": null,
   "metadata": {},
   "outputs": [],
   "source": [
    "plt.plot(x, y, label='XY')\n",
    "plt.legend(loc='lower right') # lower right"
   ]
  },
  {
   "cell_type": "code",
   "execution_count": null,
   "metadata": {},
   "outputs": [],
   "source": [
    "plt.plot(x, y, label='XY')\n",
    "plt.legend(loc=(0.1, 0.8))"
   ]
  },
  {
   "cell_type": "markdown",
   "metadata": {},
   "source": [
    "### 스타일"
   ]
  },
  {
   "cell_type": "code",
   "execution_count": null,
   "metadata": {},
   "outputs": [],
   "source": [
    "plt.plot(x, y, linewidth=5)"
   ]
  },
  {
   "cell_type": "markdown",
   "metadata": {},
   "source": [
    "- 선 스타일"
   ]
  },
  {
   "cell_type": "code",
   "execution_count": null,
   "metadata": {},
   "outputs": [],
   "source": [
    "plt.plot(x, y, linestyle='dashed')"
   ]
  },
  {
   "cell_type": "markdown",
   "metadata": {},
   "source": [
    "- 색깔"
   ]
  },
  {
   "cell_type": "code",
   "execution_count": null,
   "metadata": {},
   "outputs": [],
   "source": [
    "plt.plot(x, y, color='r')"
   ]
  },
  {
   "cell_type": "markdown",
   "metadata": {},
   "source": [
    "- 투명도"
   ]
  },
  {
   "cell_type": "code",
   "execution_count": null,
   "metadata": {},
   "outputs": [],
   "source": [
    "plt.plot(x, y, 'ro--', alpha=0.2)"
   ]
  },
  {
   "cell_type": "markdown",
   "metadata": {},
   "source": [
    "- 그리드"
   ]
  },
  {
   "cell_type": "code",
   "execution_count": null,
   "metadata": {},
   "outputs": [],
   "source": [
    "plt.plot(x, y, color='r')\n",
    "plt.grid()"
   ]
  },
  {
   "cell_type": "code",
   "execution_count": null,
   "metadata": {},
   "outputs": [],
   "source": [
    "plt.plot(x, y, color='r')\n",
    "plt.grid(axis='y', color='blue', alpha=0.2, linestyle=':')"
   ]
  },
  {
   "cell_type": "markdown",
   "metadata": {},
   "source": [
    "- 마커"
   ]
  },
  {
   "cell_type": "code",
   "execution_count": null,
   "metadata": {},
   "outputs": [],
   "source": [
    "plt.plot(x, y, marker='o')"
   ]
  },
  {
   "cell_type": "code",
   "execution_count": null,
   "metadata": {},
   "outputs": [],
   "source": [
    "plt.plot(x, y, linestyle='None', marker='o')"
   ]
  },
  {
   "cell_type": "code",
   "execution_count": null,
   "metadata": {},
   "outputs": [],
   "source": [
    "plt.plot(x, y, marker='v', markersize=10)"
   ]
  },
  {
   "cell_type": "code",
   "execution_count": null,
   "metadata": {},
   "outputs": [],
   "source": [
    "plt.plot(x, y, marker='X', markersize=10)"
   ]
  },
  {
   "cell_type": "code",
   "execution_count": null,
   "metadata": {},
   "outputs": [],
   "source": [
    "plt.plot(x, y, marker='o', markersize=10, markeredgecolor='red')"
   ]
  },
  {
   "cell_type": "code",
   "execution_count": null,
   "metadata": {},
   "outputs": [],
   "source": [
    "plt.plot(x, y, marker='o', markersize=10, markeredgecolor='red', markerfacecolor='red')"
   ]
  },
  {
   "cell_type": "markdown",
   "metadata": {},
   "source": [
    "- 포멧"
   ]
  },
  {
   "cell_type": "code",
   "execution_count": null,
   "metadata": {},
   "outputs": [],
   "source": [
    "plt.plot(x, y, 'ro--') # color, marker, linestyle"
   ]
  },
  {
   "cell_type": "code",
   "execution_count": null,
   "metadata": {},
   "outputs": [],
   "source": [
    "plt.plot(x, y, 'bv:')"
   ]
  },
  {
   "cell_type": "code",
   "execution_count": null,
   "metadata": {},
   "outputs": [],
   "source": [
    "plt.plot(x, y, 'go')"
   ]
  },
  {
   "cell_type": "markdown",
   "metadata": {},
   "source": [
    "- 축약어"
   ]
  },
  {
   "cell_type": "code",
   "execution_count": null,
   "metadata": {},
   "outputs": [],
   "source": [
    "plt.plot(x, y, c='r', marker='o', mfc='r', mec='b', ms=10, ls=':')"
   ]
  },
  {
   "cell_type": "markdown",
   "metadata": {},
   "source": [
    "- 그래프 크기"
   ]
  },
  {
   "cell_type": "code",
   "execution_count": null,
   "metadata": {},
   "outputs": [],
   "source": [
    "plt.figure(figsize=(10,5))\n",
    "plt.plot(x, y)"
   ]
  },
  {
   "cell_type": "code",
   "execution_count": null,
   "metadata": {},
   "outputs": [],
   "source": [
    "plt.figure(figsize=(5,10))\n",
    "plt.plot(x, y)"
   ]
  },
  {
   "cell_type": "code",
   "execution_count": null,
   "metadata": {},
   "outputs": [],
   "source": [
    "plt.figure(figsize=(10,5), dpi=200) # 확대/축소\n",
    "plt.plot(x,y)"
   ]
  },
  {
   "cell_type": "markdown",
   "metadata": {},
   "source": [
    "- 배경색"
   ]
  },
  {
   "cell_type": "code",
   "execution_count": null,
   "metadata": {},
   "outputs": [],
   "source": [
    "plt.figure(figsize=(10,5), facecolor='y')\n",
    "plt.plot(x,y)"
   ]
  },
  {
   "cell_type": "markdown",
   "metadata": {},
   "source": [
    "- 텍스트"
   ]
  },
  {
   "cell_type": "code",
   "execution_count": null,
   "metadata": {},
   "outputs": [],
   "source": [
    "plt.plot(x, y, 'bo--')\n",
    "for idx, txt in enumerate(y):\n",
    "    plt.text(x[idx], y[idx]+0.3, txt, ha='center', color='r')"
   ]
  },
  {
   "cell_type": "markdown",
   "metadata": {},
   "source": [
    "### 데이터프레임 활용"
   ]
  },
  {
   "cell_type": "code",
   "execution_count": null,
   "metadata": {},
   "outputs": [],
   "source": [
    "import pandas as pd\n",
    "df = pd.read_excel('data/score.xlsx')\n",
    "\n",
    "plt.figure(figsize=(15, 5))\n",
    "plt.plot(df['이름'], df['영어'])\n",
    "plt.plot(df['이름'], df['수학'])"
   ]
  },
  {
   "cell_type": "markdown",
   "metadata": {},
   "source": [
    "---\n",
    "## 2. 멀티 선 그래프"
   ]
  },
  {
   "cell_type": "code",
   "execution_count": null,
   "metadata": {},
   "outputs": [],
   "source": [
    "days = [1, 2, 3]\n",
    "az = [2, 4, 8]\n",
    "pfizer = [5, 1, 3]\n",
    "moderna = [1, 2, 5]\n",
    "\n",
    "plt.plot(days, az, label='az')\n",
    "plt.plot(days, pfizer, label='pfizer', marker='o')\n",
    "plt.plot(days, moderna, label='moderna', marker='v')\n",
    "plt.legend()"
   ]
  },
  {
   "cell_type": "code",
   "execution_count": null,
   "metadata": {},
   "outputs": [],
   "source": [
    "plt.plot(days, az, label='az')\n",
    "plt.plot(days, pfizer, 'ro--', label='pfizer')\n",
    "plt.plot(days, moderna, 'bv-.', label='moderna')\n",
    "plt.legend(ncol=3)"
   ]
  },
  {
   "cell_type": "markdown",
   "metadata": {},
   "source": [
    "---\n",
    "## 3. 막대 그래프"
   ]
  },
  {
   "cell_type": "markdown",
   "metadata": {},
   "source": [
    "### 세로 막대 그래프"
   ]
  },
  {
   "cell_type": "code",
   "execution_count": null,
   "metadata": {},
   "outputs": [],
   "source": [
    "labels = ['강백호', '서태웅', '정대만']\n",
    "values = [190, 187, 184]\n",
    "plt.bar(labels, values, color=['r', 'g', 'b'], alpha=0.5)"
   ]
  },
  {
   "cell_type": "code",
   "execution_count": null,
   "metadata": {},
   "outputs": [],
   "source": [
    "plt.bar(labels, values, width=0.3)"
   ]
  },
  {
   "cell_type": "code",
   "execution_count": null,
   "metadata": {},
   "outputs": [],
   "source": [
    "plt.bar(labels, values, color=['r', 'g', 'b'], alpha=0.5)\n",
    "plt.ylim(175, 195)"
   ]
  },
  {
   "cell_type": "code",
   "execution_count": null,
   "metadata": {},
   "outputs": [],
   "source": [
    "plt.bar(labels, values)\n",
    "plt.xticks(rotation=45)\n",
    "plt.yticks(rotation=45)\n",
    "plt.show()"
   ]
  },
  {
   "cell_type": "code",
   "execution_count": null,
   "metadata": {},
   "outputs": [],
   "source": [
    "plt.bar(labels, values)\n",
    "plt.xticks(labels, ['1번', '2번', '3번'])"
   ]
  },
  {
   "cell_type": "markdown",
   "metadata": {},
   "source": [
    "### 가로 막대 그래프"
   ]
  },
  {
   "cell_type": "code",
   "execution_count": null,
   "metadata": {},
   "outputs": [],
   "source": [
    "plt.barh(labels, values)\n",
    "plt.xlim(175, 195)"
   ]
  },
  {
   "cell_type": "markdown",
   "metadata": {},
   "source": [
    "### 스타일"
   ]
  },
  {
   "cell_type": "code",
   "execution_count": null,
   "metadata": {},
   "outputs": [],
   "source": [
    "bar = plt.bar(labels, values)\n",
    "bar[0].set_hatch('/')\n",
    "bar[1].set_hatch('\\\\')\n",
    "bar[2].set_hatch('..')\n",
    "plt.ylim(175, 195)"
   ]
  },
  {
   "cell_type": "code",
   "execution_count": null,
   "metadata": {},
   "outputs": [],
   "source": [
    "bar = plt.bar(labels, values, width=0.5)\n",
    "plt.ylim(175, 195)\n",
    "\n",
    "for idx, rect in enumerate(bar):\n",
    "    plt.text(idx, rect.get_height()+0.5, values[idx], ha='center', color='r')"
   ]
  },
  {
   "cell_type": "markdown",
   "metadata": {},
   "source": [
    "---\n",
    "## 4. 히스토그램"
   ]
  },
  {
   "cell_type": "code",
   "execution_count": null,
   "metadata": {},
   "outputs": [],
   "source": [
    "data = np.random.randn(10000)\n",
    "\n",
    "hf, ha = plt.subplots()\n",
    "# hist = ha.hist(data, 100, color='b')                # 빈도로 그리기\n",
    "hist = ha.hist(data, 100, density=True, color='b')  # 빈도가 아닌 확률분포로 그리기"
   ]
  },
  {
   "cell_type": "code",
   "execution_count": null,
   "metadata": {},
   "outputs": [],
   "source": [
    "hf, ha = plt.subplots()\n",
    "hist = ha.hist(data, 100, color='b')"
   ]
  },
  {
   "cell_type": "markdown",
   "metadata": {},
   "source": [
    "---\n",
    "## 5. 누적 막대 그래프"
   ]
  },
  {
   "cell_type": "code",
   "execution_count": null,
   "metadata": {},
   "outputs": [],
   "source": [
    "plt.figure(figsize=(15, 5))\n",
    "plt.bar(df['이름'], df['국어'])\n",
    "plt.bar(df['이름'], df['영어'], bottom=df['국어'])\n",
    "plt.bar(df['이름'], df['수학'], bottom=df['국어']+df['영어'])"
   ]
  },
  {
   "cell_type": "code",
   "execution_count": null,
   "metadata": {},
   "outputs": [],
   "source": [
    "plt.figure(figsize=(15, 5))\n",
    "plt.bar(df['이름'], df['국어'], label='국어')\n",
    "plt.bar(df['이름'], df['영어'], bottom=df['국어'], label='영어')\n",
    "plt.bar(df['이름'], df['수학'], bottom=df['국어']+df['영어'], label='수학')\n",
    "\n",
    "plt.xticks(rotation=60)\n",
    "plt.ylim(0, 400)\n",
    "plt.grid(axis='y', linestyle=':')\n",
    "plt.legend(loc='upper left', ncol=3)\n",
    "\n",
    "plt.show()"
   ]
  },
  {
   "cell_type": "markdown",
   "metadata": {},
   "source": [
    "---\n",
    "## 6. 다중 막대 그래프"
   ]
  },
  {
   "cell_type": "code",
   "execution_count": null,
   "metadata": {},
   "outputs": [],
   "source": [
    "import numpy as np\n",
    "np.arange(5)"
   ]
  },
  {
   "cell_type": "code",
   "execution_count": null,
   "metadata": {},
   "outputs": [],
   "source": [
    "arr = np.arange(3, 6)\n",
    "arr + 3"
   ]
  },
  {
   "cell_type": "code",
   "execution_count": null,
   "metadata": {},
   "outputs": [],
   "source": [
    "index = np.arange(df.shape[0])\n",
    "index"
   ]
  },
  {
   "cell_type": "code",
   "execution_count": null,
   "metadata": {},
   "outputs": [],
   "source": [
    "plt.figure(figsize=(15, 5))\n",
    "\n",
    "w = 0.25\n",
    "plt.bar(index-w, df['국어'], width=w, label='국어')\n",
    "plt.bar(index, df['영어'], width=w, label='영어')\n",
    "plt.bar(index+w, df['수학'], width=w, label='수학')\n",
    "plt.ylim(0, 150)\n",
    "plt.legend(ncol=3)"
   ]
  },
  {
   "cell_type": "code",
   "execution_count": null,
   "metadata": {},
   "outputs": [],
   "source": [
    "plt.figure(figsize=(15, 5))\n",
    "plt.title('학생별 성적')\n",
    "\n",
    "w = 0.25\n",
    "plt.bar(index-w, df['국어'], width=w, label='국어')\n",
    "plt.bar(index, df['영어'], width=w, label='영어')\n",
    "plt.bar(index+w, df['수학'], width=w, label='수학')\n",
    "plt.ylim(0, 150)\n",
    "plt.legend(ncol=3)\n",
    "plt.xticks(index, df['이름'], rotation=45)\n",
    "plt.show()"
   ]
  },
  {
   "cell_type": "markdown",
   "metadata": {},
   "source": [
    "---\n",
    "## 7. 원 그래프"
   ]
  },
  {
   "cell_type": "code",
   "execution_count": null,
   "metadata": {},
   "outputs": [],
   "source": [
    "values = [30, 25, 20, 13, 10, 2]\n",
    "labels = ['Python', 'Java', 'JavaScript', 'C#', 'C++', 'ETC']\n",
    "\n",
    "plt.pie(values)\n",
    "plt.show()"
   ]
  },
  {
   "cell_type": "code",
   "execution_count": null,
   "metadata": {},
   "outputs": [],
   "source": [
    "plt.pie(values, labels=labels, autopct='%.1f%%')\n",
    "plt.show()"
   ]
  },
  {
   "cell_type": "code",
   "execution_count": null,
   "metadata": {},
   "outputs": [],
   "source": [
    "plt.pie(values, labels=labels, autopct='%.1f%%', startangle=90)\n",
    "plt.show()"
   ]
  },
  {
   "cell_type": "code",
   "execution_count": null,
   "metadata": {},
   "outputs": [],
   "source": [
    "plt.pie(values, labels=labels, autopct='%.1f%%', startangle=90, counterclock=False)\n",
    "plt.show()"
   ]
  },
  {
   "cell_type": "code",
   "execution_count": null,
   "metadata": {},
   "outputs": [],
   "source": [
    "explode = [0.05] * 6\n",
    "plt.pie(values, labels=labels, explode=explode)\n",
    "plt.show()"
   ]
  },
  {
   "cell_type": "code",
   "execution_count": null,
   "metadata": {},
   "outputs": [],
   "source": [
    "plt.pie(values, labels=labels, explode=explode)\n",
    "plt.legend(loc=(1.2, 0.1))\n",
    "plt.show()"
   ]
  },
  {
   "cell_type": "code",
   "execution_count": null,
   "metadata": {},
   "outputs": [],
   "source": [
    "plt.pie(values, labels=labels, explode=explode)\n",
    "plt.title('언어별 선호도')\n",
    "plt.legend(loc=(1.2, 0.1), title='언어별 선호도')\n",
    "plt.show()"
   ]
  },
  {
   "cell_type": "code",
   "execution_count": null,
   "metadata": {},
   "outputs": [],
   "source": [
    "colors = ['#ffadad', '#ffd6a5', '#fdffb6', '#caffbf', '#9bf6ff', '#a0c4ff']\n",
    "explode = [0.02] * 6\n",
    "\n",
    "plt.pie(values, labels=labels, textprops={'color':\"g\", 'size':10}, autopct='%.1f%%', startangle=90, counterclock=False, colors=colors, explode=explode)\n",
    "plt.show()"
   ]
  },
  {
   "cell_type": "markdown",
   "metadata": {},
   "source": [
    "---\n",
    "## 8. 도넛 그래프"
   ]
  },
  {
   "cell_type": "code",
   "execution_count": null,
   "metadata": {},
   "outputs": [],
   "source": [
    "wedgeprops={'width':0.6}\n",
    "\n",
    "plt.pie(values, labels=labels, textprops={'color':\"g\", 'size':10}, autopct='%.1f%%', startangle=90, counterclock=False, colors=colors, wedgeprops=wedgeprops)\n",
    "plt.show()"
   ]
  },
  {
   "cell_type": "code",
   "execution_count": null,
   "metadata": {},
   "outputs": [],
   "source": [
    "wedgeprops={'width':0.6}\n",
    "\n",
    "plt.pie(values, labels=labels, textprops={'color':\"g\", 'size':10}, autopct='%.1f%%', startangle=90, counterclock=False, colors=colors, explode=explode, wedgeprops=wedgeprops)\n",
    "plt.show()"
   ]
  },
  {
   "cell_type": "code",
   "execution_count": null,
   "metadata": {},
   "outputs": [],
   "source": [
    "wedgeprops={'width':0.6, 'edgecolor':'w', 'linewidth':2}\n",
    "\n",
    "plt.pie(values, labels=labels, textprops={'color':\"g\", 'size':10}, autopct='%.1f%%', startangle=90, counterclock=False, colors=colors, wedgeprops=wedgeprops)\n",
    "plt.show()"
   ]
  },
  {
   "cell_type": "code",
   "execution_count": null,
   "metadata": {},
   "outputs": [],
   "source": [
    "def custom_autopct(pct):\n",
    "    #return ('%.1f%%' % pct) if pct >=10 else ''\n",
    "    return '{:.1f}%'.format(pct) if pct >= 10 else ''\n",
    "\n",
    "plt.pie(values, labels=labels, textprops={'color':\"g\", 'size':10}, autopct=custom_autopct, startangle=90, counterclock=False, colors=colors, wedgeprops=wedgeprops)\n",
    "plt.show()"
   ]
  },
  {
   "cell_type": "code",
   "execution_count": null,
   "metadata": {},
   "outputs": [],
   "source": [
    "plt.pie(values, labels=labels, textprops={'color':\"g\", 'size':10}, autopct=custom_autopct, startangle=90, counterclock=False, colors=colors, wedgeprops=wedgeprops, pctdistance=0.7)\n",
    "plt.show()"
   ]
  },
  {
   "cell_type": "markdown",
   "metadata": {},
   "source": [
    "### 데이터 프레임 이용"
   ]
  },
  {
   "cell_type": "code",
   "execution_count": null,
   "metadata": {},
   "outputs": [],
   "source": [
    "import pandas as pd\n",
    "df = pd.read_excel('data/score.xlsx')\n",
    "grp = df.groupby('학교')\n",
    "\n",
    "values = [grp.size()['북산고'], grp.size()['능남고']]\n",
    "labels = ['북산고', '능남고']\n",
    "\n",
    "plt.pie(values, labels=labels, textprops={'color':\"g\", 'size':10}, autopct=custom_autopct, startangle=90, counterclock=False, colors=colors, wedgeprops=wedgeprops, pctdistance=0.7)\n",
    "plt.title('소속학교')\n",
    "plt.show()"
   ]
  },
  {
   "cell_type": "markdown",
   "metadata": {},
   "source": [
    "---\n",
    "## 9. 산점도 그래프"
   ]
  },
  {
   "cell_type": "code",
   "execution_count": null,
   "metadata": {},
   "outputs": [],
   "source": [
    "plt.scatter(df['영어'], df['수학'])\n",
    "plt.xlabel('영어점수')\n",
    "plt.ylabel('수학점수')"
   ]
  },
  {
   "cell_type": "code",
   "execution_count": null,
   "metadata": {},
   "outputs": [],
   "source": [
    "df['학년'] = [2, 3, 2, 1, 2, 3, 2, 1]\n",
    "sizes = df['영어'] + df['수학']"
   ]
  },
  {
   "cell_type": "code",
   "execution_count": null,
   "metadata": {},
   "outputs": [],
   "source": [
    "plt.scatter(df['영어'], df['수학'], sizes=sizes)\n",
    "plt.xlabel('영어점수')\n",
    "plt.ylabel('수학점수')\n",
    "plt.xlim(0, 120)\n",
    "plt.ylim(0, 120)"
   ]
  },
  {
   "cell_type": "code",
   "execution_count": null,
   "metadata": {},
   "outputs": [],
   "source": [
    "plt.scatter(df['영어'], df['수학'], sizes=sizes, c=df['학년'], cmap='viridis', alpha=0.5)\n",
    "plt.xlabel('영어점수')\n",
    "plt.ylabel('수학점수')\n",
    "plt.xlim(0, 120)\n",
    "plt.ylim(0, 120)"
   ]
  },
  {
   "cell_type": "code",
   "execution_count": null,
   "metadata": {},
   "outputs": [],
   "source": [
    "plt.scatter(df['영어'], df['수학'], sizes=sizes, c=df['학년'], cmap='viridis', alpha=0.5)\n",
    "plt.xlabel('영어점수')\n",
    "plt.ylabel('수학점수')\n",
    "plt.xlim(0, 120)\n",
    "plt.ylim(0, 120)\n",
    "plt.colorbar()"
   ]
  },
  {
   "cell_type": "code",
   "execution_count": null,
   "metadata": {},
   "outputs": [],
   "source": [
    "plt.scatter(df['영어'], df['수학'], sizes=sizes, c=df['학년'], cmap='viridis', alpha=0.5)\n",
    "plt.xlabel('영어점수')\n",
    "plt.ylabel('수학점수')\n",
    "plt.xlim(0, 120)\n",
    "plt.ylim(0, 120)\n",
    "plt.colorbar(ticks=[1,2,3], label='학년', shrink=0.7)"
   ]
  },
  {
   "cell_type": "code",
   "execution_count": null,
   "metadata": {},
   "outputs": [],
   "source": [
    "plt.scatter(df['영어'], df['수학'], sizes=sizes, c=df['학년'], cmap='viridis', alpha=0.5)\n",
    "plt.xlabel('영어점수')\n",
    "plt.ylabel('수학점수')\n",
    "plt.xlim(0, 120)\n",
    "plt.ylim(0, 120)\n",
    "plt.colorbar(ticks=[1,2,3], label='학년', shrink=0.7, orientation='horizontal')"
   ]
  },
  {
   "cell_type": "markdown",
   "metadata": {},
   "source": [
    "___\n",
    "## 10. 멀티 그래프"
   ]
  },
  {
   "cell_type": "markdown",
   "metadata": {},
   "source": [
    "### 분할 그래프"
   ]
  },
  {
   "cell_type": "code",
   "execution_count": 20,
   "metadata": {},
   "outputs": [
    {
     "data": {
      "text/plain": [
       "[<matplotlib.lines.Line2D at 0x2aefc4b99f0>]"
      ]
     },
     "execution_count": 20,
     "metadata": {},
     "output_type": "execute_result"
    },
    {
     "data": {
      "image/png": "[encoded data removed]",
      "text/plain": [
       "<Figure size 1080x432 with 2 Axes>"
      ]
     },
     "metadata": {
      "needs_background": "light"
     },
     "output_type": "display_data"
    }
   ],
   "source": [
    "plt.figure(figsize=(15,6))\n",
    "plt.subplot(121)\n",
    "plt.bar(df['이름'], df['국어'], label='국어점수')\n",
    "plt.subplot(122)\n",
    "plt.plot(df['이름'], df['수학'], label='수학')\n"
   ]
  },
  {
   "cell_type": "code",
   "execution_count": 22,
   "metadata": {},
   "outputs": [
    {
     "data": {
      "text/plain": [
       "Text(0.5, 1.0, '사회')"
      ]
     },
     "execution_count": 22,
     "metadata": {},
     "output_type": "execute_result"
    },
    {
     "data": {
      "image/png": "[encoded data removed]",
      "text/plain": [
       "<Figure size 1440x864 with 4 Axes>"
      ]
     },
     "metadata": {
      "needs_background": "light"
     },
     "output_type": "display_data"
    }
   ],
   "source": [
    "fig, axs = plt.subplots(2, 2, figsize=(20, 12))\n",
    "fig.suptitle('여러 그래프 넣기')\n",
    "\n",
    "axs[0, 0].bar(df['이름'], df['국어'], label='국어점수')\n",
    "axs[0, 0].set_title('국어점수')\n",
    "axs[0, 0].legend()\n",
    "axs[0, 0].set(xlabel='이름', ylabel='점수')\n",
    "axs[0, 0].set_facecolor('lightyellow')\n",
    "axs[0, 0].grid(linestyle=':', linewidth=0.5)\n",
    "\n",
    "axs[0, 1].plot(df['이름'], df['수학'], label='수학')\n",
    "axs[0, 1].plot(df['이름'], df['영어'], label='영어')\n",
    "axs[0, 1].set_title('수학/영어')\n",
    "axs[0, 1].legend()\n",
    "\n",
    "axs[1, 0].barh(df['이름'], df['키'])\n",
    "axs[1, 0].set_title('키')\n",
    "\n",
    "axs[1, 1].plot(df['이름'], df['사회'], color='green', alpha=0.5)\n",
    "axs[1, 1].set_title('사회')"
   ]
  },
  {
   "cell_type": "markdown",
   "metadata": {},
   "source": [
    "### 다축 그래프"
   ]
  },
  {
   "cell_type": "code",
   "execution_count": null,
   "metadata": {},
   "outputs": [],
   "source": [
    "df_baby = pd.read_excel('data/baby_142801.xls', skiprows=2, nrows=2, index_col=0)\n",
    "df_baby.index = ['출생아수', '합계출산율']\n",
    "df_baby = df_baby.T\n",
    "\n",
    "fig, ax1 = plt.subplots(figsize=(13, 5))\n",
    "fig.suptitle('출생아수 및 합계출산율')\n",
    "\n",
    "ax1.set_ylabel('출생아 수(천명')\n",
    "ax1.set_ylim(250, 700)\n",
    "ax1.set_yticks([300, 400, 500, 600])\n",
    "ax1.bar(df_baby.index, df_baby['출생아수'], color='#ff812d')\n",
    "for idx, val in enumerate(df_baby['출생아수']):\n",
    "    ax1.text(idx, val+12, val, ha='center')\n",
    "\n",
    "ax2 = ax1.twinx() # X축을 공유하는 쌍둥이 axis\n",
    "ax2.set_ylabel('합계 출산율(가임여성 1명당 명)')\n",
    "ax2.set_ylim(0, 1.5)\n",
    "ax2.set_yticks([0, 1])\n",
    "ax2.plot(df_baby.index, df_baby['합계출산율'], marker='o', color='#ffd100', ms=15, lw=5, mec='w', mew=3)\n",
    "for idx, val in enumerate(df_baby['합계출산율']):\n",
    "    ax2.text(idx, val+0.08, val, ha='center')"
   ]
  },
  {
   "cell_type": "markdown",
   "metadata": {},
   "source": [
    "---\n",
    "## 11. 시각화 응용"
   ]
  },
  {
   "cell_type": "markdown",
   "metadata": {},
   "source": [
    "### 인구 피라미드"
   ]
  },
  {
   "cell_type": "code",
   "execution_count": null,
   "metadata": {},
   "outputs": [],
   "source": [
    "df_m = pd.read_excel('data/people_2011.xlsx', skiprows=3, index_col='행정기관', usecols='B, E:Y')\n",
    "df_w = pd.read_excel('data/people_2011.xlsx', skiprows=3, index_col='행정기관', usecols='B, AB:AV')\n",
    "df_w.columns = df_m.columns\n",
    "\n",
    "df = pd.DataFrame(index=df_m.columns)\n",
    "\n",
    "df.index.name = 'age'\n",
    "df['man'] = df_m.iloc[0].str.replace(',', '').astype(int)\n",
    "df['woman'] = df_w.iloc[0].str.replace(',', '').astype(int)\n",
    "\n",
    "plt.barh(df.index, -df.man/1000)\n",
    "plt.barh(df.index, df.woman/1000)\n",
    "plt.title('2011 대한민국 인구 피라미드')\n",
    "plt.show()"
   ]
  }
 ],
 "metadata": {
  "interpreter": {
   "hash": "64f9ead12e17e7fa860195ad99dbd5fa0bc7fe60cbbff9fa5d575a3140ec7535"
  },
  "kernelspec": {
   "display_name": "Python 3.10.2 64-bit",
   "language": "python",
   "name": "python3"
  },
  "language_info": {
   "codemirror_mode": {
    "name": "ipython",
    "version": 3
   },
   "file_extension": ".py",
   "mimetype": "text/x-python",
   "name": "python",
   "nbconvert_exporter": "python",
   "pygments_lexer": "ipython3",
   "version": "3.10.2"
  },
  "orig_nbformat": 4
 },
 "nbformat": 4,
 "nbformat_minor": 2
}
