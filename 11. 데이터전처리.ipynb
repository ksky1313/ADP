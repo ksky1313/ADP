{
 "cells": [
  {
   "cell_type": "code",
   "execution_count": null,
   "metadata": {},
   "outputs": [],
   "source": [
    "import pandas as pd\n",
    "import numpy as np\n",
    "\n",
    "import ADPLearn as adp\n",
    "\n",
    "# 시각화\n",
    "import matplotlib.pyplot as plt\n",
    "import seaborn as sns\n",
    "sns.set(style='darkgrid')\n",
    "\n",
    "plt.rcParams['figure.figsize'] = (7, 15)\n",
    "plt.rcParams['font.family'] = 'Malgun Gothic'\n",
    "plt.rcParams['font.size'] = 12\n",
    "plt.rcParams['axes.unicode_minus'] = False\n",
    "\n",
    "%matplotlib inline"
   ]
  },
  {
   "cell_type": "code",
   "execution_count": 381,
   "metadata": {},
   "outputs": [],
   "source": [
    "department.gender = department.gender.astype(object)"
   ]
  },
  {
   "cell_type": "code",
   "execution_count": 416,
   "metadata": {},
   "outputs": [],
   "source": [
    "def eda_chart(df, kind, **krargs):\n",
    "    \"\"\"_summary_\n",
    "        kind\n",
    "    Args:\n",
    "        df (_type_): _description_\n",
    "        kind (str): None\n",
    "            - corr, pair\n",
    "            - c1_n1_box, c1_n1_strip, c1_n1_violin\n",
    "            - c1_n1_h1_violin\n",
    "    \"\"\"\n",
    "    c, n, hue = None, None, None\n",
    "    for k, v in krargs.items():\n",
    "        if k=='c':\n",
    "            c = krargs['c']\n",
    "        elif k=='n':\n",
    "            n = krargs['n']\n",
    "        elif k=='hue':\n",
    "            hue = krargs['hue']\n",
    "    \n",
    "    ## 상관관계 그래프\n",
    "    if kind == 'corr':\n",
    "        sns.heatmap(df.corr(), annot=True, vmax = 1,vmin = -1, \n",
    "                    cmap='coolwarm', linewidths=.5, fmt='.2f').set_title('Correlation')\n",
    "    elif kind == 'na_heat':\n",
    "        sns.heatmap(df[df.columns[df.dtypes != 'object']].T, \n",
    "                    cmap='Greens', linewidths=.5,).set_title('num_range')\n",
    "    elif kind == 'pair':\n",
    "        g = sns.pairplot(df, hue=hue, corner=True)\n",
    "        g.fig.subplots_adjust(top=0.95)\n",
    "        g.fig.suptitle('Pair')\n",
    "    elif kind == 'c1_n1_box':\n",
    "        g =sns.catplot(x=n, y=c, data=df, kind='box')\n",
    "        g.fig.subplots_adjust(top=0.95)\n",
    "        g.fig.suptitle(c)\n",
    "    elif kind == 'c1_n1_strip':\n",
    "        g =sns.catplot(x=n, y=c, data=df, kind='strip', alpha=.7, s=3)\n",
    "        g.fig.subplots_adjust(top=0.95)\n",
    "        g.fig.suptitle(c)\n",
    "    elif kind == 'c1_n1_violin':\n",
    "        g =sns.catplot(x=n, y=c, data=df, kind='violin', palette=\"coolwarm\")\n",
    "        g.fig.subplots_adjust(top=0.95)\n",
    "        g.fig.suptitle(c)\n",
    "    elif kind == 'c1_n1_h1_violin':\n",
    "        g =sns.catplot(x=c, y=n, data=df, hue=hue, kind='violin', alpha=.7, split=True)\n",
    "        g.fig.subplots_adjust(top=0.95)\n",
    "        g.fig.suptitle(c)\n",
    "    plt.show()"
   ]
  },
  {
   "cell_type": "markdown",
   "metadata": {},
   "source": [
    "## 3). 변수축소 - 주성분 & 요인분석\n",
    "\n",
    "| 주성분분석 | 요인분석 |\n",
    "| --- | --- |\n",
    "| 관찰기술(요인분석 유형) | 모델링 기술 |\n",
    "| 최대 분산양 설명 | 데이터의 공분산을 설명 |\n",
    "| 관측된 변수의 선형 조합 | 미관측 변수/요인 선형조합 |\n",
    "| 구성요소 해석 불가 | 레이블링 및 해석 가능 |\n",
    "| 차원 축소법 | 잠재변수 방법 |"
   ]
  },
  {
   "cell_type": "markdown",
   "metadata": {},
   "source": [
    "3. 주성분분석 실행"
   ]
  },
  {
   "cell_type": "code",
   "execution_count": null,
   "metadata": {},
   "outputs": [],
   "source": [
    "ncom, cev, loadings, pca_df = adp.pca(scaled_df, 0.85)"
   ]
  },
  {
   "cell_type": "markdown",
   "metadata": {},
   "source": [
    "4. 주성분분석 결과 확인"
   ]
  },
  {
   "cell_type": "code",
   "execution_count": null,
   "metadata": {},
   "outputs": [],
   "source": [
    "print('최적 요인 수: {}\\n누적 성분 분산량: {:.3f}'.format(ncom, cev))"
   ]
  },
  {
   "cell_type": "code",
   "execution_count": null,
   "metadata": {},
   "outputs": [],
   "source": [
    "loadings"
   ]
  },
  {
   "cell_type": "code",
   "execution_count": null,
   "metadata": {},
   "outputs": [],
   "source": [
    "pca_df.head(5)"
   ]
  },
  {
   "cell_type": "markdown",
   "metadata": {},
   "source": [
    "### (2) 요인분석"
   ]
  },
  {
   "cell_type": "markdown",
   "metadata": {},
   "source": [
    "1. ADPLearn 모듈과 데이터를 로드"
   ]
  },
  {
   "cell_type": "code",
   "execution_count": null,
   "metadata": {},
   "outputs": [],
   "source": [
    "swiss, _ = adp.loaddata('swiss')\n",
    "swiss.head(3)"
   ]
  },
  {
   "cell_type": "markdown",
   "metadata": {},
   "source": [
    "2. 데이터 표준정규화"
   ]
  },
  {
   "cell_type": "code",
   "execution_count": null,
   "metadata": {},
   "outputs": [],
   "source": [
    "# 표준 정규화\n",
    "scaled_df = adp.scaler(swiss, 'standard')\n",
    "scaled_df.head(3)"
   ]
  },
  {
   "cell_type": "markdown",
   "metadata": {},
   "source": [
    "3. 요인분석 적정성 검사\n",
    "    - bartlett: 상관행렬이 항등행렬(변수간 관련이 없음)이라는 귀무가설 검정\n",
    "    - kmo : 변수간 편상관(인자가 서로를 설명) 강도 조사, 1에 가까울 수록 유리"
   ]
  },
  {
   "cell_type": "code",
   "execution_count": null,
   "metadata": {},
   "outputs": [],
   "source": [
    "test = ['bartlett', 'kmo']\n",
    "\n",
    "for t in test:\n",
    "    t_r, tr_pass = adp.test_fa(scaled_df, t)\n",
    "    print('{} test: {}\\n{}'.format(t, 'Pass' if tr_pass else 'Fail', t_r))"
   ]
  },
  {
   "cell_type": "markdown",
   "metadata": {},
   "source": [
    "4. 요인분석 실행"
   ]
  },
  {
   "cell_type": "code",
   "execution_count": null,
   "metadata": {},
   "outputs": [],
   "source": [
    "ncom, cev, loadings, fa_df = adp.factor_analysis(scaled_df, 0.85)"
   ]
  },
  {
   "cell_type": "markdown",
   "metadata": {},
   "source": [
    "4. 요인분석 결과 확인\n",
    "    - Cumulative Eigen Value : 전체 변수에 대한 설명력"
   ]
  },
  {
   "cell_type": "code",
   "execution_count": null,
   "metadata": {},
   "outputs": [],
   "source": [
    "print('최적 요인 수: {}\\n누적 아이젠 값: {:.3f}'.format(ncom, cev))"
   ]
  },
  {
   "cell_type": "code",
   "execution_count": null,
   "metadata": {},
   "outputs": [],
   "source": [
    "loadings"
   ]
  },
  {
   "cell_type": "code",
   "execution_count": null,
   "metadata": {},
   "outputs": [],
   "source": [
    "fa_df.head(5)"
   ]
  },
  {
   "cell_type": "markdown",
   "metadata": {},
   "source": [
    "5. 요인분석 결과 검증\n",
    "    - 크론바흐 알파: 주어진 변수들이 한개 그룹에 속할 수 있는지 내적일관성 측정, 0.7 이상이면 우수"
   ]
  },
  {
   "cell_type": "code",
   "execution_count": null,
   "metadata": {},
   "outputs": [],
   "source": [
    "t_r = adp.cronbach_alpha(scaled_df, loadings, 0.3)"
   ]
  }
 ],
 "metadata": {
  "interpreter": {
   "hash": "3a62acb4892a1993361d61c676e96682b17de90bab01abcab6896207c5749e6d"
  },
  "kernelspec": {
   "display_name": "Python 3.10.2 64-bit",
   "language": "python",
   "name": "python3"
  },
  "language_info": {
   "codemirror_mode": {
    "name": "ipython",
    "version": 3
   },
   "file_extension": ".py",
   "mimetype": "text/x-python",
   "name": "python",
   "nbconvert_exporter": "python",
   "pygments_lexer": "ipython3",
   "version": "3.10.2"
  },
  "orig_nbformat": 4
 },
 "nbformat": 4,
 "nbformat_minor": 2
}
