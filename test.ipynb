{
 "cells": [
  {
   "cell_type": "code",
   "execution_count": 16,
   "metadata": {},
   "outputs": [],
   "source": [
    "import pandas as pd\n",
    "from sklearn.datasets import load_iris\n",
    "\n",
    "import matplotlib.pyplot as plt\n",
    "import seaborn as sns\n",
    "plt.rcParams['figure.figsize'] = (7, 5)\n",
    "plt.rcParams['font.family'] = 'Malgun Gothic'\n",
    "plt.rcParams['font.size'] = 12\n",
    "plt.rcParams['axes.unicode_minus'] = False\n",
    "%matplotlib inline"
   ]
  },
  {
   "cell_type": "code",
   "execution_count": 1,
   "metadata": {},
   "outputs": [
    {
     "ename": "NameError",
     "evalue": "name 'i' is not defined",
     "output_type": "error",
     "traceback": [
      "\u001b[1;31m---------------------------------------------------------------------------\u001b[0m",
      "\u001b[1;31mNameError\u001b[0m                                 Traceback (most recent call last)",
      "\u001b[1;32me:\\ADP\\test.ipynb Cell 2'\u001b[0m in \u001b[0;36m<cell line: 3>\u001b[1;34m()\u001b[0m\n\u001b[0;32m      <a href='vscode-notebook-cell:/e%3A/ADP/test.ipynb#ch0000001?line=0'>1</a>\u001b[0m \u001b[39mimport\u001b[39;00m \u001b[39mADPLearn\u001b[39;00m \u001b[39mas\u001b[39;00m \u001b[39madp\u001b[39;00m\n\u001b[1;32m----> <a href='vscode-notebook-cell:/e%3A/ADP/test.ipynb#ch0000001?line=2'>3</a>\u001b[0m i\n",
      "\u001b[1;31mNameError\u001b[0m: name 'i' is not defined"
     ]
    }
   ],
   "source": [
    "import ADPLearn as adp\n",
    "\n",
    "i"
   ]
  },
  {
   "cell_type": "code",
   "execution_count": 98,
   "metadata": {},
   "outputs": [
    {
     "data": {
      "image/png": "[encoded data removed]",
      "text/plain": [
       "<Figure size 504x360 with 2 Axes>"
      ]
     },
     "metadata": {
      "needs_background": "light"
     },
     "output_type": "display_data"
    }
   ],
   "source": [
    "corr_plot(df, 'heatmap')"
   ]
  },
  {
   "cell_type": "code",
   "execution_count": 105,
   "metadata": {},
   "outputs": [
    {
     "data": {
      "text/plain": [
       "Unnamed: 0    False\n",
       "Murder         True\n",
       "Assault        True\n",
       "UrbanPop       True\n",
       "Rape           True\n",
       "dtype: bool"
      ]
     },
     "execution_count": 105,
     "metadata": {},
     "output_type": "execute_result"
    }
   ],
   "source": [
    "df.dtypes != object\n",
    "# fig, ax = plt.subplots(2, 2, figsize=(20, 12))"
   ]
  },
  {
   "cell_type": "code",
   "execution_count": 13,
   "metadata": {},
   "outputs": [
    {
     "ename": "NameError",
     "evalue": "name 'corr_plot' is not defined",
     "output_type": "error",
     "traceback": [
      "\u001b[1;31m---------------------------------------------------------------------------\u001b[0m",
      "\u001b[1;31mNameError\u001b[0m                                 Traceback (most recent call last)",
      "\u001b[1;32me:\\ADP\\test.ipynb Cell 7'\u001b[0m in \u001b[0;36m<cell line: 1>\u001b[1;34m()\u001b[0m\n\u001b[1;32m----> <a href='vscode-notebook-cell:/e%3A/ADP/test.ipynb#ch0000006?line=0'>1</a>\u001b[0m corr_plot(df, \u001b[39m'\u001b[39m\u001b[39mheatmap\u001b[39m\u001b[39m'\u001b[39m)\n",
      "\u001b[1;31mNameError\u001b[0m: name 'corr_plot' is not defined"
     ]
    }
   ],
   "source": [
    "corr_plot(df, 'heatmap')"
   ]
  },
  {
   "cell_type": "code",
   "execution_count": null,
   "metadata": {},
   "outputs": [],
   "source": []
  },
  {
   "cell_type": "code",
   "execution_count": null,
   "metadata": {},
   "outputs": [
    {
     "data": {
      "text/plain": [
       "<AxesSubplot:>"
      ]
     },
     "execution_count": 89,
     "metadata": {},
     "output_type": "execute_result"
    },
    {
     "data": {
      "image/png": "[encoded data removed]",
      "text/plain": [
       "<Figure size 504x360 with 1 Axes>"
      ]
     },
     "metadata": {
      "needs_background": "light"
     },
     "output_type": "display_data"
    }
   ],
   "source": [
    "airquality.Ozone.plot.box()"
   ]
  },
  {
   "cell_type": "code",
   "execution_count": null,
   "metadata": {},
   "outputs": [],
   "source": [
    "Q1, Q3 = airquality.Ozone.quantile([.25, .75])\n",
    "L_M, U_M = Q1-(Q3-Q1)*1.5, Q3+(Q3-Q1)*1.5\n",
    "\n",
    "upperOutlier = airquality.query(\"Ozone > @U_M\")\n",
    "lowerOutlier = airquality.query(\"Ozone < @L_M\")"
   ]
  },
  {
   "cell_type": "code",
   "execution_count": 96,
   "metadata": {},
   "outputs": [
    {
     "data": {
      "text/html": [
       "<div>\n",
       "<style scoped>\n",
       "    .dataframe tbody tr th:only-of-type {\n",
       "        vertical-align: middle;\n",
       "    }\n",
       "\n",
       "    .dataframe tbody tr th {\n",
       "        vertical-align: top;\n",
       "    }\n",
       "\n",
       "    .dataframe thead th {\n",
       "        text-align: right;\n",
       "    }\n",
       "</style>\n",
       "<table border=\"1\" class=\"dataframe\">\n",
       "  <thead>\n",
       "    <tr style=\"text-align: right;\">\n",
       "      <th></th>\n",
       "      <th>ID</th>\n",
       "      <th>Name</th>\n",
       "      <th>Age</th>\n",
       "      <th>Nationality</th>\n",
       "      <th>Overall</th>\n",
       "      <th>Club</th>\n",
       "      <th>Preferred_Foot</th>\n",
       "      <th>Work_Rate</th>\n",
       "      <th>Position</th>\n",
       "      <th>Jersey_Number</th>\n",
       "      <th>Contract_Valid_Until</th>\n",
       "      <th>Height</th>\n",
       "      <th>Weight_lb</th>\n",
       "      <th>Release_Clause</th>\n",
       "      <th>Value</th>\n",
       "      <th>Wage</th>\n",
       "    </tr>\n",
       "  </thead>\n",
       "  <tbody>\n",
       "    <tr>\n",
       "      <th>0</th>\n",
       "      <td>158023</td>\n",
       "      <td>L. Messi</td>\n",
       "      <td>31</td>\n",
       "      <td>Argentina</td>\n",
       "      <td>94</td>\n",
       "      <td>FC Barcelona</td>\n",
       "      <td>Left</td>\n",
       "      <td>Medium/ Medium</td>\n",
       "      <td>RF</td>\n",
       "      <td>10</td>\n",
       "      <td>2021</td>\n",
       "      <td>5'7</td>\n",
       "      <td>159</td>\n",
       "      <td>226500</td>\n",
       "      <td>110500</td>\n",
       "      <td>565</td>\n",
       "    </tr>\n",
       "    <tr>\n",
       "      <th>1</th>\n",
       "      <td>20801</td>\n",
       "      <td>Cristiano Ronaldo</td>\n",
       "      <td>33</td>\n",
       "      <td>Portugal</td>\n",
       "      <td>94</td>\n",
       "      <td>Juventus</td>\n",
       "      <td>Right</td>\n",
       "      <td>High/ Low</td>\n",
       "      <td>ST</td>\n",
       "      <td>7</td>\n",
       "      <td>2022</td>\n",
       "      <td>6'2</td>\n",
       "      <td>183</td>\n",
       "      <td>127100</td>\n",
       "      <td>77000</td>\n",
       "      <td>405</td>\n",
       "    </tr>\n",
       "    <tr>\n",
       "      <th>2</th>\n",
       "      <td>190871</td>\n",
       "      <td>Neymar Jr</td>\n",
       "      <td>26</td>\n",
       "      <td>Brazil</td>\n",
       "      <td>92</td>\n",
       "      <td>Paris Saint-Germain</td>\n",
       "      <td>Right</td>\n",
       "      <td>High/ Medium</td>\n",
       "      <td>LW</td>\n",
       "      <td>10</td>\n",
       "      <td>2022</td>\n",
       "      <td>5'9</td>\n",
       "      <td>150</td>\n",
       "      <td>228100</td>\n",
       "      <td>118500</td>\n",
       "      <td>290</td>\n",
       "    </tr>\n",
       "  </tbody>\n",
       "</table>\n",
       "</div>"
      ],
      "text/plain": [
       "       ID               Name  Age Nationality  Overall                 Club  \\\n",
       "0  158023           L. Messi   31   Argentina       94         FC Barcelona   \n",
       "1   20801  Cristiano Ronaldo   33    Portugal       94             Juventus   \n",
       "2  190871          Neymar Jr   26      Brazil       92  Paris Saint-Germain   \n",
       "\n",
       "  Preferred_Foot       Work_Rate Position  Jersey_Number  \\\n",
       "0           Left  Medium/ Medium       RF             10   \n",
       "1          Right       High/ Low       ST              7   \n",
       "2          Right    High/ Medium       LW             10   \n",
       "\n",
       "   Contract_Valid_Until Height  Weight_lb  Release_Clause   Value  Wage  \n",
       "0                  2021    5'7        159          226500  110500   565  \n",
       "1                  2022    6'2        183          127100   77000   405  \n",
       "2                  2022    5'9        150          228100  118500   290  "
      ]
     },
     "execution_count": 96,
     "metadata": {},
     "output_type": "execute_result"
    }
   ],
   "source": [
    "import pandas as pd\n",
    "import ADPLearn as adp\n",
    "import numpy as np\n",
    "\n",
    "# 데이터 로드 & 확인\n",
    "fifa = pd.read_pickle('https://github.com/ksky1313/ADP/raw/main/data/fifa.pk')\n",
    "fifa.head(3)"
   ]
  },
  {
   "cell_type": "markdown",
   "metadata": {},
   "source": [
    "### ADP 데이터 모의고사(데이터 에듀)\n",
    "1. FIFA 데이터 선수의 키는 Height 변수에 피트와 인치로 입력되어 있다.\n",
    "    - 이를 cm로 변환하여 새로운 변수 'Height_cm'을 생성하시오."
   ]
  },
  {
   "cell_type": "code",
   "execution_count": 110,
   "metadata": {},
   "outputs": [
    {
     "name": "stdout",
     "output_type": "stream",
     "text": [
      "Cat:  ['Name', 'Nationality', 'Club', 'Preferred_Foot', 'Work_Rate', 'Position', 'Height']\n",
      "Num:  ['ID', 'Age', 'Overall', 'Jersey_Number', 'Contract_Valid_Until', 'Weight_lb', 'Release_Clause', 'Value', 'Wage', 'Height_cm']\n"
     ]
    }
   ],
   "source": [
    "# 데이터 구성 확인\n",
    "print(\"Cat: \", list(fifa.columns[fifa.dtypes == 'object']))\n",
    "print(\"Num: \", list(fifa.columns[fifa.dtypes != 'object']))"
   ]
  },
  {
   "cell_type": "code",
   "execution_count": 98,
   "metadata": {},
   "outputs": [
    {
     "data": {
      "text/html": [
       "<div>\n",
       "<style scoped>\n",
       "    .dataframe tbody tr th:only-of-type {\n",
       "        vertical-align: middle;\n",
       "    }\n",
       "\n",
       "    .dataframe tbody tr th {\n",
       "        vertical-align: top;\n",
       "    }\n",
       "\n",
       "    .dataframe thead th {\n",
       "        text-align: right;\n",
       "    }\n",
       "</style>\n",
       "<table border=\"1\" class=\"dataframe\">\n",
       "  <thead>\n",
       "    <tr style=\"text-align: right;\">\n",
       "      <th></th>\n",
       "      <th>Height</th>\n",
       "    </tr>\n",
       "  </thead>\n",
       "  <tbody>\n",
       "    <tr>\n",
       "      <th>0</th>\n",
       "      <td>5'7</td>\n",
       "    </tr>\n",
       "    <tr>\n",
       "      <th>1</th>\n",
       "      <td>6'2</td>\n",
       "    </tr>\n",
       "    <tr>\n",
       "      <th>2</th>\n",
       "      <td>5'9</td>\n",
       "    </tr>\n",
       "    <tr>\n",
       "      <th>3</th>\n",
       "      <td>6'4</td>\n",
       "    </tr>\n",
       "    <tr>\n",
       "      <th>4</th>\n",
       "      <td>5'11</td>\n",
       "    </tr>\n",
       "  </tbody>\n",
       "</table>\n",
       "</div>"
      ],
      "text/plain": [
       "  Height\n",
       "0    5'7\n",
       "1    6'2\n",
       "2    5'9\n",
       "3    6'4\n",
       "4   5'11"
      ]
     },
     "execution_count": 98,
     "metadata": {},
     "output_type": "execute_result"
    }
   ],
   "source": [
    "# Height 데이터 확인\n",
    "# ex) 5'7 = 5feet 7inch, 1 feet = 30.48cm, 1 inch = 2.54cm\n",
    "fifa[['Height']].head()"
   ]
  },
  {
   "cell_type": "code",
   "execution_count": 101,
   "metadata": {},
   "outputs": [
    {
     "data": {
      "text/html": [
       "<div>\n",
       "<style scoped>\n",
       "    .dataframe tbody tr th:only-of-type {\n",
       "        vertical-align: middle;\n",
       "    }\n",
       "\n",
       "    .dataframe tbody tr th {\n",
       "        vertical-align: top;\n",
       "    }\n",
       "\n",
       "    .dataframe thead th {\n",
       "        text-align: right;\n",
       "    }\n",
       "</style>\n",
       "<table border=\"1\" class=\"dataframe\">\n",
       "  <thead>\n",
       "    <tr style=\"text-align: right;\">\n",
       "      <th></th>\n",
       "      <th>Height_cm</th>\n",
       "    </tr>\n",
       "  </thead>\n",
       "  <tbody>\n",
       "    <tr>\n",
       "      <th>0</th>\n",
       "      <td>170.18</td>\n",
       "    </tr>\n",
       "    <tr>\n",
       "      <th>1</th>\n",
       "      <td>187.96</td>\n",
       "    </tr>\n",
       "    <tr>\n",
       "      <th>2</th>\n",
       "      <td>175.26</td>\n",
       "    </tr>\n",
       "    <tr>\n",
       "      <th>3</th>\n",
       "      <td>193.04</td>\n",
       "    </tr>\n",
       "    <tr>\n",
       "      <th>4</th>\n",
       "      <td>180.34</td>\n",
       "    </tr>\n",
       "  </tbody>\n",
       "</table>\n",
       "</div>"
      ],
      "text/plain": [
       "   Height_cm\n",
       "0     170.18\n",
       "1     187.96\n",
       "2     175.26\n",
       "3     193.04\n",
       "4     180.34"
      ]
     },
     "execution_count": 101,
     "metadata": {},
     "output_type": "execute_result"
    }
   ],
   "source": [
    "# 피트를 cm로 변환하는 함수\n",
    "def feet_to_cm(feet):\n",
    "    f, i = feet.split(\"'\")\n",
    "    return float(f) * 30.48 + float(i) * 2.54\n",
    "\n",
    "# 피트를 cm로 변환하여 'Height_cm' 컬럼에 저장\n",
    "fifa['Height_cm'] = fifa.Height.apply(feet_to_cm)\n",
    "fifa[['Height_cm']].head()"
   ]
  },
  {
   "cell_type": "markdown",
   "metadata": {},
   "source": [
    "2) 포지션을 의미하는 Position 변수를 아래 표를 참고하여 \n",
    "    - \"Forward\", \"Midfielder\", \"Defender\", \"GoalKeeper\"로 범주화하고 \n",
    "    - factor 형으로 변환하여 Position_Class라는 변수를 저장하시오.\n",
    "        * Forward : LS, ST, RS, LW, LF, CF, RF, RW\n",
    "        * Midfielder : LAM, CAM, RAM, LM, LCM, CM, RCM, RM\n",
    "        * Defender : LWB, LDM, DCM, RDM, RWB, LB, LCB, CB, RCB, RB\n",
    "        * GoalKeeper : GK\n",
    "    "
   ]
  },
  {
   "cell_type": "code",
   "execution_count": 109,
   "metadata": {},
   "outputs": [
    {
     "data": {
      "text/plain": [
       "27"
      ]
     },
     "execution_count": 109,
     "metadata": {},
     "output_type": "execute_result"
    }
   ],
   "source": [
    "# 전에 범주의 갯수를 확인\n",
    "fifa.Position.nunique()"
   ]
  },
  {
   "cell_type": "code",
   "execution_count": 126,
   "metadata": {},
   "outputs": [
    {
     "data": {
      "text/html": [
       "<div>\n",
       "<style scoped>\n",
       "    .dataframe tbody tr th:only-of-type {\n",
       "        vertical-align: middle;\n",
       "    }\n",
       "\n",
       "    .dataframe tbody tr th {\n",
       "        vertical-align: top;\n",
       "    }\n",
       "\n",
       "    .dataframe thead th {\n",
       "        text-align: right;\n",
       "    }\n",
       "</style>\n",
       "<table border=\"1\" class=\"dataframe\">\n",
       "  <thead>\n",
       "    <tr style=\"text-align: right;\">\n",
       "      <th></th>\n",
       "      <th>Position_Class</th>\n",
       "    </tr>\n",
       "  </thead>\n",
       "  <tbody>\n",
       "    <tr>\n",
       "      <th>0</th>\n",
       "      <td>Forward</td>\n",
       "    </tr>\n",
       "    <tr>\n",
       "      <th>1</th>\n",
       "      <td>Forward</td>\n",
       "    </tr>\n",
       "    <tr>\n",
       "      <th>2</th>\n",
       "      <td>Forward</td>\n",
       "    </tr>\n",
       "    <tr>\n",
       "      <th>3</th>\n",
       "      <td>GoalKeeper</td>\n",
       "    </tr>\n",
       "    <tr>\n",
       "      <th>4</th>\n",
       "      <td>Midfielder</td>\n",
       "    </tr>\n",
       "    <tr>\n",
       "      <th>...</th>\n",
       "      <td>...</td>\n",
       "    </tr>\n",
       "    <tr>\n",
       "      <th>16637</th>\n",
       "      <td>Midfielder</td>\n",
       "    </tr>\n",
       "    <tr>\n",
       "      <th>16638</th>\n",
       "      <td>Forward</td>\n",
       "    </tr>\n",
       "    <tr>\n",
       "      <th>16639</th>\n",
       "      <td>Forward</td>\n",
       "    </tr>\n",
       "    <tr>\n",
       "      <th>16640</th>\n",
       "      <td>Forward</td>\n",
       "    </tr>\n",
       "    <tr>\n",
       "      <th>16641</th>\n",
       "      <td>Midfielder</td>\n",
       "    </tr>\n",
       "  </tbody>\n",
       "</table>\n",
       "<p>16642 rows × 1 columns</p>\n",
       "</div>"
      ],
      "text/plain": [
       "      Position_Class\n",
       "0            Forward\n",
       "1            Forward\n",
       "2            Forward\n",
       "3         GoalKeeper\n",
       "4         Midfielder\n",
       "...              ...\n",
       "16637     Midfielder\n",
       "16638        Forward\n",
       "16639        Forward\n",
       "16640        Forward\n",
       "16641     Midfielder\n",
       "\n",
       "[16642 rows x 1 columns]"
      ]
     },
     "execution_count": 126,
     "metadata": {},
     "output_type": "execute_result"
    }
   ],
   "source": [
    "# 범주화\n",
    "Forward = [ 'LS', 'ST', 'RS', 'LW', 'LF', 'CF', 'RF', 'RW' ]\n",
    "Midfielder = [ 'LAM', 'CAM', 'RAM', 'LM', 'LCM', 'CM', 'RCM', 'RM' ]\n",
    "Defender = [ 'LWB', 'LDM', 'DCM', 'RDM', 'RWB', 'LB', 'LCB', 'CB', 'RCB', 'RB' ]\n",
    "GoalKeeper = [ 'GK' ]\n",
    "\n",
    "fifa['Position_Class'] = np.where( np.isin(fifa.Position, Forward), 'Forward',\n",
    "    np.where( np.isin(fifa.Position, Midfielder), 'Midfielder',\n",
    "        np.where( np.isin(fifa.Position, Defender), 'Defender', 'GoalKeeper')\n",
    "    )\n",
    ")\n",
    "fifa[['Position_Class']]"
   ]
  },
  {
   "cell_type": "code",
   "execution_count": 137,
   "metadata": {},
   "outputs": [
    {
     "data": {
      "text/plain": [
       "Defender      5890\n",
       "Midfielder    4935\n",
       "Forward       3044\n",
       "GoalKeeper    2773\n",
       "Name: Position_Class, dtype: int64"
      ]
     },
     "execution_count": 137,
     "metadata": {},
     "output_type": "execute_result"
    }
   ],
   "source": [
    "# 결과 & 데이터 타입 확인\n",
    "fifa.Position_Class.value_counts()"
   ]
  },
  {
   "cell_type": "code",
   "execution_count": 141,
   "metadata": {},
   "outputs": [
    {
     "name": "stdout",
     "output_type": "stream",
     "text": [
      "Defender: 5890\n",
      "Midfielder: 4935\n",
      "Forward: 3044\n",
      "GoalKeeper: 1900\n"
     ]
    }
   ],
   "source": [
    "# 범주화 결과 검증\n",
    "print(\"Defender: {}\".format(np.isin(fifa.Position, Defender).sum()))\n",
    "print(\"Midfielder: {}\".format(np.isin(fifa.Position, Midfielder).sum()))\n",
    "print(\"Forward: {}\".format(np.isin(fifa.Position, Forward).sum()))\n",
    "print(\"GoalKeeper: {}\".format(np.isin(fifa.Position, GoalKeeper).sum()))"
   ]
  },
  {
   "cell_type": "code",
   "execution_count": 57,
   "metadata": {},
   "outputs": [],
   "source": [
    "import pandas as pd\n",
    "import numpy as np\n",
    "midwest= pd.read_csv(\"http://goo.gl/G1K41K\")"
   ]
  },
  {
   "cell_type": "markdown",
   "metadata": {},
   "source": [
    "Q1) poptotal(전체인구) 변수를 total 로, popasian(아시아인구) 변수를 asian으로 수정하세요"
   ]
  },
  {
   "cell_type": "code",
   "execution_count": 58,
   "metadata": {},
   "outputs": [
    {
     "data": {
      "text/plain": [
       "Index(['PID', 'county', 'state', 'area', 'total', 'popdensity', 'popwhite',\n",
       "       'popblack', 'popamerindian', 'asian', 'popother', 'percwhite',\n",
       "       'percblack', 'percamerindan', 'percasian', 'percother', 'popadults',\n",
       "       'perchsd', 'percollege', 'percprof', 'poppovertyknown',\n",
       "       'percpovertyknown', 'percbelowpoverty', 'percchildbelowpovert',\n",
       "       'percadultpoverty', 'percelderlypoverty', 'inmetro', 'category'],\n",
       "      dtype='object')"
      ]
     },
     "execution_count": 58,
     "metadata": {},
     "output_type": "execute_result"
    }
   ],
   "source": [
    "old_cols = np.array(midwest.columns)\n",
    "midwest.columns = list(np.where( cols == 'popasian', 'asian',\n",
    "    np.where( cols == 'poptotal', 'total', cols)))\n",
    "midwest.columns"
   ]
  },
  {
   "cell_type": "markdown",
   "metadata": {},
   "source": [
    "Q2) total, asian 변수를 이용해 '전체 인구 대비 아시아 인구 백분율' 파생변수를 만드세요."
   ]
  },
  {
   "cell_type": "code",
   "execution_count": 59,
   "metadata": {},
   "outputs": [
    {
     "data": {
      "text/html": [
       "<div>\n",
       "<style scoped>\n",
       "    .dataframe tbody tr th:only-of-type {\n",
       "        vertical-align: middle;\n",
       "    }\n",
       "\n",
       "    .dataframe tbody tr th {\n",
       "        vertical-align: top;\n",
       "    }\n",
       "\n",
       "    .dataframe thead th {\n",
       "        text-align: right;\n",
       "    }\n",
       "</style>\n",
       "<table border=\"1\" class=\"dataframe\">\n",
       "  <thead>\n",
       "    <tr style=\"text-align: right;\">\n",
       "      <th></th>\n",
       "      <th>asian</th>\n",
       "      <th>total</th>\n",
       "      <th>asian_pct</th>\n",
       "    </tr>\n",
       "  </thead>\n",
       "  <tbody>\n",
       "    <tr>\n",
       "      <th>0</th>\n",
       "      <td>249</td>\n",
       "      <td>66090</td>\n",
       "      <td>0.003768</td>\n",
       "    </tr>\n",
       "    <tr>\n",
       "      <th>1</th>\n",
       "      <td>48</td>\n",
       "      <td>10626</td>\n",
       "      <td>0.004517</td>\n",
       "    </tr>\n",
       "    <tr>\n",
       "      <th>2</th>\n",
       "      <td>16</td>\n",
       "      <td>14991</td>\n",
       "      <td>0.001067</td>\n",
       "    </tr>\n",
       "    <tr>\n",
       "      <th>3</th>\n",
       "      <td>150</td>\n",
       "      <td>30806</td>\n",
       "      <td>0.004869</td>\n",
       "    </tr>\n",
       "    <tr>\n",
       "      <th>4</th>\n",
       "      <td>5</td>\n",
       "      <td>5836</td>\n",
       "      <td>0.000857</td>\n",
       "    </tr>\n",
       "  </tbody>\n",
       "</table>\n",
       "</div>"
      ],
      "text/plain": [
       "   asian  total  asian_pct\n",
       "0    249  66090   0.003768\n",
       "1     48  10626   0.004517\n",
       "2     16  14991   0.001067\n",
       "3    150  30806   0.004869\n",
       "4      5   5836   0.000857"
      ]
     },
     "execution_count": 59,
     "metadata": {},
     "output_type": "execute_result"
    }
   ],
   "source": [
    "midwest[['asian', 'total']].head()\n",
    "midwest.eval(\"asian_pct = asian / total\", inplace=True)\n",
    "midwest[['asian', 'total', 'asian_pct']].head()"
   ]
  },
  {
   "cell_type": "markdown",
   "metadata": {},
   "source": [
    "Q3) 아시아 인구 백분율 전체평균을 구하고, 평균을 초과하면 'large', 그 외에는 'small'을 부여하는 파생변수를 만드세요."
   ]
  },
  {
   "cell_type": "code",
   "execution_count": 61,
   "metadata": {},
   "outputs": [
    {
     "data": {
      "text/html": [
       "<div>\n",
       "<style scoped>\n",
       "    .dataframe tbody tr th:only-of-type {\n",
       "        vertical-align: middle;\n",
       "    }\n",
       "\n",
       "    .dataframe tbody tr th {\n",
       "        vertical-align: top;\n",
       "    }\n",
       "\n",
       "    .dataframe thead th {\n",
       "        text-align: right;\n",
       "    }\n",
       "</style>\n",
       "<table border=\"1\" class=\"dataframe\">\n",
       "  <thead>\n",
       "    <tr style=\"text-align: right;\">\n",
       "      <th></th>\n",
       "      <th>asian</th>\n",
       "      <th>total</th>\n",
       "      <th>asian_pct</th>\n",
       "      <th>asian_group</th>\n",
       "    </tr>\n",
       "  </thead>\n",
       "  <tbody>\n",
       "    <tr>\n",
       "      <th>0</th>\n",
       "      <td>249</td>\n",
       "      <td>66090</td>\n",
       "      <td>0.003768</td>\n",
       "      <td>small</td>\n",
       "    </tr>\n",
       "    <tr>\n",
       "      <th>1</th>\n",
       "      <td>48</td>\n",
       "      <td>10626</td>\n",
       "      <td>0.004517</td>\n",
       "      <td>small</td>\n",
       "    </tr>\n",
       "    <tr>\n",
       "      <th>2</th>\n",
       "      <td>16</td>\n",
       "      <td>14991</td>\n",
       "      <td>0.001067</td>\n",
       "      <td>small</td>\n",
       "    </tr>\n",
       "    <tr>\n",
       "      <th>3</th>\n",
       "      <td>150</td>\n",
       "      <td>30806</td>\n",
       "      <td>0.004869</td>\n",
       "      <td>small</td>\n",
       "    </tr>\n",
       "    <tr>\n",
       "      <th>4</th>\n",
       "      <td>5</td>\n",
       "      <td>5836</td>\n",
       "      <td>0.000857</td>\n",
       "      <td>small</td>\n",
       "    </tr>\n",
       "  </tbody>\n",
       "</table>\n",
       "</div>"
      ],
      "text/plain": [
       "   asian  total  asian_pct asian_group\n",
       "0    249  66090   0.003768       small\n",
       "1     48  10626   0.004517       small\n",
       "2     16  14991   0.001067       small\n",
       "3    150  30806   0.004869       small\n",
       "4      5   5836   0.000857       small"
      ]
     },
     "execution_count": 61,
     "metadata": {},
     "output_type": "execute_result"
    }
   ],
   "source": [
    "# Q3\n",
    "asian_mean = midwest.asian_pct.mean()\n",
    "midwest['asian_group'] = np.where(midwest.asian_pct > asian_mean, 'large', 'small')\n",
    "midwest[['asian', 'total', 'asian_pct', 'asian_group']].head()"
   ]
  },
  {
   "cell_type": "markdown",
   "metadata": {},
   "source": [
    "Q4) 전체인구 대비 아시아 인구 백분율이 가장 높은 상위 5개 country(지역)의 지역명과 전체인구대비 아시아 인구 백분율을 함께 출력하세요."
   ]
  },
  {
   "cell_type": "code",
   "execution_count": 133,
   "metadata": {},
   "outputs": [],
   "source": [
    "midwest[['county', 'asian_pct']].nlargest(5, columns=['asian_pct'])"
   ]
  }
 ],
 "metadata": {
  "interpreter": {
   "hash": "64f9ead12e17e7fa860195ad99dbd5fa0bc7fe60cbbff9fa5d575a3140ec7535"
  },
  "kernelspec": {
   "display_name": "Python 3.10.2 64-bit",
   "language": "python",
   "name": "python3"
  },
  "language_info": {
   "codemirror_mode": {
    "name": "ipython",
    "version": 3
   },
   "file_extension": ".py",
   "mimetype": "text/x-python",
   "name": "python",
   "nbconvert_exporter": "python",
   "pygments_lexer": "ipython3",
   "version": "3.10.2"
  },
  "orig_nbformat": 4
 },
 "nbformat": 4,
 "nbformat_minor": 2
}
