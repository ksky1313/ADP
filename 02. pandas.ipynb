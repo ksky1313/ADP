{
 "cells": [
  {
   "cell_type": "markdown",
   "metadata": {},
   "source": [
    "# Pandas\n",
    "파이썬에서 사용하는 데이터 분석 라이브러리"
   ]
  },
  {
   "cell_type": "code",
   "execution_count": null,
   "metadata": {},
   "outputs": [],
   "source": [
    "import pandas as pd\n",
    "import numpy as np\n",
    "import matplotlib.pyplot as plt"
   ]
  },
  {
   "cell_type": "markdown",
   "metadata": {},
   "source": [
    "---\n",
    "## 1. DataFrame 만들기 & 저장"
   ]
  },
  {
   "cell_type": "markdown",
   "metadata": {},
   "source": [
    "### 1) Series 만들기"
   ]
  },
  {
   "cell_type": "code",
   "execution_count": null,
   "metadata": {},
   "outputs": [],
   "source": [
    "pd.Series([-20, -10, 10, 20])\n",
    "pd.Series([-20, -10, 10, 20], index=['Jan', 'Fab', 'Mar', 'Apr'])"
   ]
  },
  {
   "cell_type": "markdown",
   "metadata": {},
   "source": [
    "### 2) DataFrame 만들기"
   ]
  },
  {
   "cell_type": "code",
   "execution_count": null,
   "metadata": {},
   "outputs": [],
   "source": [
    "# Set로 컬럼 지정해서 만들기\n",
    "pd.DataFrame({'sl':iris.sl, 'sw':iris.sw})\n",
    "\n",
    "# data, columns, index 지정해서 만들기\n",
    "pd.DataFrame(data=np.random.randn(2,2), columns=['x', 'y'], index=['a', 'b'])"
   ]
  },
  {
   "cell_type": "markdown",
   "metadata": {},
   "source": [
    "### 3) DataFrame 불러오기"
   ]
  },
  {
   "cell_type": "code",
   "execution_count": null,
   "metadata": {},
   "outputs": [],
   "source": [
    "# Data Set에서 불러오기\n",
    "from sklearn.datasets import load_iris\n",
    "iris_data = load_iris()\n",
    "iris = pd.DataFrame(data=iris_data.data, columns=['sl', 'sw', 'pl', 'pw'])\n",
    "\n",
    "# CSV + Skip Row 지정\n",
    "iris = pd.read_csv('data/iris.csv', skiprows=5)\n",
    "iris = pd.read_csv('data/iris.csv', skiprows=[1, 3, 5])\n",
    "\n",
    "# CSV + 불러올 갯수 지정 + 헤더 제거\n",
    "iris = pd.read_csv('data/iris.csv', nrows=4, header=None)\n",
    "\n",
    "# 엑셀 파일 오픈\n",
    "iris = pd.read_excel('data/iris.xlsx')\n",
    "\n",
    "# 이진 파일 오픈\n",
    "iris = pd.read_pickle('data/iris.pk')\n",
    "\n",
    "# encoding 지정 \n",
    "iris = pd.read_csv('data/iris.csv', encoding='utf-8-sig', index_col='no')"
   ]
  },
  {
   "cell_type": "markdown",
   "metadata": {},
   "source": [
    "### 4) DataFrame 저장하기"
   ]
  },
  {
   "cell_type": "code",
   "execution_count": null,
   "metadata": {},
   "outputs": [],
   "source": [
    "# CSV\n",
    "iris.to_csv('data/iris.csv', encoding='utf-8-sig', index=True)\n",
    "\n",
    "# CSV + index 저장 안함\n",
    "iris.to_csv('data/iris_no_index.csv', encoding='utf-8-sig', index=True)\n",
    "\n",
    "# TXT\n",
    "iris.to_csv('data/iris.txt', encoding='utf-8-sig', sep='\\t', index=True)\n",
    "\n",
    "# Excel\n",
    "iris.to_excel('data/iris.xlsx', index=True)\n",
    "\n",
    "# Pickle\n",
    "iris.to_pickle('data/iris.pk')"
   ]
  },
  {
   "cell_type": "markdown",
   "metadata": {},
   "source": [
    "___\n",
    "## 2. 구조 & 데이터 세트 확인"
   ]
  },
  {
   "cell_type": "markdown",
   "metadata": {},
   "source": [
    "### 1) Index"
   ]
  },
  {
   "cell_type": "code",
   "execution_count": null,
   "metadata": {},
   "outputs": [],
   "source": [
    "# 인덱스 확인\n",
    "iris.index\n",
    "\n",
    "# 인덱스 이름 부여\n",
    "iris.index.name = 'no'\n",
    "\n",
    "# 인덱스 초기화\n",
    "iris.reset_index(drop=True, inplace=False)\n",
    "\n",
    "# 인덱스를 특정 컬럼으로 지정\n",
    "iris.set_index('sl', inplace=False)"
   ]
  },
  {
   "cell_type": "code",
   "execution_count": null,
   "metadata": {},
   "outputs": [],
   "source": [
    "# Multi index \n",
    "iris['g1'] = pd.qcut(iris.sl, 3, labels=['하', '중', '상'])\n",
    "iris['g2'] = pd.qcut(iris.pw, 2, labels=['m', 'w'])\n",
    "gtmp = iris.groupby(['g1', 'g2']).max()\n",
    "\n",
    "# 1차, 2차 1개 인덱스 조회\n",
    "gtmp.loc[(slice('하'), 'm'), :]\n",
    "\n",
    "# 1차 여러개, 2차 1개 인덱스 지정\n",
    "gtmp.loc[(slice('중', '상'), slice('m')), :]\n",
    "\n",
    "# 1차 전체, 2차 인덱스 지정\n",
    "gtmp.loc[(slice(None), slice('m', 'w')), :]\n",
    "\n",
    "# 1차 여러개, 2차 전체 인덱스 지정\n",
    "gtmp.loc[(slice('하', '중'), slice(None)), :]\n",
    "\n",
    "# Munti Index UnStack\n",
    "gtmp.sl.unstack()\n",
    "\n",
    "# 인덱스 초기화(레벨 지정)\n",
    "gtmp.reset_index()\n",
    "\n",
    "iris.drop(columns=['g1', 'g2'], inplace=True)"
   ]
  },
  {
   "cell_type": "markdown",
   "metadata": {},
   "source": [
    "### 2) Column"
   ]
  },
  {
   "cell_type": "code",
   "execution_count": null,
   "metadata": {},
   "outputs": [],
   "source": [
    "# 컬럼 확인\n",
    "iris.columns\n",
    "\n",
    "# 컬럼 데이터 타입 확인\n",
    "iris.dtypes\n",
    "\n",
    "# 첫번째 컬럼\n",
    "iris[iris.columns[0]]\n",
    "\n",
    "# 마지막 컬럼\n",
    "iris[iris.columns[-1]]"
   ]
  },
  {
   "cell_type": "markdown",
   "metadata": {},
   "source": [
    "### 3) 데이터 확인"
   ]
  },
  {
   "cell_type": "code",
   "execution_count": null,
   "metadata": {},
   "outputs": [],
   "source": [
    "# 데이터 구조 & 값\n",
    "iris.shape\n",
    "iris.values\n",
    "\n",
    "# 데이터 통계 정보\n",
    "iris.describe()\n",
    "iris.info()\n",
    "\n",
    "# 데이터 조회\n",
    "iris.head()\n",
    "iris.tail()"
   ]
  },
  {
   "cell_type": "markdown",
   "metadata": {},
   "source": [
    "---\n",
    "## 3. 데이터 조회/검색"
   ]
  },
  {
   "cell_type": "markdown",
   "metadata": {},
   "source": [
    "### 1) 행 위치"
   ]
  },
  {
   "cell_type": "code",
   "execution_count": null,
   "metadata": {},
   "outputs": [],
   "source": [
    "# 3번째 위치에서 6번째 행 까지 조회\n",
    "iris[3:7]\n",
    "\n",
    "# 마지막 행 조회\n",
    "iris[-1:]\n",
    "\n",
    "# 마지막 행 ~ 첫 행 까지 조회\n",
    "iris[::-1]"
   ]
  },
  {
   "cell_type": "markdown",
   "metadata": {},
   "source": [
    "\n",
    "### 2) 컬럼명"
   ]
  },
  {
   "cell_type": "code",
   "execution_count": null,
   "metadata": {},
   "outputs": [],
   "source": [
    "# 컬럼명으로 조회\n",
    "iris['sl']\n",
    "\n",
    "# 여러 컬럼을 이름으로 조회\n",
    "iris[['sl', 'sw']]"
   ]
  },
  {
   "cell_type": "markdown",
   "metadata": {},
   "source": [
    "### 3) 인덱스, 컬럼명 필터"
   ]
  },
  {
   "cell_type": "code",
   "execution_count": null,
   "metadata": {},
   "outputs": [],
   "source": [
    "# 행 + '5' 필터\n",
    "iris.filter(like='5', axis=0)\n",
    "\n",
    "# 행 + '1' 또는 '6' 필터\n",
    "iris.filter(regex='[16]', axis=0)\n",
    "\n",
    "# 컬럼 + 'e' 필터\n",
    "iris.filter(like='sl', axis=1)\n",
    "\n",
    "# 컬럼 + 's' 또는 'w' 필터\n",
    "iris.filter(regex='[sw]', axis=1)"
   ]
  },
  {
   "cell_type": "markdown",
   "metadata": {},
   "source": [
    "### 3) loc : 이름 기준 접근"
   ]
  },
  {
   "cell_type": "code",
   "execution_count": null,
   "metadata": {},
   "outputs": [],
   "source": [
    "iris.loc[1]\n",
    "iris.loc[1, 'sl']\n",
    "iris.loc[[1, 2], 'sl']\n",
    "iris.loc[[1, 2], ['sl', 'sw']]\n",
    "iris.loc[1:4, 'sl':'sw']"
   ]
  },
  {
   "cell_type": "markdown",
   "metadata": {},
   "source": [
    "### 4) iloc : 위치 기준 접근"
   ]
  },
  {
   "cell_type": "code",
   "execution_count": null,
   "metadata": {},
   "outputs": [],
   "source": [
    "iris.iloc[0]\n",
    "iris.iloc[0:5, 0:1]\n",
    "iris.iloc[[0,1], 2]\n",
    "iris.iloc[::-1, :]"
   ]
  },
  {
   "cell_type": "markdown",
   "metadata": {},
   "source": [
    "### 5) 데이터 검색\n",
    "Query 함수 사용이 가장 편리함"
   ]
  },
  {
   "cell_type": "code",
   "execution_count": null,
   "metadata": {},
   "outputs": [],
   "source": [
    "# 포함여부 검색\n",
    "sl_filter = iris.sl.isin([4.9, 5.0])\n",
    "iris[sl_filter]\n",
    "iris[~ sl_filter]\n",
    "\n",
    "# 데이터 조건 검색\n",
    "sl_filter = (iris.sl > 4.7)\n",
    "iris[sl_filter]\n",
    "iris[~sl_filter]\n",
    "\n",
    "# 중첩 조건 검색\n",
    "iris[(iris.sl > 4.5) & (iris.sw > 3.0)]\n",
    "iris[(iris.sl < 4.5) | (iris.sl > 4.8)]\n",
    "\n",
    "# Query 함수 이용\n",
    "iris.query(\"sl in [4.9, 5.0]\")\n",
    "iris.query(\"sl not in [4.9, 5.0]\")\n",
    "iris.query(\"(sl > 4.3) and (sw > 3.0)\")\n",
    "\n",
    "# Query 함수 + 변수\n",
    "sl, pl = 4.3, 3.2\n",
    "iris.query(\"(sl > @sl) and (sw > @pl)\")\n",
    "\n",
    "# Query Null Check\n",
    "# df.query(\"Cabin.notnull() and Cabin.str.startswith('A')\", engine='python')"
   ]
  },
  {
   "cell_type": "markdown",
   "metadata": {},
   "source": [
    "---\n",
    "## 4. 데이터 변경/삭제"
   ]
  },
  {
   "cell_type": "markdown",
   "metadata": {},
   "source": [
    "### 1) 행 변경/삭제"
   ]
  },
  {
   "cell_type": "code",
   "execution_count": null,
   "metadata": {},
   "outputs": [],
   "source": [
    "# 행 추가\n",
    "iris.loc[iris.last_valid_index()+1] = [None, 0, None, 0]\n",
    "\n",
    "# Cell 값 변경\n",
    "iris.loc[1, 'sl'] = 2.1\n",
    "\n",
    "# 여러 Cell 값 변경\n",
    "iris.loc[1, ['sl', 'sw']] = [2.1, 2.3]\n",
    "\n",
    "# 행 삭제\n",
    "iris.drop(index=1, inplace=False)\n",
    "\n",
    "# 여러 행 삭제\n",
    "iris.drop(index=[2,3,4], inplace=False)"
   ]
  },
  {
   "cell_type": "markdown",
   "metadata": {},
   "source": [
    "### 2) 컬럼 변경/삭제"
   ]
  },
  {
   "cell_type": "code",
   "execution_count": null,
   "metadata": {},
   "outputs": [],
   "source": [
    "# 마지막 컬럼을 가장 좌측으로 이동\n",
    "cols = list(iris.columns)\n",
    "iris[[cols[-1]] + cols[0:-1]]\n",
    "\n",
    "# 컬럼 삭제\n",
    "iris.drop(columns=['sl','sw'], inplace=False)\n",
    "\n",
    "# 컬럼 연산\n",
    "iris.eval(\"tot = sl + sw + pl + pw\", inplace=False)"
   ]
  },
  {
   "cell_type": "markdown",
   "metadata": {},
   "source": [
    "### 3) 데이터 정렬"
   ]
  },
  {
   "cell_type": "code",
   "execution_count": null,
   "metadata": {},
   "outputs": [],
   "source": [
    "# 컬럼 값 기준 정렬\n",
    "iris.sort_values('sl', ascending=True)\n",
    "\n",
    "# 다중 컬럼 값 기준 정렬\n",
    "iris.sort_values(['sl', 'sw'], ascending=[False, True])\n",
    "\n",
    "# 인덱스 기준 정렬\n",
    "iris.sort_index(ascending=True)"
   ]
  },
  {
   "cell_type": "markdown",
   "metadata": {},
   "source": [
    "### 4) 병합"
   ]
  },
  {
   "cell_type": "code",
   "execution_count": null,
   "metadata": {},
   "outputs": [],
   "source": [
    "# concat 이용(행 병합)\n",
    "pd.concat([iris, iris], axis=0)\n",
    "\n",
    "# append 이용(행 병합)\n",
    "iris.append(iris)\n",
    "\n",
    "# 열 병합 \n",
    "pd.concat([iris, iris], axis=1)"
   ]
  },
  {
   "cell_type": "markdown",
   "metadata": {},
   "source": [
    "### 5) 조인"
   ]
  },
  {
   "cell_type": "code",
   "execution_count": null,
   "metadata": {},
   "outputs": [],
   "source": [
    "# merge 함수\n",
    "pd.merge(iris, iris, on='no')\n",
    "pd.merge(iris, iris, left_on='no', right_on='no', how='inner')\n",
    "pd.merge(iris, iris, left_index=True, right_index=True, how='outer')\n",
    "\n",
    "# join 함수\n",
    "# iris.join(iris, how='left')"
   ]
  },
  {
   "cell_type": "markdown",
   "metadata": {},
   "source": [
    "### 4) 행/컬럼 치환"
   ]
  },
  {
   "cell_type": "code",
   "execution_count": null,
   "metadata": {},
   "outputs": [],
   "source": [
    "# 행과 컬럼을 치환\n",
    "iris.T"
   ]
  },
  {
   "cell_type": "markdown",
   "metadata": {},
   "source": [
    "---\n",
    "## 5. 데이터 정제"
   ]
  },
  {
   "cell_type": "markdown",
   "metadata": {},
   "source": [
    "### 1) 결측/이상치 처리"
   ]
  },
  {
   "cell_type": "markdown",
   "metadata": {},
   "source": [
    "- 결측치 확인"
   ]
  },
  {
   "cell_type": "code",
   "execution_count": null,
   "metadata": {},
   "outputs": [],
   "source": [
    "temp = pd.DataFrame({'x':[1, 2, 3., 4, 1], 'y':[1, np.nan, 5, None, 1]}, index=np.arange(5))\n",
    "\n",
    "# 전체 값에 대해 Null 체크\n",
    "temp.isnull()\n",
    "\n",
    "# 행전체가 Null이 아닌지 체크\n",
    "temp.isnull().any(axis=1)\n",
    "\n",
    "# Null이 아닌지 체크\n",
    "temp.notnull()\n",
    "\n",
    "# 열 전체가 Null이 아닌지 체크\n",
    "airquality.notnull().all()"
   ]
  },
  {
   "cell_type": "markdown",
   "metadata": {},
   "source": [
    "- 결측/이상치 처리"
   ]
  },
  {
   "cell_type": "code",
   "execution_count": null,
   "metadata": {},
   "outputs": [],
   "source": [
    "# 지정 값으로 치환\n",
    "temp.fillna('0', inplace=False)\n",
    "\n",
    "# 좌측 컬럼을 기준으로 치환\n",
    "temp.fillna(method='ffill', axis=0, inplace=False)\n",
    "\n",
    "# 뒤쪽 행 값으로 치환\n",
    "temp.fillna(method='bfill', inplace=False)\n",
    "\n",
    "# 앞/뒤 평균 값으로 치환\n",
    "temp.interpolate()\n",
    "\n",
    "# 결측치 삭제\n",
    "temp.dropna(inplace=False)\n",
    "\n",
    "# 하나라도 있으면 행을 삭제\n",
    "temp.dropna(axis=0, how='any')\n",
    "\n",
    "# 전체가 NA면 행을 삭제\n",
    "temp.dropna(axis=0, how='all')\n",
    "\n",
    "# NA가 있으면 컬럼을 삭제\n",
    "temp.dropna(axis=1)\n",
    "\n",
    "# 이상값 치환\n",
    "temp.replace(5.0, 6.0, inplace=False)\n",
    "\n",
    "# 이상값 치환\n",
    "temp.replace({4.9:0.0, 5.0:9.0}, inplace=False)"
   ]
  },
  {
   "cell_type": "markdown",
   "metadata": {},
   "source": [
    "- 중복값 처리"
   ]
  },
  {
   "cell_type": "code",
   "execution_count": null,
   "metadata": {},
   "outputs": [],
   "source": [
    "# 중복 확인\n",
    "temp.duplicated()\n",
    "\n",
    "# 중복 확인\n",
    "temp.duplicated(keep=False) # 중복된 모든것 조회, (default) firts | last | False\n",
    "\n",
    "# 고유 값만 있는지 확인\n",
    "temp.x.is_unique\n",
    "\n",
    "# 유일한 값만 있는지 확인\n",
    "iris.sw.is_unique\n",
    "\n",
    "# 중복 제거\n",
    "temp.drop_duplicates()"
   ]
  },
  {
   "cell_type": "markdown",
   "metadata": {},
   "source": [
    "### 2) 문자형 데이터 처리\n",
    "str을 이용해서 거의 모든 함수 접근 가능"
   ]
  },
  {
   "cell_type": "code",
   "execution_count": null,
   "metadata": {},
   "outputs": [],
   "source": [
    "iris['txt'] = pd.qcut(iris.sl, 3, labels=['하', '중', '상'])\n",
    "\n",
    "# 문자 길이\n",
    "iris.txt.str.len()\n",
    "\n",
    "# 문자열 검색\n",
    "iris.txt.str.contains('상')\n",
    "iris.txt.str.startswith('상')\n",
    "\n",
    "# 공맥으로 연결된 문자열 마지막 문자만 추출\n",
    "iris.txt.str.split().str.get(-1)"
   ]
  },
  {
   "cell_type": "markdown",
   "metadata": {},
   "source": [
    "### 3) 범주형 데이터 처리"
   ]
  },
  {
   "cell_type": "code",
   "execution_count": null,
   "metadata": {},
   "outputs": [],
   "source": [
    "# 카테고리 데이터 타입 확인\n",
    "iris.dtypes\n",
    "\n",
    "# 특정 컬럼을 카테고리 타입으로 변경\n",
    "iris.txt = iris.txt.astype('category')\n",
    "\n",
    "# 카테고리 컬럼명을 리스트로 추출\n",
    "list(iris.columns[iris.dtypes == 'category'])\n",
    "\n",
    "# 카테고리 타입 데이터 종류 확인\n",
    "iris.txt.values.categories"
   ]
  },
  {
   "cell_type": "markdown",
   "metadata": {},
   "source": [
    "### 4) 시계열 데이터 처리"
   ]
  },
  {
   "cell_type": "code",
   "execution_count": null,
   "metadata": {},
   "outputs": [],
   "source": [
    "import datetime as dt\n",
    "\n",
    "# 현재 시간\n",
    "dt.datetime.now()\n",
    "\n",
    "# 10일후\n",
    "dt.datetime.now() + dt.timedelta(days=10)\n",
    "\n",
    "# datetime으로 변환\n",
    "pd.to_datetime('20220101').to_pydatetime()\n",
    "\n",
    "# 날짜 인덱스 지원\n",
    "ts = pd.DataFrame({'close':np.random.randint(30, 50, 100), 'high':np.random.randint(50, 80, 100)}, \n",
    "    index=pd.date_range('2022-01-01', periods=100))\n",
    "\n",
    "# 날짜 인덱스 이용 Slicing\n",
    "ts['2022-02-03':]\n",
    "\n",
    "# 2022년 2월 데이터만 확인\n",
    "ts.close['2022-02']\n",
    "\n",
    "# Shift 연산\n",
    "ts.shift(1)\n",
    "\n",
    "# 날짜 지정 데이터 생성\n",
    "pd.date_range('2022-02-01', '2022-2-21')\n",
    "\n",
    "# 종료일 + 업무일 기준 데이터 생성\n",
    "pd.date_range(end='2022-03-09', periods=10, freq='B')\n",
    "\n",
    "# 기간 지정 데이터 생성\n",
    "days = pd.date_range('2022-02-25', periods=10)\n",
    "\n",
    "# 기간 연산 지원\n",
    "days - days[0]\n",
    "\n",
    "# 2 시간 단위 데이터 생성\n",
    "pd.date_range('2022-02-25', periods=10, freq='1H') # T(분단위), S(초단위)\n",
    "\n",
    "# Time Zone 처리\n",
    "import pytz\n",
    "idx = pd.date_range('2020-01-01 09:00:00', periods=7, tz='Asia/Seoul')\n",
    "idx.tz_convert('UTC')\n",
    "\n",
    "# 월 단위 평균 리샘플링\n",
    "ts.resample('M', kind='period').mean()\n",
    "\n",
    "# 3일 단위 최대값 리샘플링\n",
    "ts.resample('3D', kind='period').max()\n",
    "\n",
    "# 월 단위 OHLC 조회\n",
    "ts.resample('M', kind='period').ohlc()\n",
    "\n",
    "# 3일 단위 데이터 추출\n",
    "ts.resample('3D').asfreq()\n",
    "\n",
    "# 무빙 윈도우 - 3일 이동평균\n",
    "ts.close.rolling(3).mean()\n",
    "\n",
    "# 차트로 그리기\n",
    "ts.close.rolling(3).mean().plot()"
   ]
  },
  {
   "cell_type": "markdown",
   "metadata": {},
   "source": [
    "---\n",
    "## 6. 집계/그룹화"
   ]
  },
  {
   "cell_type": "markdown",
   "metadata": {},
   "source": [
    "### 1) Aggregation"
   ]
  },
  {
   "cell_type": "code",
   "execution_count": null,
   "metadata": {},
   "outputs": [],
   "source": [
    "# 원하는 갯수의 최대/최소값 가져오기\n",
    "iris.sl.nlargest(3)\n",
    "iris.sl.nsmallest(3)\n",
    "\n",
    "# 컬럼을 나중에 써도 됨\n",
    "iris[['sl', 'sw']].nlargest(5, columns=['sl'])\n",
    "\n",
    "# 데이터 갯수 확인\n",
    "iris.sl.count()\n",
    "\n",
    "# RANK 확인\n",
    "iris.sl.rank(method='max') # max, min, fitst\n",
    "\n",
    "# 유일한 값\n",
    "iris.sl.unique()\n",
    "\n",
    "# 유일한 값 갯수\n",
    "iris.sl.nunique()\n",
    "\n",
    "# 4 분위수\n",
    "iris.sl.quantile([.25, .5, .75])\n",
    "\n",
    "# 왜도, 첨도\n",
    "iris.skew()\n",
    "iris.kurt()\n",
    "\n",
    "# 누적합\n",
    "iris.sl.cumsum()\n",
    "\n",
    "# 누적곱\n",
    "iris.pw.cumprod()\n",
    "\n",
    "## 누적차\n",
    "iris.pw.diff()\n",
    "\n",
    "# 누적 Percent 증감\n",
    "iris.pw.pct_change()\n",
    "\n",
    "# 범주화\n",
    "iris['slcut'] = pd.qcut(iris.sl, 3, labels=['하', '중', '상'])\n",
    "\n",
    "# 상관관계\n",
    "iris.corr()\n",
    "\n",
    "# 상관관계 - 변수 지정\n",
    "iris.corrwith(iris.sl)\n",
    "\n",
    "# 공분산\n",
    "iris.cov()"
   ]
  },
  {
   "cell_type": "markdown",
   "metadata": {},
   "source": [
    "### 2) Group by 연산"
   ]
  },
  {
   "cell_type": "code",
   "execution_count": null,
   "metadata": {},
   "outputs": [],
   "source": [
    "# 전체 그룹별 갯수\n",
    "iris.groupby('slcut').size()\n",
    "\n",
    "# 전체 그룹별 사분위수 확인\n",
    "iris.groupby('slcut').quantile([.25, .5, .75])\n",
    "\n",
    "# 전체 그룹별 평균\n",
    "iris.groupby('slcut').mean()\n",
    "\n",
    "# 컬럼 선택 + 그룹 중위값\n",
    "iris.groupby('slcut')['sl'].median()\n",
    "\n",
    "# 여러 컬럼 선택 + 그룹 평균\n",
    "iris.groupby('slcut')[['sl', 'sw']].mean()\n",
    "\n",
    "# 컬럼 선택 + 그룹별 유일 값 갯수\n",
    "iris.groupby('slcut')['sl'].value_counts()\n",
    "\n",
    "# 컬럼 선택 + 그룹별 유일 값 갯수 + 퍼센트로 값 추출\n",
    "iris.groupby('slcut')['sl'].value_counts(normalize=True)\n",
    "\n",
    "# 컬럼 선택 + 그룹별 갯수\n",
    "iris.groupby('slcut')['sl'].count()\n",
    "\n",
    "# 그룹화 + 소속 그룹 필터링\n",
    "iris.groupby('slcut').get_group('상')\n",
    "\n",
    "# 여러 컬럼 그룹화\n",
    "iris.groupby(['slcut', 'txt']).mean()\n",
    "\n",
    "# 집계 종합 출력\n",
    "iris.groupby('slcut').agg(['mean', 'min', 'max'])\n",
    "\n",
    "# 출력할때 멀티 인덱스를 제거\n",
    "iris.groupby(['slcut', 'txt'], as_index=False).mean()"
   ]
  },
  {
   "cell_type": "markdown",
   "metadata": {},
   "source": [
    "### 3) 피벗 테이블"
   ]
  },
  {
   "cell_type": "code",
   "execution_count": null,
   "metadata": {},
   "outputs": [],
   "source": [
    "# 조회 데이터, 행, 열, 함수, 공백시 값\n",
    "iris.pivot_table(['pl', 'pw'], index='slcut', columns=['sl'], aggfunc='mean', fill_value='').sort_index(ascending=False)\n",
    "\n",
    "# 행/열 마지막에 집계 행/열 추가\n",
    "iris.pivot_table(['pl', 'pw'], index='slcut', columns=['sl'], aggfunc='mean', fill_value='', margins=True).sort_index(ascending=False)\n",
    "\n",
    "# Cross Tab 함수 이용\n",
    "pd.crosstab(iris.slcut, iris.sl, values=iris.pl, aggfunc=sum, margins=True)\n",
    "\n",
    "# melt(키와 변수, 변수 값으로 변경) --> 원래로 돌릴 때는 피벗을 이용함\n",
    "iris.melt(['pl', 'pw'])"
   ]
  },
  {
   "cell_type": "markdown",
   "metadata": {},
   "source": [
    "### 4) 함수 적용"
   ]
  },
  {
   "cell_type": "code",
   "execution_count": null,
   "metadata": {},
   "outputs": [],
   "source": [
    "# 키에 cm를 추가\n",
    "def add_cm(height):\n",
    "    return str(height) + 'cm'\n",
    "\n",
    "iris.sl.apply(add_cm)\n",
    "\n",
    "# lambda 함수 이용\n",
    "iris.sl.apply(lambda x: str(x)+'cm')\n",
    "\n",
    "# numpy 함수 호출\n",
    "iris.sl.apply(np.sqrt)"
   ]
  },
  {
   "cell_type": "markdown",
   "metadata": {},
   "source": [
    "---\n",
    "## 7. 시각화"
   ]
  },
  {
   "cell_type": "code",
   "execution_count": null,
   "metadata": {},
   "outputs": [],
   "source": [
    "import ADPLearn as adp\n",
    "\n",
    "iris, _ = adp.loaddata('iris')\n",
    "\n",
    "plt.figure()\n",
    "iris.plot.bar(figsize=(10, 5))\n",
    "plt.show()"
   ]
  },
  {
   "cell_type": "code",
   "execution_count": null,
   "metadata": {},
   "outputs": [],
   "source": [
    "# Histogram Line Color\n",
    "iris[iris.columns[0]].plot.hist(edgecolor='white', density=True, facecolor='g', alpha=0.55)"
   ]
  },
  {
   "cell_type": "markdown",
   "metadata": {},
   "source": [
    "---\n",
    "# 9. 고급/응용"
   ]
  },
  {
   "cell_type": "code",
   "execution_count": null,
   "metadata": {},
   "outputs": [],
   "source": [
    "import ADPLearn as adp\n",
    "import numpy as np\n",
    "\n",
    "titanic, _ = adp.load_data('titanic')\n",
    "\n",
    "titanic['Adult'] = np.where(\n",
    "    titanic.Age >= 10,\n",
    "    'Adult',\n",
    "    np.where(\n",
    "        titanic.Age >= 0,\n",
    "        'Child',\n",
    "        'Unknown')\n",
    "    )\n",
    "\n",
    "rtn = titanic.pivot_table(\n",
    "    index=['Adult', 'Survived'], \n",
    "    values='PassengerId', \n",
    "    aggfunc='count',\n",
    "    margins=True\n",
    "    )\n",
    "\n",
    "x = titanic.shape[0]\n",
    "rtn.eval(\"pct = PassengerId / @x * 100\", inplace=True)\n",
    "rtn.columns = ['명', '%']\n",
    "rtn"
   ]
  },
  {
   "cell_type": "code",
   "execution_count": null,
   "metadata": {},
   "outputs": [],
   "source": [
    "exam = pd.DataFrame({'grade':[1,1,2],\n",
    "                     'class':[\"A\",\"B\",\"C\"],\n",
    "                     'korean':[70,80,85],\n",
    "                     'math':[80,95,100]})\n",
    "\n",
    "mt=pd.melt(exam, id_vars=[\"grade\",\"class\"])"
   ]
  }
 ],
 "metadata": {
  "interpreter": {
   "hash": "64f9ead12e17e7fa860195ad99dbd5fa0bc7fe60cbbff9fa5d575a3140ec7535"
  },
  "kernelspec": {
   "display_name": "Python 3.10.2 64-bit",
   "language": "python",
   "name": "python3"
  },
  "language_info": {
   "codemirror_mode": {
    "name": "ipython",
    "version": 3
   },
   "file_extension": ".py",
   "mimetype": "text/x-python",
   "name": "python",
   "nbconvert_exporter": "python",
   "pygments_lexer": "ipython3",
   "version": "3.10.2"
  },
  "orig_nbformat": 4
 },
 "nbformat": 4,
 "nbformat_minor": 2
}
