{
 "cells": [
  {
   "cell_type": "markdown",
   "metadata": {},
   "source": [
    "## 기본 데이터, 라이브러리 로드"
   ]
  },
  {
   "cell_type": "code",
   "execution_count": 1,
   "metadata": {},
   "outputs": [],
   "source": [
    "import numpy as np\n",
    "import pandas as pd\n",
    "\n",
    "df_x = pd.read_csv('data/x_train.csv', encoding='euc-kr')\n",
    "df_y = pd.read_csv('data/y_train.csv', encoding='euc-kr')\n",
    "df = pd.merge(df_x, df_y, on='cust_id')\n",
    "df.fillna(0, inplace=True)"
   ]
  },
  {
   "cell_type": "code",
   "execution_count": 2,
   "metadata": {},
   "outputs": [],
   "source": [
    "man = df.loc[df['gender']==1, '내점일수']\n",
    "woman = df.loc[df['gender']==0, '내점일수']"
   ]
  },
  {
   "cell_type": "markdown",
   "metadata": {},
   "source": [
    "## 1. T 검정"
   ]
  },
  {
   "cell_type": "markdown",
   "metadata": {},
   "source": [
    "- 단일 표본"
   ]
  },
  {
   "cell_type": "code",
   "execution_count": null,
   "metadata": {},
   "outputs": [],
   "source": [
    "from scipy.stats import ttest_1samp\n",
    "\n",
    "avg = 18\n",
    "stat, pval = ttest_1samp(woman, popmean=avg)\n",
    "print('H0 : woman 평균은 {}이다 : {}'.format(avg, pval > 0.05))"
   ]
  },
  {
   "cell_type": "markdown",
   "metadata": {},
   "source": [
    "- 독립표본"
   ]
  },
  {
   "cell_type": "code",
   "execution_count": null,
   "metadata": {},
   "outputs": [],
   "source": [
    "from scipy.stats import ttest_ind\n",
    "ttest_ind(man, woman, equal_var=True)\n",
    "print('H0 : man과 woman의 평균에는 차이가 없다 : {}'.format(pval > 0.05))"
   ]
  },
  {
   "cell_type": "markdown",
   "metadata": {},
   "source": [
    "- 대응표본"
   ]
  },
  {
   "cell_type": "code",
   "execution_count": null,
   "metadata": {},
   "outputs": [],
   "source": [
    "from scipy.stats import ttest_rel\n",
    "ttest_rel(man, woman)"
   ]
  },
  {
   "cell_type": "markdown",
   "metadata": {},
   "source": [
    "## 2. 분산분석(ANOVA)"
   ]
  },
  {
   "cell_type": "markdown",
   "metadata": {},
   "source": [
    "### 1) 일원분산분석(One-way ANOVA)\n",
    "종속변수 1개, 독립변수 1개"
   ]
  },
  {
   "cell_type": "markdown",
   "metadata": {},
   "source": [
    "- scipy.stats 이용"
   ]
  },
  {
   "cell_type": "code",
   "execution_count": null,
   "metadata": {},
   "outputs": [],
   "source": [
    "import scipy.stats as stats\n",
    "\n",
    "stat, pval = stats.f_oneway(man, woman)\n",
    "\n",
    "print('F={0:.1f}, p={1:}'.format(stat, pval))\n",
    "print('H0 : man과 woman의 평균에는 차이가 없다 : {}'.format(pval > 0.05))"
   ]
  },
  {
   "cell_type": "markdown",
   "metadata": {},
   "source": [
    "- statsmodel 이용"
   ]
  },
  {
   "cell_type": "code",
   "execution_count": null,
   "metadata": {},
   "outputs": [],
   "source": [
    "from statsmodels.formula.api import ols\n",
    "from statsmodels.stats.anova import anova_lm\n",
    "\n",
    "model = ols('내점일수 ~ C(gender)', df).fit()\n",
    "print(anova_lm(model))"
   ]
  },
  {
   "cell_type": "markdown",
   "metadata": {},
   "source": [
    "- 사후검정"
   ]
  },
  {
   "cell_type": "code",
   "execution_count": null,
   "metadata": {},
   "outputs": [],
   "source": [
    "from statsmodels.stats.multicomp import pairwise_tukeyhsd\n",
    "\n",
    "# reject가 True면 PValue가 0.05보다 작음(평균의 차이가 유의미)\n",
    "print(pairwise_tukeyhsd(df['내점일수'], df['gender']))"
   ]
  },
  {
   "cell_type": "markdown",
   "metadata": {},
   "source": [
    "## 로짓분석"
   ]
  },
  {
   "cell_type": "code",
   "execution_count": 3,
   "metadata": {},
   "outputs": [
    {
     "name": "stdout",
     "output_type": "stream",
     "text": [
      "Optimization terminated successfully.\n",
      "         Current function value: 0.642669\n",
      "         Iterations 5\n",
      "                           Logit Regression Results                           \n",
      "==============================================================================\n",
      "Dep. Variable:                 gender   No. Observations:                 3500\n",
      "Model:                          Logit   Df Residuals:                     3494\n",
      "Method:                           MLE   Df Model:                            5\n",
      "Date:                Wed, 09 Mar 2022   Pseudo R-squ.:                 0.02931\n",
      "Time:                        12:22:54   Log-Likelihood:                -2249.3\n",
      "converged:                       True   LL-Null:                       -2317.3\n",
      "Covariance Type:            nonrobust   LLR p-value:                 1.382e-27\n",
      "==============================================================================\n",
      "                 coef    std err          z      P>|z|      [0.025      0.975]\n",
      "------------------------------------------------------------------------------\n",
      "Intercept     -0.3469      0.071     -4.867      0.000      -0.487      -0.207\n",
      "총구매액       -1.238e-09   5.28e-10     -2.342      0.019   -2.27e-09   -2.02e-10\n",
      "최대구매액      -2.569e-09   2.03e-09     -1.264      0.206   -6.55e-09    1.42e-09\n",
      "내점일수          -0.0089      0.002     -4.010      0.000      -0.013      -0.005\n",
      "구매주기          -0.0008      0.001     -0.537      0.592      -0.004       0.002\n",
      "주말방문비율         0.5183      0.119      4.360      0.000       0.285       0.751\n",
      "==============================================================================\n"
     ]
    }
   ],
   "source": [
    "from statsmodels.formula.api import logit\n",
    "\n",
    "print(logit('gender~총구매액+최대구매액+내점일수+구매주기+주말방문비율', df).fit().summary())"
   ]
  },
  {
   "cell_type": "code",
   "execution_count": 4,
   "metadata": {},
   "outputs": [
    {
     "data": {
      "text/plain": [
       "0.999999997431"
      ]
     },
     "execution_count": 4,
     "metadata": {},
     "output_type": "execute_result"
    }
   ],
   "source": [
    "import numpy as np\n",
    "np.exp(-2.569e-09)"
   ]
  },
  {
   "cell_type": "code",
   "execution_count": null,
   "metadata": {},
   "outputs": [],
   "source": []
  }
 ],
 "metadata": {
  "interpreter": {
   "hash": "3a62acb4892a1993361d61c676e96682b17de90bab01abcab6896207c5749e6d"
  },
  "kernelspec": {
   "display_name": "Python 3.10.2 64-bit",
   "language": "python",
   "name": "python3"
  },
  "language_info": {
   "codemirror_mode": {
    "name": "ipython",
    "version": 3
   },
   "file_extension": ".py",
   "mimetype": "text/x-python",
   "name": "python",
   "nbconvert_exporter": "python",
   "pygments_lexer": "ipython3",
   "version": "3.10.2"
  },
  "orig_nbformat": 4
 },
 "nbformat": 4,
 "nbformat_minor": 2
}
