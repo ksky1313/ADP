{
 "cells": [
  {
   "cell_type": "markdown",
   "metadata": {},
   "source": [
    "# Python 기초"
   ]
  },
  {
   "cell_type": "code",
   "execution_count": null,
   "metadata": {},
   "outputs": [],
   "source": [
    "# 변수\n",
    "a, b = 10, 20               # 변수 값 치환\n",
    "a, b = b, a\n",
    "\n",
    "dir()                       # 분수를 출력\n",
    "del a                       # 변수를 삭제\n",
    "%reset -f                   # 파이썬 변수, 라이브러리 초기화\n",
    "\n",
    "# 연속 숫자 생성\n",
    "range(1, 20, 2)\n",
    "\n",
    "# 형 확인\n",
    "type('Hello')\n",
    "\n",
    "# 형 변환\n",
    "float('1.3')\n",
    "\n",
    "# 연산\n",
    "5//2                        # 소수점 이하 버리고 몫만 반환\n",
    "abs(-1.43)                  # 절대값\n",
    "divmod(5, 3)                # 몫과 나머지를 각각 반환\n",
    "pow(3, 2)                   # 3**2\n",
    "\n",
    "# 비교\n",
    "type(3.1) is type(3)        # 자료형을 비교\n",
    "type(3.1) is not type(3)    # 자료형이 다른지를 비교\n",
    "\n",
    "# 2진수 변환\n",
    "bin(10)                     # 2진수로 변환\n",
    "(10).bit_length()           # 비트의 갯수를 반환\n",
    "\n",
    "# 사용자 입력\n",
    "input = input('Enter Value: ')\n",
    "input"
   ]
  },
  {
   "cell_type": "markdown",
   "metadata": {},
   "source": [
    "---\n",
    "## 1. 컨테이너"
   ]
  },
  {
   "cell_type": "markdown",
   "metadata": {},
   "source": [
    "- [] : list"
   ]
  },
  {
   "cell_type": "code",
   "execution_count": null,
   "metadata": {},
   "outputs": [],
   "source": [
    "# list\n",
    "list1 = [1, 2, 3, 4, 5, 6, 7, 8, 9, 9]\n",
    "list2 = list(range(1, 50, 5))\n",
    "\n",
    "# list unpacking\n",
    "a, b, *c = list1\n",
    "a, *b, c = list1\n",
    "\n",
    "# 인덱싱\n",
    "list1[::2]          # 2칸씩 이동\n",
    "list1[::-1]         # 리스트 뒤집기\n",
    "list1[-1:5:-1]      # 거꾸로 이동\n",
    "\n",
    "# 다차원 리스트\n",
    "ll = [[10,20,30], [20,30,40]]\n",
    "\n",
    "# 리스트 합치기\n",
    "list1 + list2\n",
    "list1 += list2\n",
    "list1.extend(list2)\n",
    "\n",
    "# 리스트 반복저장\n",
    "list1*3\n",
    "\n",
    "# 리스트 탐색\n",
    "5 in list1          # 리스트에 값이 있는지 확인\n",
    "5 not in list1      # 리스트에 값이 없는지 확인\n",
    "list1.index(5)      # 위치 확인\n",
    "list1.count(9)      # 갯수 확인\n",
    "\n",
    "# 리스트 정렬\n",
    "list1.sort()\n",
    "list1.sort(reverse=True)\n",
    "\n",
    "# 리스트를 역으로\n",
    "list1.reverse()\n",
    "list1[-1::-1]\n",
    "\n",
    "# 리스트 복사\n",
    "list1 = list2.copy()\n",
    "\n",
    "# 리스트 추가\n",
    "list1.append(4)     # 마지막에 추가\n",
    "list1.insert(1, 2)  # 지정 위치에 추가\n",
    "\n",
    "# 리스트 삭제\n",
    "list1.pop(0)        # 인덱스로 제거\n",
    "list1.remove(4)     # 값으로 제거\n",
    "list1.clear         # 전체 제거"
   ]
  },
  {
   "cell_type": "markdown",
   "metadata": {},
   "source": [
    "- () : Tuple - 변경을 허용하지 않는 리스트"
   ]
  },
  {
   "cell_type": "markdown",
   "metadata": {},
   "source": [
    "- {} : Set - 중복을 허용하지 않는 리스트"
   ]
  },
  {
   "cell_type": "code",
   "execution_count": null,
   "metadata": {},
   "outputs": [],
   "source": [
    "a = {10,20,30,40,50}\n",
    "b = {40}\n",
    "\n",
    "b.add(80)       # 세트에 값 추가\n",
    "a.update(b)     # 두개 세트 합치기\n",
    "b.discard(80)   # 값 제거(없어도 에러 미발생)\n",
    "b.remove(80)    # 값 제거(없으면 에러 발생)\n",
    "\n",
    "a | b           # 합집합\n",
    "a & b           # 교집합\n",
    "a - b           # 차집합\n",
    "a ^ b           # 겹치는 것 빼고 나머지\n",
    "a.issubset(b)   # 서브셋 확인\n",
    "a.issuperset(b) # 슈퍼셋 확인"
   ]
  },
  {
   "cell_type": "markdown",
   "metadata": {},
   "source": [
    "- {} : Frozen Set - 변경을 허용하지 않는 Set"
   ]
  },
  {
   "cell_type": "code",
   "execution_count": null,
   "metadata": {},
   "outputs": [],
   "source": [
    "a = frozenset([10,20,30,40])\n",
    "b = frozenset([40])"
   ]
  },
  {
   "cell_type": "markdown",
   "metadata": {},
   "source": [
    "- {} : Dictionary"
   ]
  },
  {
   "cell_type": "markdown",
   "metadata": {},
   "source": []
  },
  {
   "cell_type": "code",
   "execution_count": null,
   "metadata": {},
   "outputs": [],
   "source": [
    "d = {'A':'Jun', 'B':'David', 'C':'Cabin'}\n",
    "\n",
    "d['A'] = \"jun han\"  # Key이 값 업데이트\n",
    "'K' in d            # Key가 있는지 확인\n",
    "d.pop('A')          # Key 값 제거\n",
    "d.clear()           # 전체 삭제"
   ]
  },
  {
   "cell_type": "markdown",
   "metadata": {},
   "source": [
    "---\n",
    "## 2. String\n"
   ]
  },
  {
   "cell_type": "code",
   "execution_count": null,
   "metadata": {},
   "outputs": [],
   "source": [
    "s = 'Python'\n",
    "\n",
    "s[0:5:2]                        # 문자열 슬라이싱\n",
    "s[-1::-1]\n",
    "\n",
    "s.index('P')                    # 문자 검색(없으면 에러)\n",
    "s.find('f')                     # 문자 검색(없으면 -1)\n",
    "s.count('y')                    # 문자 갯수 확인\n",
    "\n",
    "# 출력 \n",
    "print('a={:.2f}'.format(50.23))     \n",
    "print('a=%(x).2f' % {'x':50.23})\n",
    "print('a={:d}'.format(50))       # 숫자만 출력\n",
    "print('a={:e}'.format(50.23))       # e로 출력"
   ]
  },
  {
   "cell_type": "markdown",
   "metadata": {},
   "source": [
    "---\n",
    "## 3. Math : 기초 수학 연산 모듈"
   ]
  },
  {
   "cell_type": "code",
   "execution_count": null,
   "metadata": {},
   "outputs": [],
   "source": [
    "import math\n",
    "\n",
    "a = math.pi\n",
    "math.floor(a)\n",
    "math.ceil(a)\n",
    "math.sqrt(3)\n",
    "math.log(2)\n",
    "math.sin(0)\n",
    "math.pow(2,3)\n",
    "math.nan"
   ]
  },
  {
   "cell_type": "markdown",
   "metadata": {},
   "source": [
    "---\n",
    "## 4. OS"
   ]
  },
  {
   "cell_type": "code",
   "execution_count": null,
   "metadata": {},
   "outputs": [],
   "source": [
    "import os\n",
    "\n",
    "os.getcwd()\n",
    "os.chdir('c:/Work/ADP')\n",
    "os.mkdir('Temp')\n",
    "os.rmdir('Temp')\n",
    "os.rename('Temp', 'Temp1')"
   ]
  },
  {
   "cell_type": "code",
   "execution_count": null,
   "metadata": {},
   "outputs": [],
   "source": [
    "import sys\n",
    "sys.modules\n",
    "sys.path"
   ]
  },
  {
   "cell_type": "markdown",
   "metadata": {},
   "source": [
    "---\n",
    "## 5. 파일 핸들링"
   ]
  },
  {
   "cell_type": "markdown",
   "metadata": {},
   "source": [
    "- TXT 파일"
   ]
  },
  {
   "cell_type": "code",
   "execution_count": null,
   "metadata": {},
   "outputs": [],
   "source": [
    "f = open('data/file1.txt', 'w')\n",
    "f.write('I love You')\n",
    "f.close()"
   ]
  },
  {
   "cell_type": "code",
   "execution_count": null,
   "metadata": {},
   "outputs": [],
   "source": [
    "with open('data/file2.txt', 'w') as f:\n",
    "    f.write('I love Python\\n')\n",
    "    f.write('I love Ehgineering')"
   ]
  },
  {
   "cell_type": "code",
   "execution_count": null,
   "metadata": {},
   "outputs": [],
   "source": [
    "with open('data/file2.txt', 'r') as f:\n",
    "    for line in f:\n",
    "        print(line)"
   ]
  },
  {
   "cell_type": "markdown",
   "metadata": {},
   "source": [
    "- Json 파일"
   ]
  },
  {
   "cell_type": "code",
   "execution_count": null,
   "metadata": {},
   "outputs": [],
   "source": [
    "import json\n",
    "\n",
    "data = ['string1', 'string2', 'string3']\n",
    "\n",
    "with open('data/file3.txt', 'w') as f:\n",
    "    json.dump(data, f)"
   ]
  },
  {
   "cell_type": "code",
   "execution_count": null,
   "metadata": {},
   "outputs": [],
   "source": [
    "with open('data/file3.txt', 'r') as f:\n",
    "    x = json.load(f)\n",
    "\n",
    "print(x)"
   ]
  },
  {
   "cell_type": "markdown",
   "metadata": {},
   "source": [
    "- Pickle : 바이너리 파일(파일 사이즈가 작아짐)"
   ]
  },
  {
   "cell_type": "code",
   "execution_count": null,
   "metadata": {},
   "outputs": [],
   "source": [
    "import pickle\n",
    "\n",
    "with open('data/file4.txt', 'wb') as f:\n",
    "    pickle.dump(data, f)"
   ]
  },
  {
   "cell_type": "code",
   "execution_count": null,
   "metadata": {},
   "outputs": [],
   "source": [
    "with open('data/file4.txt', 'rb') as f:\n",
    "    x = pickle.load(f)\n",
    "\n",
    "print(x)"
   ]
  }
 ],
 "metadata": {
  "interpreter": {
   "hash": "64f9ead12e17e7fa860195ad99dbd5fa0bc7fe60cbbff9fa5d575a3140ec7535"
  },
  "kernelspec": {
   "display_name": "Python 3.10.2 64-bit",
   "language": "python",
   "name": "python3"
  },
  "language_info": {
   "codemirror_mode": {
    "name": "ipython",
    "version": 3
   },
   "file_extension": ".py",
   "mimetype": "text/x-python",
   "name": "python",
   "nbconvert_exporter": "python",
   "pygments_lexer": "ipython3",
   "version": "3.10.2"
  },
  "orig_nbformat": 4
 },
 "nbformat": 4,
 "nbformat_minor": 2
}
