{
 "cells": [
  {
   "cell_type": "markdown",
   "metadata": {},
   "source": [
    "# Numpy"
   ]
  },
  {
   "cell_type": "code",
   "execution_count": null,
   "metadata": {},
   "outputs": [],
   "source": [
    "import numpy as np"
   ]
  },
  {
   "cell_type": "code",
   "execution_count": null,
   "metadata": {},
   "outputs": [],
   "source": [
    "# ndarray 생성\n",
    "a = np.arange(5, 10, 2)\n",
    "\n",
    "a.shape     # 차원 조회\n",
    "a.size      # 데이터 갯수\n",
    "a.ndim      # 차원 갯수\n",
    "a.dtype     # 데이터 타팁\n",
    "a.itemsize  # 사용하는 메모리\n",
    "type(a)     # 데이터 타입"
   ]
  },
  {
   "cell_type": "code",
   "execution_count": null,
   "metadata": {},
   "outputs": [],
   "source": [
    "# 형 변환\n",
    "a = np.array([10, 20, 30])\n",
    "print(a.dtype.name)\n",
    "\n",
    "a = a.astype('float64')\n",
    "print(a.dtype.name)\n",
    "\n",
    "a[2] = 30.1\n",
    "a"
   ]
  },
  {
   "cell_type": "markdown",
   "metadata": {},
   "source": [
    "---\n",
    "## 1. Array 생성"
   ]
  },
  {
   "cell_type": "code",
   "execution_count": null,
   "metadata": {},
   "outputs": [],
   "source": [
    "a = np.array([10, 20, 30])                                      # 1차원\n",
    "a = np.array([[10,20,30], [40,50,60]])                          # 2차원\n",
    "a = np.array([ [[10, 20], [30, 40]], [[50, 60], [70, 80]] ])    # 3차원"
   ]
  },
  {
   "cell_type": "markdown",
   "metadata": {},
   "source": [
    "- Array 만들기 함수"
   ]
  },
  {
   "cell_type": "code",
   "execution_count": null,
   "metadata": {},
   "outputs": [],
   "source": [
    "a = np.arange(10)           # 원하는 갯수의 Array 생성\n",
    "a = np.zeros(10)            # 원하는 갯수의 Array 생성하고 zero로 채우기\n",
    "a = np.ones(10)             # 원하는 갯수의 Array 생성하고 1로 채우기\n",
    "a = np.linspace(0, 10, 50)  # 시작 ~ 종료까지 n 개의 Array 생성\n",
    "a = np.logspace(0, 1, 50)   # 시작 ~ 종료까지 n 개의 log scale Array 생성"
   ]
  },
  {
   "cell_type": "code",
   "execution_count": null,
   "metadata": {},
   "outputs": [],
   "source": [
    "def f(x, y):\n",
    "    return x*y\n",
    "np.fromfunction(f, (4,4), dtype=int)\n",
    "np.fromfunction(lambda x, y : x*y, (4,4), dtype=int)"
   ]
  },
  {
   "cell_type": "markdown",
   "metadata": {},
   "source": [
    "- Matrix : 2차원 Array"
   ]
  },
  {
   "cell_type": "code",
   "execution_count": null,
   "metadata": {},
   "outputs": [],
   "source": [
    "m = np.matrix([ [10,20], [20,30] ])\n",
    "m[1, 1]"
   ]
  },
  {
   "cell_type": "markdown",
   "metadata": {},
   "source": [
    "--- \n",
    "## 2. Slice & Dice"
   ]
  },
  {
   "cell_type": "code",
   "execution_count": null,
   "metadata": {},
   "outputs": [],
   "source": [
    "a = np.array([[1, 2, 3, 4], [5, 6, 7, 8], [9, 10, 11, 12]])\n",
    "print(a)\n",
    "\n",
    "a[2][2]\n",
    "a[2,2]\n",
    "\n",
    "# Slice\n",
    "a[0]\n",
    "a[-1]\n",
    "a[[0,2]]\n",
    "a[0:2]\n",
    "a[0:3:2]\n",
    "a[:]\n",
    "a[::-1]\n",
    "\n",
    "# Dice\n",
    "a[:,[1,2]]\n",
    "a[:,1:3]\n",
    "a[:,::-1]\n"
   ]
  },
  {
   "cell_type": "markdown",
   "metadata": {},
   "source": [
    "---\n",
    "## 3. 기본 연산"
   ]
  },
  {
   "cell_type": "code",
   "execution_count": null,
   "metadata": {},
   "outputs": [],
   "source": [
    "a = np.array([10, 20, 30, 23])\n",
    "b = np.array([21, 3, 40, 8])\n",
    "\n",
    "# 추가/삭제\n",
    "a = np.insert(a, 0, 5)\n",
    "a = np.delete(a, 0)\n",
    "\n",
    "# 연산 함수\n",
    "np.add(a, b)\n",
    "np.subtract(a, b)\n",
    "np.multiply(a, b)\n",
    "np.divide(a, b)\n",
    "np.divmod(a, b)\n",
    "np.exp(b)\n",
    "np.sqrt(b)\n",
    "\n",
    "# 통계 함수\n",
    "np.mean(a)                              # 평균\n",
    "np.average(a, weights=[1, 1, 1, 1])     # 평균 + 가중치(weight로 줄 수 있음)\n",
    "np.median(a)                            # 중앙치\n",
    "np.cumsum(a)                            # 누적 합계\n",
    "np.cov(a)                               # 공분산\n",
    "np.std(a)                               # 표준편차\n",
    "np.var(a)                               # 분산\n",
    "np.sum(a)                               # 합계\n",
    "np.min(a)                               # 최소값\n",
    "np.argmin(a)                            # 최소값 위치\n",
    "np.max(a)                               # 최대값\n",
    "np.argmax(a)                            # 최대값 위치\n",
    "np.ptp(a)                               # 최대값과 최소값의 차이\n",
    "\n",
    "# 정렬/검색\n",
    "np.sort(a)                              # 정렬\n",
    "np.argsort(a)                           # 정렬 인덱스\n",
    "np.searchsorted(a, b)                   # 두 array를 합칠때 b가 정렬되는 위치 \n",
    "np.nonzero(a)                           # 0이 아닌 위치를 반환\n"
   ]
  },
  {
   "cell_type": "markdown",
   "metadata": {},
   "source": [
    "---\n",
    "## 4. 논리 연산"
   ]
  },
  {
   "cell_type": "code",
   "execution_count": null,
   "metadata": {},
   "outputs": [],
   "source": [
    "a = np.array([0, 1, 2])\n",
    "\n",
    "a.all()         # 전체가 True?\n",
    "a.any()         # 하나라도 True?\n",
    "\n",
    "np.where(a>1)   # 논리연산 결과 인덱스 확인\n",
    "np.where(a==0)\n",
    "np.where(a<1)"
   ]
  },
  {
   "cell_type": "markdown",
   "metadata": {},
   "source": [
    "---\n",
    "## 5. Array 관리"
   ]
  },
  {
   "cell_type": "markdown",
   "metadata": {},
   "source": [
    "- Array 차원 변경"
   ]
  },
  {
   "cell_type": "code",
   "execution_count": null,
   "metadata": {},
   "outputs": [],
   "source": [
    "# 차원 전환\n",
    "a = np.arange(1, 7, 1)\n",
    "a.reshape(2,3)\n",
    "np.linspace(1, 10, 100).reshape(5,-1)\n",
    "\n",
    "# 1차원 배열로 변경\n",
    "a.flatten()\n",
    "a.reshape(-1)\n",
    "\n",
    "# 반복해서 array 입력\n",
    "a = np.array([[1, 2], [2, 3]])\n",
    "np.repeat(a, 2, axis=0)\n",
    "\n",
    "a = np.array([[1, 2], [2, 3]])\n",
    "np.repeat(a, 2, axis=1)\n",
    "\n",
    "a = np.array([[1, 2], [2, 3]])\n",
    "np.repeat(a, [2, 3], axis=0)    # 반복할 횟수를 각각 지정\n",
    "\n",
    "# 불필요한 Array 차원을 축소\n",
    "a = np.array([[10, 20, 30]])\n",
    "a.squeeze()"
   ]
  },
  {
   "cell_type": "markdown",
   "metadata": {},
   "source": [
    "- Array 병합"
   ]
  },
  {
   "cell_type": "code",
   "execution_count": null,
   "metadata": {},
   "outputs": [],
   "source": [
    "a = np.array([[1], [2], [3]])\n",
    "b = np.array([[3], [4], [5]])\n",
    "\n",
    "np.vstack((a,b))                # 행으로\n",
    "np.concatenate((a, b), axis=0)\n",
    "\n",
    "np.hstack((a,b))                # 종으로\n",
    "np.concatenate((a, b), axis=1)"
   ]
  },
  {
   "cell_type": "markdown",
   "metadata": {},
   "source": [
    "- Array 분할"
   ]
  },
  {
   "cell_type": "code",
   "execution_count": null,
   "metadata": {},
   "outputs": [],
   "source": [
    "a = np.array([\n",
    "    [1, 2, 3], [2, 3, 4], [3, 4, 5]\n",
    "    ])\n",
    "v = np.vsplit(a, 3)\n",
    "h = np.hsplit(a, 3)"
   ]
  },
  {
   "cell_type": "markdown",
   "metadata": {},
   "source": [
    "- Array 치환"
   ]
  },
  {
   "cell_type": "code",
   "execution_count": null,
   "metadata": {},
   "outputs": [],
   "source": [
    "a = np.array([[10, 20, 30], [40, 50, 60], [70, 80, 90]])\n",
    "np.transpose(a)"
   ]
  },
  {
   "cell_type": "markdown",
   "metadata": {},
   "source": [
    "- Array 복사"
   ]
  },
  {
   "cell_type": "code",
   "execution_count": null,
   "metadata": {},
   "outputs": [],
   "source": [
    "a = np.array([[10, 20, 30], [40, 50, 60], [70, 80, 90]])\n",
    "b = a\n",
    "print(id(a), id(b), a is b)\n",
    "\n",
    "c = a.copy()\n",
    "print(id(a), id(c), a is c)"
   ]
  },
  {
   "cell_type": "markdown",
   "metadata": {},
   "source": [
    "---\n",
    "## 6. 행렬 연산"
   ]
  },
  {
   "cell_type": "code",
   "execution_count": null,
   "metadata": {},
   "outputs": [],
   "source": [
    "# 대각선 방향 값 합계\n",
    "a = np.ones((3,3))\n",
    "np.trace(a)"
   ]
  },
  {
   "cell_type": "code",
   "execution_count": null,
   "metadata": {},
   "outputs": [],
   "source": [
    "# 대각선 방향 값 채우기\n",
    "np.fill_diagonal(a, 100)\n",
    "np.trace(a)"
   ]
  },
  {
   "cell_type": "code",
   "execution_count": null,
   "metadata": {},
   "outputs": [],
   "source": [
    "a = np.array([10, 20, 30, 40])\n",
    "b = np.array([30, 50])\n",
    "\n",
    "np.union1d(a, b)        # 합집합\n",
    "np.intersect1d(a, b)    # 교집합\n",
    "np.setdiff1d(a, b)      # 차집합\n",
    "np.setxor1d(a, b)       # Exclusive OR"
   ]
  },
  {
   "cell_type": "markdown",
   "metadata": {},
   "source": [
    "---\n",
    "## 7. 기타"
   ]
  },
  {
   "cell_type": "code",
   "execution_count": 1,
   "metadata": {},
   "outputs": [
    {
     "ename": "NameError",
     "evalue": "name 'np' is not defined",
     "output_type": "error",
     "traceback": [
      "\u001b[1;31m---------------------------------------------------------------------------\u001b[0m",
      "\u001b[1;31mNameError\u001b[0m                                 Traceback (most recent call last)",
      "\u001b[1;32me:\\ADP\\04. numpy.ipynb Cell 34'\u001b[0m in \u001b[0;36m<cell line: 2>\u001b[1;34m()\u001b[0m\n\u001b[0;32m      <a href='vscode-notebook-cell:/e%3A/ADP/04.%20numpy.ipynb#ch0000033?line=0'>1</a>\u001b[0m \u001b[39m# Random 함수\u001b[39;00m\n\u001b[1;32m----> <a href='vscode-notebook-cell:/e%3A/ADP/04.%20numpy.ipynb#ch0000033?line=1'>2</a>\u001b[0m np\u001b[39m.\u001b[39mrandom\u001b[39m.\u001b[39mrand(\u001b[39m5\u001b[39m)                       \u001b[39m# 필요한 갯수의 랜덤한 숫자 리턴 - 균등분포\u001b[39;00m\n\u001b[0;32m      <a href='vscode-notebook-cell:/e%3A/ADP/04.%20numpy.ipynb#ch0000033?line=2'>3</a>\u001b[0m np\u001b[39m.\u001b[39mrandom\u001b[39m.\u001b[39mrandn(\u001b[39m5\u001b[39m)                      \u001b[39m# 필요한 갯수의 랜덤한 숫자 리턴 - 정규분포\u001b[39;00m\n\u001b[0;32m      <a href='vscode-notebook-cell:/e%3A/ADP/04.%20numpy.ipynb#ch0000033?line=3'>4</a>\u001b[0m np\u001b[39m.\u001b[39mrandom\u001b[39m.\u001b[39mrandint(\u001b[39m5\u001b[39m)                    \u001b[39m# 범위 안에서 랜덤한 숫자 1개 리턴\u001b[39;00m\n",
      "\u001b[1;31mNameError\u001b[0m: name 'np' is not defined"
     ]
    }
   ],
   "source": [
    "# Random 함수\n",
    "np.random.rand(5)                       # 필요한 갯수의 랜덤한 숫자 리턴 - 균등분포\n",
    "np.random.randn(5)                      # 필요한 갯수의 랜덤한 숫자 리턴 - 정규분포\n",
    "np.random.randint(5)                    # 범위 안에서 랜덤한 숫자 1개 리턴\n",
    "np.random.choice(np.arange(0, 100), 5)  # 랜덤 샘플링\n",
    "\n",
    "# 난수의 Seed를 고정\n",
    "rs = np.random.RandomState(10)\n",
    "rs.rand(5)"
   ]
  },
  {
   "cell_type": "code",
   "execution_count": null,
   "metadata": {},
   "outputs": [],
   "source": []
  }
 ],
 "metadata": {
  "interpreter": {
   "hash": "64f9ead12e17e7fa860195ad99dbd5fa0bc7fe60cbbff9fa5d575a3140ec7535"
  },
  "kernelspec": {
   "display_name": "Python 3.10.2 64-bit",
   "language": "python",
   "name": "python3"
  },
  "language_info": {
   "codemirror_mode": {
    "name": "ipython",
    "version": 3
   },
   "file_extension": ".py",
   "mimetype": "text/x-python",
   "name": "python",
   "nbconvert_exporter": "python",
   "pygments_lexer": "ipython3",
   "version": "3.10.2"
  },
  "orig_nbformat": 4
 },
 "nbformat": 4,
 "nbformat_minor": 2
}
