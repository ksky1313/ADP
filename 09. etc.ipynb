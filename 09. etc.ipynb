{
 "cells": [
  {
   "cell_type": "code",
   "execution_count": null,
   "metadata": {},
   "outputs": [],
   "source": [
    "import numpy as np\n",
    "import pandas as pd\n",
    "import matplotlib.pyplot as plt"
   ]
  },
  {
   "cell_type": "markdown",
   "metadata": {},
   "source": [
    "# 1. Sympy : 수학식"
   ]
  },
  {
   "cell_type": "code",
   "execution_count": null,
   "metadata": {},
   "outputs": [],
   "source": [
    "from sympy import symbols\n",
    "\n",
    "x = symbols('x')\n",
    "y = symbols('y')\n",
    "expr = 2*x + y\n",
    "\n",
    "expr.subs({x:2, y:3})"
   ]
  },
  {
   "cell_type": "markdown",
   "metadata": {},
   "source": [
    "# 2. Scipy : 수학/과학"
   ]
  },
  {
   "cell_type": "markdown",
   "metadata": {},
   "source": [
    "### 보간법"
   ]
  },
  {
   "cell_type": "code",
   "execution_count": null,
   "metadata": {},
   "outputs": [],
   "source": [
    "from scipy import interpolate\n",
    "\n",
    "x = np.array([1,2,3,4,5])\n",
    "y = np.array([1.,0.8,0.4,0.3,0.2])\n",
    "\n",
    "plt.plot(x, y, '*')"
   ]
  },
  {
   "cell_type": "markdown",
   "metadata": {},
   "source": [
    "### 1) 직선 보간"
   ]
  },
  {
   "cell_type": "code",
   "execution_count": null,
   "metadata": {},
   "outputs": [],
   "source": [
    "f_lin = interpolate.interp1d(x, y)\n",
    "x_new = np.arange(1,5,0.1)\n",
    "y_lin = f_lin(x_new)\n",
    "\n",
    "plt.plot(x, y, '*')\n",
    "plt.plot(x_new, y_lin)"
   ]
  },
  {
   "cell_type": "markdown",
   "metadata": {},
   "source": [
    "### 2) Spline 보간"
   ]
  },
  {
   "cell_type": "code",
   "execution_count": null,
   "metadata": {},
   "outputs": [],
   "source": [
    "tck = interpolate.splrep(x, y, s=0)\n",
    "y_spl = interpolate.splev(x_new, tck, der=0)\n",
    "\n",
    "plt.plot(x, y, '*')\n",
    "plt.plot(x_new, y_lin)\n",
    "plt.plot(x_new, y_spl)"
   ]
  },
  {
   "cell_type": "markdown",
   "metadata": {},
   "source": [
    "## 3. OpenCV : 이미지 처리"
   ]
  },
  {
   "cell_type": "code",
   "execution_count": null,
   "metadata": {},
   "outputs": [],
   "source": [
    "import cv2 as cv\n",
    "\n",
    "# 이미지 파일 불러오기\n",
    "im = cv.imread('img/son_pic.jpg')"
   ]
  },
  {
   "cell_type": "markdown",
   "metadata": {},
   "source": [
    "### 1) 원본 이미지 데이터 확인\n"
   ]
  },
  {
   "cell_type": "code",
   "execution_count": null,
   "metadata": {},
   "outputs": [],
   "source": [
    "plt.imshow(im)\n",
    "plt.title('original')"
   ]
  },
  {
   "cell_type": "markdown",
   "metadata": {},
   "source": [
    "### 2) BGR 데이터를 RGB로 변환\n"
   ]
  },
  {
   "cell_type": "code",
   "execution_count": null,
   "metadata": {},
   "outputs": [],
   "source": [
    "rgb = cv.cvtColor(im, cv.COLOR_BGR2RGB)\n",
    "plt.imshow(rgb)\n",
    "plt.title('rgb')"
   ]
  },
  {
   "cell_type": "markdown",
   "metadata": {},
   "source": [
    "### 3) 이미지 흑백 처리"
   ]
  },
  {
   "cell_type": "code",
   "execution_count": null,
   "metadata": {},
   "outputs": [],
   "source": [
    "gray = cv.cvtColor(im, cv.COLOR_BGR2GRAY)\n",
    "plt.imshow(gray, cmap='gray')\n",
    "plt.title('gray')"
   ]
  },
  {
   "cell_type": "markdown",
   "metadata": {},
   "source": [
    "### 4) blur 처리"
   ]
  },
  {
   "cell_type": "code",
   "execution_count": null,
   "metadata": {},
   "outputs": [],
   "source": [
    "blur = cv.cvtColor(cv.blur(im, (50, 50)), cv.COLOR_BGR2RGB)\n",
    "plt.imshow(blur)\n",
    "plt.title('blur')"
   ]
  },
  {
   "cell_type": "markdown",
   "metadata": {},
   "source": [
    "#### 5) Edge Decect"
   ]
  },
  {
   "cell_type": "code",
   "execution_count": null,
   "metadata": {},
   "outputs": [],
   "source": [
    "edges = cv.Canny(gray, 100, 200)\n",
    "plt.imshow(edges, cmap='gray')\n",
    "plt.title('blur')"
   ]
  },
  {
   "cell_type": "markdown",
   "metadata": {},
   "source": [
    "## 4. Tkinter : GUI"
   ]
  },
  {
   "cell_type": "code",
   "execution_count": 79,
   "metadata": {},
   "outputs": [],
   "source": [
    "import tkinter as tk\n",
    "\n",
    "gui = tk.Tk()\n",
    "\n",
    "# Create label\n",
    "lbl1 = tk.Label(gui, text=\"ID\")\n",
    "lbl2 = tk.Label(gui, text=\"Password\")\n",
    "\n",
    "# Create Entry\n",
    "txt1 = tk.Entry(gui, width=30)\n",
    "txt2 = tk.Entry(gui, width=30)\n",
    "\n",
    "# define btn func\n",
    "def my_click():\n",
    "    alert = tk.Label(gui, text=txt1.get()+txt2.get())\n",
    "    alert.grid(row=2, column=1)\n",
    "\n",
    "# Create Button\n",
    "btn1 = tk.Button(\n",
    "    gui,\n",
    "    text='Click',\n",
    "    # state=tk.DISABLED,\n",
    "    padx=50,\n",
    "    pady=10,\n",
    "    command = my_click\n",
    ")\n",
    "\n",
    "# place in gui\n",
    "lbl1.grid(row=0, column=0)\n",
    "txt1.grid(row=0, column=1)\n",
    "txt1.insert(0, \"enter id\")\n",
    "\n",
    "lbl2.grid(row=1, column=0)\n",
    "txt2.grid(row=1, column=1)\n",
    "txt2.insert(0, \"enter password\")\n",
    "\n",
    "btn1.grid(row=2, column=0)\n",
    "\n",
    "gui.mainloop()"
   ]
  }
 ],
 "metadata": {
  "interpreter": {
   "hash": "64f9ead12e17e7fa860195ad99dbd5fa0bc7fe60cbbff9fa5d575a3140ec7535"
  },
  "kernelspec": {
   "display_name": "Python 3.10.2 64-bit",
   "language": "python",
   "name": "python3"
  },
  "language_info": {
   "codemirror_mode": {
    "name": "ipython",
    "version": 3
   },
   "file_extension": ".py",
   "mimetype": "text/x-python",
   "name": "python",
   "nbconvert_exporter": "python",
   "pygments_lexer": "ipython3",
   "version": "3.10.2"
  },
  "orig_nbformat": 4
 },
 "nbformat": 4,
 "nbformat_minor": 2
}
