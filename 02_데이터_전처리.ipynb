{
  "cells": [
    {
      "cell_type": "markdown",
      "metadata": {
        "id": "v6sKw2yktyX3"
      },
      "source": [
        "# 1) 데이터 분석 준비"
      ]
    },
    {
      "cell_type": "markdown",
      "metadata": {
        "id": "sBgXgDvcuvmU"
      },
      "source": [
        "## 가) Colab 환경설정"
      ]
    },
    {
      "cell_type": "code",
      "execution_count": 2,
      "metadata": {
        "colab": {
          "base_uri": "https://localhost:8080/",
          "height": 0
        },
        "id": "X4E9BRrGuzcA",
        "outputId": "dff55ec3-c894-4c9d-8b2d-8bcd1519d1f4"
      },
      "outputs": [
        {
          "name": "stderr",
          "output_type": "stream",
          "text": [
            "'sudo'��(��) ���� �Ǵ� �ܺ� ����, ������ �� �ִ� ���α׷�, �Ǵ�\n",
            "��ġ ������ �ƴմϴ�.\n",
            "'sudo'��(��) ���� �Ǵ� �ܺ� ����, ������ �� �ִ� ���α׷�, �Ǵ�\n",
            "��ġ ������ �ƴմϴ�.\n",
            "'rm'��(��) ���� �Ǵ� �ܺ� ����, ������ �� �ִ� ���α׷�, �Ǵ�\n",
            "��ġ ������ �ƴմϴ�.\n"
          ]
        },
        {
          "name": "stdout",
          "output_type": "stream",
          "text": [
            "Requirement already satisfied: pingouin in c:\\users\\biuser\\appdata\\local\\programs\\python\\python310\\lib\\site-packages (0.5.1)\n",
            "Requirement already satisfied: factor_analyzer in c:\\users\\biuser\\appdata\\local\\programs\\python\\python310\\lib\\site-packages (0.4.0)\n",
            "Requirement already satisfied: numpy>=1.19 in c:\\users\\biuser\\appdata\\local\\programs\\python\\python310\\lib\\site-packages (from pingouin) (1.22.3)\n",
            "Requirement already satisfied: scipy>=1.7 in c:\\users\\biuser\\appdata\\local\\programs\\python\\python310\\lib\\site-packages (from pingouin) (1.8.0)\n",
            "Requirement already satisfied: pandas>=1.0 in c:\\users\\biuser\\appdata\\local\\programs\\python\\python310\\lib\\site-packages (from pingouin) (1.4.1)\n",
            "Requirement already satisfied: matplotlib>=3.0.2 in c:\\users\\biuser\\appdata\\local\\programs\\python\\python310\\lib\\site-packages (from pingouin) (3.5.1)\n",
            "Requirement already satisfied: seaborn>=0.11 in c:\\users\\biuser\\appdata\\local\\programs\\python\\python310\\lib\\site-packages (from pingouin) (0.11.2)\n",
            "Requirement already satisfied: statsmodels>=0.13 in c:\\users\\biuser\\appdata\\local\\programs\\python\\python310\\lib\\site-packages (from pingouin) (0.13.2)\n",
            "Requirement already satisfied: scikit-learn in c:\\users\\biuser\\appdata\\local\\programs\\python\\python310\\lib\\site-packages (from pingouin) (1.0.2)\n",
            "Requirement already satisfied: pandas_flavor>=0.2.0 in c:\\users\\biuser\\appdata\\local\\programs\\python\\python310\\lib\\site-packages (from pingouin) (0.2.0)\n",
            "Requirement already satisfied: outdated in c:\\users\\biuser\\appdata\\local\\programs\\python\\python310\\lib\\site-packages (from pingouin) (0.2.1)\n",
            "Requirement already satisfied: tabulate in c:\\users\\biuser\\appdata\\local\\programs\\python\\python310\\lib\\site-packages (from pingouin) (0.8.9)\n",
            "Requirement already satisfied: python-dateutil>=2.7 in c:\\users\\biuser\\appdata\\roaming\\python\\python310\\site-packages (from matplotlib>=3.0.2->pingouin) (2.8.2)\n",
            "Requirement already satisfied: kiwisolver>=1.0.1 in c:\\users\\biuser\\appdata\\local\\programs\\python\\python310\\lib\\site-packages (from matplotlib>=3.0.2->pingouin) (1.4.0)\n",
            "Requirement already satisfied: fonttools>=4.22.0 in c:\\users\\biuser\\appdata\\local\\programs\\python\\python310\\lib\\site-packages (from matplotlib>=3.0.2->pingouin) (4.31.2)\n",
            "Requirement already satisfied: cycler>=0.10 in c:\\users\\biuser\\appdata\\local\\programs\\python\\python310\\lib\\site-packages (from matplotlib>=3.0.2->pingouin) (0.11.0)\n",
            "Requirement already satisfied: pyparsing>=2.2.1 in c:\\users\\biuser\\appdata\\roaming\\python\\python310\\site-packages (from matplotlib>=3.0.2->pingouin) (3.0.7)\n",
            "Requirement already satisfied: pillow>=6.2.0 in c:\\users\\biuser\\appdata\\local\\programs\\python\\python310\\lib\\site-packages (from matplotlib>=3.0.2->pingouin) (9.0.1)\n",
            "Requirement already satisfied: packaging>=20.0 in c:\\users\\biuser\\appdata\\roaming\\python\\python310\\site-packages (from matplotlib>=3.0.2->pingouin) (21.3)\n",
            "Requirement already satisfied: pytz>=2020.1 in c:\\users\\biuser\\appdata\\local\\programs\\python\\python310\\lib\\site-packages (from pandas>=1.0->pingouin) (2022.1)\n",
            "Requirement already satisfied: xarray in c:\\users\\biuser\\appdata\\local\\programs\\python\\python310\\lib\\site-packages (from pandas_flavor>=0.2.0->pingouin) (2022.3.0)\n",
            "Requirement already satisfied: patsy>=0.5.2 in c:\\users\\biuser\\appdata\\local\\programs\\python\\python310\\lib\\site-packages (from statsmodels>=0.13->pingouin) (0.5.2)\n",
            "Requirement already satisfied: requests in c:\\users\\biuser\\appdata\\local\\programs\\python\\python310\\lib\\site-packages (from outdated->pingouin) (2.27.1)\n",
            "Requirement already satisfied: littleutils in c:\\users\\biuser\\appdata\\local\\programs\\python\\python310\\lib\\site-packages (from outdated->pingouin) (0.2.2)\n",
            "Requirement already satisfied: threadpoolctl>=2.0.0 in c:\\users\\biuser\\appdata\\local\\programs\\python\\python310\\lib\\site-packages (from scikit-learn->pingouin) (3.1.0)\n",
            "Requirement already satisfied: joblib>=0.11 in c:\\users\\biuser\\appdata\\local\\programs\\python\\python310\\lib\\site-packages (from scikit-learn->pingouin) (1.1.0)\n",
            "Requirement already satisfied: six in c:\\users\\biuser\\appdata\\roaming\\python\\python310\\site-packages (from patsy>=0.5.2->statsmodels>=0.13->pingouin) (1.16.0)\n",
            "Requirement already satisfied: certifi>=2017.4.17 in c:\\users\\biuser\\appdata\\local\\programs\\python\\python310\\lib\\site-packages (from requests->outdated->pingouin) (2021.10.8)\n",
            "Requirement already satisfied: idna<4,>=2.5 in c:\\users\\biuser\\appdata\\local\\programs\\python\\python310\\lib\\site-packages (from requests->outdated->pingouin) (3.3)\n",
            "Requirement already satisfied: urllib3<1.27,>=1.21.1 in c:\\users\\biuser\\appdata\\local\\programs\\python\\python310\\lib\\site-packages (from requests->outdated->pingouin) (1.26.9)\n",
            "Requirement already satisfied: charset-normalizer~=2.0.0 in c:\\users\\biuser\\appdata\\local\\programs\\python\\python310\\lib\\site-packages (from requests->outdated->pingouin) (2.0.12)\n"
          ]
        }
      ],
      "source": [
        "# 폰트 설치\n",
        "!sudo apt-get install -y fonts-nanum\n",
        "!sudo fc-cache -fv\n",
        "!rm ~/.cache/matplotlib -rf\n",
        "\n",
        "# 요인분석 라이브러리 설치 -- 런타임 다시 시작 해야함\n",
        "!pip install pingouin factor_analyzer"
      ]
    },
    {
      "cell_type": "markdown",
      "metadata": {
        "id": "3SeNmbcuuK8j"
      },
      "source": [
        "## 나) 필수 패키지"
      ]
    },
    {
      "cell_type": "code",
      "execution_count": 2,
      "metadata": {
        "id": "5jFVMfaVudx2"
      },
      "outputs": [],
      "source": [
        "import numpy as np\n",
        "import pandas as pd\n",
        "import missingno as msno\n",
        "\n",
        "from patsy import demo_data, dmatrix\n",
        "from pandas_profiling import ProfileReport"
      ]
    },
    {
      "cell_type": "markdown",
      "metadata": {
        "id": "i_Iz_N5kuK_U"
      },
      "source": [
        "## 다) 시각화 패키지"
      ]
    },
    {
      "cell_type": "code",
      "execution_count": 3,
      "metadata": {
        "id": "7QvosDqFulM0"
      },
      "outputs": [],
      "source": [
        "import matplotlib.pyplot as plt\n",
        "%matplotlib inline\n",
        "\n",
        "import seaborn as sns\n",
        "sns.set_theme()\n",
        "\n",
        "import warnings\n",
        "warnings.filterwarnings('ignore')"
      ]
    },
    {
      "cell_type": "code",
      "execution_count": 4,
      "metadata": {
        "id": "nXGVtJLm3Jzn"
      },
      "outputs": [],
      "source": [
        "plt.rcParams['figure.figsize'] = (10, 5)\n",
        "plt.rc('font', family='NanumBarunGothic')\n",
        "plt.rcParams['axes.unicode_minus'] = False\n",
        "plt.rcParams['font.size'] = 12"
      ]
    },
    {
      "cell_type": "markdown",
      "metadata": {
        "id": "kIVM0s60uLCE"
      },
      "source": [
        "## 라) 머신러닝 패키지"
      ]
    },
    {
      "cell_type": "code",
      "execution_count": 6,
      "metadata": {
        "id": "AfGizZjculuU"
      },
      "outputs": [],
      "source": [
        "# 정규성 검정 - Shapiro-wilk, Q-Q Plot\n",
        "from scipy.stats import shapiro, kstest\n",
        "import statsmodels.api as sm\n",
        "\n",
        "# 등분산성 검정\n",
        "from scipy.stats import levene, bartlett, fligner\n",
        "\n",
        "# T-검정\n",
        "from scipy.stats import ttest_1samp, ttest_ind, ttest_rel\n",
        "\n",
        "# 비모수 검정\n",
        "from statsmodels.sandbox.stats.runs import Runs\n",
        "from statsmodels.stats.diagnostic import kstest_normal\n",
        "from scipy.stats import wilcoxon, ranksums, mannwhitneyu, kruskal\n",
        "\n",
        "# 교차분석(카이제곱 & 피셔의 정확 검정)\n",
        "from scipy.stats import chisquare, chi2_contingency, fisher_exact\n",
        "\n",
        "# ANOMA 분석\n",
        "from statsmodels.formula.api import ols\n",
        "from statsmodels.stats.anova import anova_lm\n",
        "\n",
        "# 다중비교 사후검정\n",
        "from statsmodels.stats.multicomp import pairwise_tukeyhsd\n",
        "\n",
        "# 상관분석\n",
        "from scipy import stats\n",
        "\n",
        "# 결측치 대체\n",
        "from sklearn.impute import SimpleImputer\n",
        "\n",
        "# 표준화\n",
        "from sklearn.preprocessing import MinMaxScaler, StandardScaler, RobustScaler\n",
        "from sklearn.preprocessing import QuantileTransformer, PowerTransformer\n",
        "from sklearn.preprocessing import minmax_scale\n",
        "\n",
        "# 주성분 분석\n",
        "from sklearn.decomposition import PCA\n",
        "\n",
        "# 요인분석\n",
        "import pingouin as pg\n",
        "from factor_analyzer.factor_analyzer import calculate_bartlett_sphericity\n",
        "from factor_analyzer.factor_analyzer import calculate_kmo\n",
        "from factor_analyzer import FactorAnalyzer\n",
        "from sklearn.decomposition import FactorAnalysis"
      ]
    },
    {
      "cell_type": "markdown",
      "metadata": {
        "id": "J8urkg-9u-fa"
      },
      "source": [
        "## 마) 분석 데이터 로드"
      ]
    },
    {
      "cell_type": "code",
      "execution_count": 7,
      "metadata": {
        "id": "qjSiiUsotvjJ"
      },
      "outputs": [],
      "source": [
        "mtcars = pd.read_csv('https://github.com/ksky1313/ADP/raw/main/data/mtcars.csv')\n",
        "mtcars.drop(columns=mtcars.columns[0], inplace=True)\n",
        "titanic = pd.read_csv('https://github.com/ksky1313/ADP/raw/main/data/titanic.csv', encoding='utf-8')\n",
        "titanic.drop(columns=titanic.columns[0], inplace=True)"
      ]
    },
    {
      "cell_type": "markdown",
      "metadata": {
        "id": "RWo-c5wbvLDW"
      },
      "source": [
        "# 2) 데이터 셋 확인"
      ]
    },
    {
      "cell_type": "markdown",
      "metadata": {
        "id": "e3QbbGwUD8GF"
      },
      "source": [
        "## 가) 변수 확인"
      ]
    },
    {
      "cell_type": "code",
      "execution_count": 8,
      "metadata": {
        "colab": {
          "base_uri": "https://localhost:8080/",
          "height": 0
        },
        "id": "Xmb9faCldZqX",
        "outputId": "ef6d3fc2-796f-47f8-cc25-e8cb8c4c92ea"
      },
      "outputs": [
        {
          "name": "stdout",
          "output_type": "stream",
          "text": [
            "<class 'pandas.core.frame.DataFrame'>\n",
            "RangeIndex: 32 entries, 0 to 31\n",
            "Data columns (total 12 columns):\n",
            " #   Column   Non-Null Count  Dtype  \n",
            "---  ------   --------------  -----  \n",
            " 0   carname  32 non-null     object \n",
            " 1   mpg      32 non-null     float64\n",
            " 2   cyl      32 non-null     int64  \n",
            " 3   disp     32 non-null     float64\n",
            " 4   hp       32 non-null     int64  \n",
            " 5   drat     32 non-null     float64\n",
            " 6   wt       32 non-null     float64\n",
            " 7   qsec     32 non-null     float64\n",
            " 8   vs       32 non-null     int64  \n",
            " 9   am       32 non-null     int64  \n",
            " 10  gear     32 non-null     int64  \n",
            " 11  carb     32 non-null     int64  \n",
            "dtypes: float64(5), int64(6), object(1)\n",
            "memory usage: 3.1+ KB\n"
          ]
        }
      ],
      "source": [
        "df = mtcars\n",
        "df.info()"
      ]
    },
    {
      "cell_type": "code",
      "execution_count": 9,
      "metadata": {
        "colab": {
          "base_uri": "https://localhost:8080/",
          "height": 394
        },
        "id": "xtIImkq9dnJg",
        "outputId": "b3b7e568-54a7-44ea-e0d5-db7eda8682e2"
      },
      "outputs": [
        {
          "data": {
            "text/html": [
              "\n",
              "  <div id=\"df-39c52562-9289-49cd-a3aa-449f50668a2f\">\n",
              "    <div class=\"colab-df-container\">\n",
              "      <div>\n",
              "<style scoped>\n",
              "    .dataframe tbody tr th:only-of-type {\n",
              "        vertical-align: middle;\n",
              "    }\n",
              "\n",
              "    .dataframe tbody tr th {\n",
              "        vertical-align: top;\n",
              "    }\n",
              "\n",
              "    .dataframe thead th {\n",
              "        text-align: right;\n",
              "    }\n",
              "</style>\n",
              "<table border=\"1\" class=\"dataframe\">\n",
              "  <thead>\n",
              "    <tr style=\"text-align: right;\">\n",
              "      <th></th>\n",
              "      <th>count</th>\n",
              "      <th>mean</th>\n",
              "      <th>std</th>\n",
              "      <th>min</th>\n",
              "      <th>25%</th>\n",
              "      <th>50%</th>\n",
              "      <th>75%</th>\n",
              "      <th>max</th>\n",
              "    </tr>\n",
              "  </thead>\n",
              "  <tbody>\n",
              "    <tr>\n",
              "      <th>mpg</th>\n",
              "      <td>32.0</td>\n",
              "      <td>20.090625</td>\n",
              "      <td>6.026948</td>\n",
              "      <td>10.400</td>\n",
              "      <td>15.42500</td>\n",
              "      <td>19.200</td>\n",
              "      <td>22.80</td>\n",
              "      <td>33.900</td>\n",
              "    </tr>\n",
              "    <tr>\n",
              "      <th>cyl</th>\n",
              "      <td>32.0</td>\n",
              "      <td>6.187500</td>\n",
              "      <td>1.785922</td>\n",
              "      <td>4.000</td>\n",
              "      <td>4.00000</td>\n",
              "      <td>6.000</td>\n",
              "      <td>8.00</td>\n",
              "      <td>8.000</td>\n",
              "    </tr>\n",
              "    <tr>\n",
              "      <th>disp</th>\n",
              "      <td>32.0</td>\n",
              "      <td>230.721875</td>\n",
              "      <td>123.938694</td>\n",
              "      <td>71.100</td>\n",
              "      <td>120.82500</td>\n",
              "      <td>196.300</td>\n",
              "      <td>326.00</td>\n",
              "      <td>472.000</td>\n",
              "    </tr>\n",
              "    <tr>\n",
              "      <th>hp</th>\n",
              "      <td>32.0</td>\n",
              "      <td>146.687500</td>\n",
              "      <td>68.562868</td>\n",
              "      <td>52.000</td>\n",
              "      <td>96.50000</td>\n",
              "      <td>123.000</td>\n",
              "      <td>180.00</td>\n",
              "      <td>335.000</td>\n",
              "    </tr>\n",
              "    <tr>\n",
              "      <th>drat</th>\n",
              "      <td>32.0</td>\n",
              "      <td>3.596563</td>\n",
              "      <td>0.534679</td>\n",
              "      <td>2.760</td>\n",
              "      <td>3.08000</td>\n",
              "      <td>3.695</td>\n",
              "      <td>3.92</td>\n",
              "      <td>4.930</td>\n",
              "    </tr>\n",
              "    <tr>\n",
              "      <th>wt</th>\n",
              "      <td>32.0</td>\n",
              "      <td>3.217250</td>\n",
              "      <td>0.978457</td>\n",
              "      <td>1.513</td>\n",
              "      <td>2.58125</td>\n",
              "      <td>3.325</td>\n",
              "      <td>3.61</td>\n",
              "      <td>5.424</td>\n",
              "    </tr>\n",
              "    <tr>\n",
              "      <th>qsec</th>\n",
              "      <td>32.0</td>\n",
              "      <td>17.848750</td>\n",
              "      <td>1.786943</td>\n",
              "      <td>14.500</td>\n",
              "      <td>16.89250</td>\n",
              "      <td>17.710</td>\n",
              "      <td>18.90</td>\n",
              "      <td>22.900</td>\n",
              "    </tr>\n",
              "    <tr>\n",
              "      <th>vs</th>\n",
              "      <td>32.0</td>\n",
              "      <td>0.437500</td>\n",
              "      <td>0.504016</td>\n",
              "      <td>0.000</td>\n",
              "      <td>0.00000</td>\n",
              "      <td>0.000</td>\n",
              "      <td>1.00</td>\n",
              "      <td>1.000</td>\n",
              "    </tr>\n",
              "    <tr>\n",
              "      <th>am</th>\n",
              "      <td>32.0</td>\n",
              "      <td>0.406250</td>\n",
              "      <td>0.498991</td>\n",
              "      <td>0.000</td>\n",
              "      <td>0.00000</td>\n",
              "      <td>0.000</td>\n",
              "      <td>1.00</td>\n",
              "      <td>1.000</td>\n",
              "    </tr>\n",
              "    <tr>\n",
              "      <th>gear</th>\n",
              "      <td>32.0</td>\n",
              "      <td>3.687500</td>\n",
              "      <td>0.737804</td>\n",
              "      <td>3.000</td>\n",
              "      <td>3.00000</td>\n",
              "      <td>4.000</td>\n",
              "      <td>4.00</td>\n",
              "      <td>5.000</td>\n",
              "    </tr>\n",
              "    <tr>\n",
              "      <th>carb</th>\n",
              "      <td>32.0</td>\n",
              "      <td>2.812500</td>\n",
              "      <td>1.615200</td>\n",
              "      <td>1.000</td>\n",
              "      <td>2.00000</td>\n",
              "      <td>2.000</td>\n",
              "      <td>4.00</td>\n",
              "      <td>8.000</td>\n",
              "    </tr>\n",
              "  </tbody>\n",
              "</table>\n",
              "</div>\n",
              "      <button class=\"colab-df-convert\" onclick=\"convertToInteractive('df-39c52562-9289-49cd-a3aa-449f50668a2f')\"\n",
              "              title=\"Convert this dataframe to an interactive table.\"\n",
              "              style=\"display:none;\">\n",
              "        \n",
              "  <svg xmlns=\"http://www.w3.org/2000/svg\" height=\"24px\"viewBox=\"0 0 24 24\"\n",
              "       width=\"24px\">\n",
              "    <path d=\"M0 0h24v24H0V0z\" fill=\"none\"/>\n",
              "    <path d=\"M18.56 5.44l.94 2.06.94-2.06 2.06-.94-2.06-.94-.94-2.06-.94 2.06-2.06.94zm-11 1L8.5 8.5l.94-2.06 2.06-.94-2.06-.94L8.5 2.5l-.94 2.06-2.06.94zm10 10l.94 2.06.94-2.06 2.06-.94-2.06-.94-.94-2.06-.94 2.06-2.06.94z\"/><path d=\"M17.41 7.96l-1.37-1.37c-.4-.4-.92-.59-1.43-.59-.52 0-1.04.2-1.43.59L10.3 9.45l-7.72 7.72c-.78.78-.78 2.05 0 2.83L4 21.41c.39.39.9.59 1.41.59.51 0 1.02-.2 1.41-.59l7.78-7.78 2.81-2.81c.8-.78.8-2.07 0-2.86zM5.41 20L4 18.59l7.72-7.72 1.47 1.35L5.41 20z\"/>\n",
              "  </svg>\n",
              "      </button>\n",
              "      \n",
              "  <style>\n",
              "    .colab-df-container {\n",
              "      display:flex;\n",
              "      flex-wrap:wrap;\n",
              "      gap: 12px;\n",
              "    }\n",
              "\n",
              "    .colab-df-convert {\n",
              "      background-color: #E8F0FE;\n",
              "      border: none;\n",
              "      border-radius: 50%;\n",
              "      cursor: pointer;\n",
              "      display: none;\n",
              "      fill: #1967D2;\n",
              "      height: 32px;\n",
              "      padding: 0 0 0 0;\n",
              "      width: 32px;\n",
              "    }\n",
              "\n",
              "    .colab-df-convert:hover {\n",
              "      background-color: #E2EBFA;\n",
              "      box-shadow: 0px 1px 2px rgba(60, 64, 67, 0.3), 0px 1px 3px 1px rgba(60, 64, 67, 0.15);\n",
              "      fill: #174EA6;\n",
              "    }\n",
              "\n",
              "    [theme=dark] .colab-df-convert {\n",
              "      background-color: #3B4455;\n",
              "      fill: #D2E3FC;\n",
              "    }\n",
              "\n",
              "    [theme=dark] .colab-df-convert:hover {\n",
              "      background-color: #434B5C;\n",
              "      box-shadow: 0px 1px 3px 1px rgba(0, 0, 0, 0.15);\n",
              "      filter: drop-shadow(0px 1px 2px rgba(0, 0, 0, 0.3));\n",
              "      fill: #FFFFFF;\n",
              "    }\n",
              "  </style>\n",
              "\n",
              "      <script>\n",
              "        const buttonEl =\n",
              "          document.querySelector('#df-39c52562-9289-49cd-a3aa-449f50668a2f button.colab-df-convert');\n",
              "        buttonEl.style.display =\n",
              "          google.colab.kernel.accessAllowed ? 'block' : 'none';\n",
              "\n",
              "        async function convertToInteractive(key) {\n",
              "          const element = document.querySelector('#df-39c52562-9289-49cd-a3aa-449f50668a2f');\n",
              "          const dataTable =\n",
              "            await google.colab.kernel.invokeFunction('convertToInteractive',\n",
              "                                                     [key], {});\n",
              "          if (!dataTable) return;\n",
              "\n",
              "          const docLinkHtml = 'Like what you see? Visit the ' +\n",
              "            '<a target=\"_blank\" href=https://colab.research.google.com/notebooks/data_table.ipynb>data table notebook</a>'\n",
              "            + ' to learn more about interactive tables.';\n",
              "          element.innerHTML = '';\n",
              "          dataTable['output_type'] = 'display_data';\n",
              "          await google.colab.output.renderOutput(dataTable, element);\n",
              "          const docLink = document.createElement('div');\n",
              "          docLink.innerHTML = docLinkHtml;\n",
              "          element.appendChild(docLink);\n",
              "        }\n",
              "      </script>\n",
              "    </div>\n",
              "  </div>\n",
              "  "
            ],
            "text/plain": [
              "      count        mean         std     min        25%      50%     75%  \\\n",
              "mpg    32.0   20.090625    6.026948  10.400   15.42500   19.200   22.80   \n",
              "cyl    32.0    6.187500    1.785922   4.000    4.00000    6.000    8.00   \n",
              "disp   32.0  230.721875  123.938694  71.100  120.82500  196.300  326.00   \n",
              "hp     32.0  146.687500   68.562868  52.000   96.50000  123.000  180.00   \n",
              "drat   32.0    3.596563    0.534679   2.760    3.08000    3.695    3.92   \n",
              "wt     32.0    3.217250    0.978457   1.513    2.58125    3.325    3.61   \n",
              "qsec   32.0   17.848750    1.786943  14.500   16.89250   17.710   18.90   \n",
              "vs     32.0    0.437500    0.504016   0.000    0.00000    0.000    1.00   \n",
              "am     32.0    0.406250    0.498991   0.000    0.00000    0.000    1.00   \n",
              "gear   32.0    3.687500    0.737804   3.000    3.00000    4.000    4.00   \n",
              "carb   32.0    2.812500    1.615200   1.000    2.00000    2.000    4.00   \n",
              "\n",
              "          max  \n",
              "mpg    33.900  \n",
              "cyl     8.000  \n",
              "disp  472.000  \n",
              "hp    335.000  \n",
              "drat    4.930  \n",
              "wt      5.424  \n",
              "qsec   22.900  \n",
              "vs      1.000  \n",
              "am      1.000  \n",
              "gear    5.000  \n",
              "carb    8.000  "
            ]
          },
          "execution_count": 9,
          "metadata": {},
          "output_type": "execute_result"
        }
      ],
      "source": [
        "df.describe().T"
      ]
    },
    {
      "cell_type": "markdown",
      "metadata": {
        "id": "vN1pintnD7sH"
      },
      "source": [
        "## 나) 변수간 관계 확인"
      ]
    },
    {
      "cell_type": "markdown",
      "metadata": {
        "id": "rofuZeiQd8D1"
      },
      "source": [
        "### (1) 연속형 - 연속형 변수"
      ]
    },
    {
      "cell_type": "code",
      "execution_count": 10,
      "metadata": {
        "colab": {
          "base_uri": "https://localhost:8080/",
          "height": 0
        },
        "id": "xlZ28gNver-X",
        "outputId": "5c222f80-8545-4860-f237-d2b2e086e2d6"
      },
      "outputs": [
        {
          "data": {
            "text/plain": [
              "wt     -0.867659\n",
              "cyl    -0.852162\n",
              "disp   -0.847551\n",
              "hp     -0.776168\n",
              "carb   -0.550925\n",
              "qsec    0.418684\n",
              "gear    0.480285\n",
              "am      0.599832\n",
              "vs      0.664039\n",
              "drat    0.681172\n",
              "mpg     1.000000\n",
              "dtype: float64"
            ]
          },
          "execution_count": 10,
          "metadata": {},
          "output_type": "execute_result"
        }
      ],
      "source": [
        "# 상관 분석\n",
        "df.corrwith(df.mpg).sort_values()"
      ]
    },
    {
      "cell_type": "code",
      "execution_count": 11,
      "metadata": {
        "colab": {
          "base_uri": "https://localhost:8080/",
          "height": 340
        },
        "id": "tqmEgL2nDg8-",
        "outputId": "09369f06-3f41-4dc2-d57b-e272d5ec1b57"
      },
      "outputs": [
        {
          "data": {
            "image/png": "[encoded data removed]",
            "text/plain": [
              "<Figure size 720x360 with 1 Axes>"
            ]
          },
          "metadata": {},
          "output_type": "display_data"
        }
      ],
      "source": [
        "# 상관 관계 시각화\n",
        "sns.regplot(\n",
        "    data = df,\n",
        "    x = 'mpg',\n",
        "    y = 'disp'\n",
        ");"
      ]
    },
    {
      "cell_type": "markdown",
      "metadata": {
        "id": "U_58J1yIeFcS"
      },
      "source": [
        "### (2) 범주형 - 범주형 변수"
      ]
    },
    {
      "cell_type": "code",
      "execution_count": 12,
      "metadata": {
        "colab": {
          "base_uri": "https://localhost:8080/",
          "height": 382
        },
        "id": "HpJcXXqofYR_",
        "outputId": "f2268ebb-018b-46e9-edb0-8801e84c6aa3"
      },
      "outputs": [
        {
          "data": {
            "image/png": "[encoded data removed]",
            "text/plain": [
              "<Figure size 720x360 with 2 Axes>"
            ]
          },
          "metadata": {},
          "output_type": "display_data"
        },
        {
          "name": "stdout",
          "output_type": "stream",
          "text": [
            "카이제곱검정, (H0) cyl과 gear는 서로 독립적이다: False\n",
            "상관분석, cyl과 gear는 음(-0.5643104747017164)의 상관 관계이다.\n"
          ]
        }
      ],
      "source": [
        "# Contingency Table 생성 & 시각화\n",
        "df_contingency = pd.crosstab(\n",
        "    df['cyl'],\n",
        "    df['gear']\n",
        "    )\n",
        "\n",
        "sns.heatmap(\n",
        "    data = df_contingency,\n",
        "    annot = True,\n",
        "    cmap = 'Blues'\n",
        ")\n",
        "plt.show()\n",
        "\n",
        "# 카이제곱 검정\n",
        "chi, pvalue, dof, expected = chi2_contingency(df_contingency)\n",
        "print('카이제곱검정, (H0) cyl과 gear는 서로 독립적이다: {}'.format(pvalue > 0.05))\n",
        "\n",
        "# 스피어만 상관분석\n",
        "stat, pvalue = stats.spearmanr(df.cyl, df.gear)\n",
        "print('상관분석, cyl과 gear는 {}({})의 상관 관계이다.'.format('양' if stat > 0 else '음', stat))"
      ]
    },
    {
      "cell_type": "code",
      "execution_count": 13,
      "metadata": {
        "colab": {
          "base_uri": "https://localhost:8080/",
          "height": 358
        },
        "id": "68zOV61YgEtj",
        "outputId": "7380dbd3-de33-44e4-eb43-975bd256d2bf"
      },
      "outputs": [
        {
          "data": {
            "text/plain": [
              "<matplotlib.axes._subplots.AxesSubplot at 0x7f4eca201910>"
            ]
          },
          "execution_count": 13,
          "metadata": {},
          "output_type": "execute_result"
        },
        {
          "data": {
            "image/png": "[encoded data removed]",
            "text/plain": [
              "<Figure size 720x360 with 1 Axes>"
            ]
          },
          "metadata": {},
          "output_type": "display_data"
        }
      ],
      "source": [
        "# 누적 막대 그래프 시각화\n",
        "sns.histplot(\n",
        "    data = df,\n",
        "    x = 'gear',\n",
        "    hue = 'cyl'\n",
        ")"
      ]
    },
    {
      "cell_type": "markdown",
      "metadata": {
        "id": "JboV6FGteFOT"
      },
      "source": [
        "### (3) 범주형 - 연속형 변수"
      ]
    },
    {
      "cell_type": "markdown",
      "metadata": {
        "id": "Y5qFQBY4j8qP"
      },
      "source": [
        "#### (가) 2개 범주 - T검정"
      ]
    },
    {
      "cell_type": "code",
      "execution_count": 14,
      "metadata": {
        "colab": {
          "base_uri": "https://localhost:8080/",
          "height": 0
        },
        "id": "WPpXzZM-khb_",
        "outputId": "462459ef-d14c-4d93-bb4d-86b205a061ec"
      },
      "outputs": [
        {
          "name": "stdout",
          "output_type": "stream",
          "text": [
            "등분산검정, (H0) 집단의 분산이 같다 : False\n",
            "T검정, (H0) am에 따라 mpg 평균에 유의미한 차이가 없다. : False\n"
          ]
        }
      ],
      "source": [
        "# 등분산 검정\n",
        "stat, pvalue = levene(\n",
        "    df.query('am==0')['mpg'], \n",
        "    df.query('am==1')['mpg']\n",
        "    )\n",
        "print('등분산검정, (H0) 집단의 분산이 같다 : {}'.format(pvalue > 0.05))\n",
        "\n",
        "# 독립표본 T검정 실시\n",
        "stat, pvalue = ttest_ind(\n",
        "    df.query('am==0')['mpg'], \n",
        "    df.query('am==1')['mpg'], \n",
        "    equal_var=(pvalue > 0.05)\n",
        "    )\n",
        "print('T검정, (H0) am에 따라 mpg 평균에 유의미한 차이가 없다. : {}'.format(pvalue > 0.05))"
      ]
    },
    {
      "cell_type": "markdown",
      "metadata": {
        "id": "sEuGfzwQkHj9"
      },
      "source": [
        "#### (나) 3개 범주 이상 - ANOVA"
      ]
    },
    {
      "cell_type": "code",
      "execution_count": 15,
      "metadata": {
        "colab": {
          "base_uri": "https://localhost:8080/",
          "height": 0
        },
        "id": "OXWMBkUCePS8",
        "outputId": "968b82c1-2aa9-405f-caa3-24e4cfa4ef05"
      },
      "outputs": [
        {
          "name": "stdout",
          "output_type": "stream",
          "text": [
            "ANOVA, (H0) cyl에 따른 mpg의 평균은 같다. : False\n"
          ]
        }
      ],
      "source": [
        "# 일원 ANOVA 검정\n",
        "model = ols('mpg ~ C(cyl)', df).fit()\n",
        "am = anova_lm(model, typ=3)\n",
        "\n",
        "print('ANOVA, (H0) cyl에 따른 mpg의 평균은 같다. : {}'.format(am.iloc[1,3] > 0.05))"
      ]
    },
    {
      "cell_type": "code",
      "execution_count": 16,
      "metadata": {
        "colab": {
          "base_uri": "https://localhost:8080/",
          "height": 345
        },
        "id": "WNbrq4FznXIZ",
        "outputId": "34ac94e7-de72-48cf-8e83-a1fafd158ff5"
      },
      "outputs": [
        {
          "data": {
            "image/png": "[encoded data removed]",
            "text/plain": [
              "<Figure size 720x360 with 1 Axes>"
            ]
          },
          "metadata": {},
          "output_type": "display_data"
        }
      ],
      "source": [
        "# 범주별 평균 시각화\n",
        "sns.pointplot(\n",
        "    data = df,\n",
        "    x = 'cyl',\n",
        "    y = 'mpg',\n",
        "    cv = 100\n",
        ");"
      ]
    },
    {
      "cell_type": "markdown",
      "metadata": {
        "id": "jNYZ38tyDkTQ"
      },
      "source": [
        "# 3) 결측값 처리"
      ]
    },
    {
      "cell_type": "markdown",
      "metadata": {
        "id": "nZCcuzeoEGDp"
      },
      "source": [
        "## 가) 결측값 확인"
      ]
    },
    {
      "cell_type": "code",
      "execution_count": 17,
      "metadata": {
        "colab": {
          "base_uri": "https://localhost:8080/",
          "height": 0
        },
        "id": "k2wW6LkwoFIA",
        "outputId": "48300779-5b51-40c5-d247-6dde0c83500b"
      },
      "outputs": [
        {
          "data": {
            "text/plain": [
              "Cabin          687\n",
              "Age            177\n",
              "Embarked         2\n",
              "PassengerId      0\n",
              "Survived         0\n",
              "Pclass           0\n",
              "Name             0\n",
              "Sex              0\n",
              "SibSp            0\n",
              "Parch            0\n",
              "Ticket           0\n",
              "Fare             0\n",
              "dtype: int64"
            ]
          },
          "execution_count": 17,
          "metadata": {},
          "output_type": "execute_result"
        }
      ],
      "source": [
        "df = titanic\n",
        "\n",
        "# 결측치 확인\n",
        "df.isnull().sum().sort_values(ascending=False)"
      ]
    },
    {
      "cell_type": "code",
      "execution_count": 18,
      "metadata": {
        "colab": {
          "base_uri": "https://localhost:8080/",
          "height": 674
        },
        "id": "cr9VGKZdpcHe",
        "outputId": "2bfa4ab8-93e0-4e96-da2a-bbe70bfcb167"
      },
      "outputs": [
        {
          "data": {
            "image/png": "[encoded data removed]",
            "text/plain": [
              "<Figure size 1800x720 with 2 Axes>"
            ]
          },
          "metadata": {},
          "output_type": "display_data"
        }
      ],
      "source": [
        "# 결측치 시각화\n",
        "msno.matrix(df);"
      ]
    },
    {
      "cell_type": "markdown",
      "metadata": {
        "id": "5kdAENVTEFyo"
      },
      "source": [
        "## 나) 결측값 삭제\n",
        "- 70% 이상의 임계치를 정하고 결측치가 존재하는 행/열을 삭제\n",
        "- 데이터 손실이 발생하므로 선호되지 않음"
      ]
    },
    {
      "cell_type": "code",
      "execution_count": 19,
      "metadata": {
        "id": "vpKmyIDzqP91"
      },
      "outputs": [],
      "source": [
        "# 결측값이 하나라도 있는 행 삭제\n",
        "df_notna = df.dropna(axis=0, how='any', inplace=False)"
      ]
    },
    {
      "cell_type": "markdown",
      "metadata": {
        "id": "lrwMPtA3ERv4"
      },
      "source": [
        "## 다) 결측값 대체\n",
        "- 숫자형 : median 값으로 대체(mean은 이상치에 민감)\n",
        "- 범주형 : 최빈값 또는 'Other'로 대체"
      ]
    },
    {
      "cell_type": "markdown",
      "metadata": {
        "id": "A8HmWE4Z09Mp"
      },
      "source": [
        "### (1) pandas fillna, interpolate 이용"
      ]
    },
    {
      "cell_type": "code",
      "execution_count": 20,
      "metadata": {
        "colab": {
          "base_uri": "https://localhost:8080/",
          "height": 677
        },
        "id": "LxEoA5orv7co",
        "outputId": "f4ff34bd-0811-4415-866f-cc194d248590"
      },
      "outputs": [
        {
          "data": {
            "text/html": [
              "\n",
              "  <div id=\"df-17372324-9f99-4f84-9479-567d79f56733\">\n",
              "    <div class=\"colab-df-container\">\n",
              "      <div>\n",
              "<style scoped>\n",
              "    .dataframe tbody tr th:only-of-type {\n",
              "        vertical-align: middle;\n",
              "    }\n",
              "\n",
              "    .dataframe tbody tr th {\n",
              "        vertical-align: top;\n",
              "    }\n",
              "\n",
              "    .dataframe thead th {\n",
              "        text-align: right;\n",
              "    }\n",
              "</style>\n",
              "<table border=\"1\" class=\"dataframe\">\n",
              "  <thead>\n",
              "    <tr style=\"text-align: right;\">\n",
              "      <th></th>\n",
              "      <th>Age</th>\n",
              "      <th>Age_fillna</th>\n",
              "      <th>Age_ffill</th>\n",
              "      <th>Age_bbill</th>\n",
              "      <th>Age_interpolate</th>\n",
              "    </tr>\n",
              "  </thead>\n",
              "  <tbody>\n",
              "    <tr>\n",
              "      <th>0</th>\n",
              "      <td>22.0</td>\n",
              "      <td>22.0</td>\n",
              "      <td>22.0</td>\n",
              "      <td>22.0</td>\n",
              "      <td>22.0</td>\n",
              "    </tr>\n",
              "    <tr>\n",
              "      <th>1</th>\n",
              "      <td>38.0</td>\n",
              "      <td>38.0</td>\n",
              "      <td>38.0</td>\n",
              "      <td>38.0</td>\n",
              "      <td>38.0</td>\n",
              "    </tr>\n",
              "    <tr>\n",
              "      <th>2</th>\n",
              "      <td>26.0</td>\n",
              "      <td>26.0</td>\n",
              "      <td>26.0</td>\n",
              "      <td>26.0</td>\n",
              "      <td>26.0</td>\n",
              "    </tr>\n",
              "    <tr>\n",
              "      <th>3</th>\n",
              "      <td>35.0</td>\n",
              "      <td>35.0</td>\n",
              "      <td>35.0</td>\n",
              "      <td>35.0</td>\n",
              "      <td>35.0</td>\n",
              "    </tr>\n",
              "    <tr>\n",
              "      <th>4</th>\n",
              "      <td>35.0</td>\n",
              "      <td>35.0</td>\n",
              "      <td>35.0</td>\n",
              "      <td>35.0</td>\n",
              "      <td>35.0</td>\n",
              "    </tr>\n",
              "    <tr>\n",
              "      <th>5</th>\n",
              "      <td>NaN</td>\n",
              "      <td>28.0</td>\n",
              "      <td>35.0</td>\n",
              "      <td>54.0</td>\n",
              "      <td>44.5</td>\n",
              "    </tr>\n",
              "    <tr>\n",
              "      <th>6</th>\n",
              "      <td>54.0</td>\n",
              "      <td>54.0</td>\n",
              "      <td>54.0</td>\n",
              "      <td>54.0</td>\n",
              "      <td>54.0</td>\n",
              "    </tr>\n",
              "    <tr>\n",
              "      <th>7</th>\n",
              "      <td>2.0</td>\n",
              "      <td>2.0</td>\n",
              "      <td>2.0</td>\n",
              "      <td>2.0</td>\n",
              "      <td>2.0</td>\n",
              "    </tr>\n",
              "    <tr>\n",
              "      <th>8</th>\n",
              "      <td>27.0</td>\n",
              "      <td>27.0</td>\n",
              "      <td>27.0</td>\n",
              "      <td>27.0</td>\n",
              "      <td>27.0</td>\n",
              "    </tr>\n",
              "    <tr>\n",
              "      <th>9</th>\n",
              "      <td>14.0</td>\n",
              "      <td>14.0</td>\n",
              "      <td>14.0</td>\n",
              "      <td>14.0</td>\n",
              "      <td>14.0</td>\n",
              "    </tr>\n",
              "    <tr>\n",
              "      <th>10</th>\n",
              "      <td>4.0</td>\n",
              "      <td>4.0</td>\n",
              "      <td>4.0</td>\n",
              "      <td>4.0</td>\n",
              "      <td>4.0</td>\n",
              "    </tr>\n",
              "    <tr>\n",
              "      <th>11</th>\n",
              "      <td>58.0</td>\n",
              "      <td>58.0</td>\n",
              "      <td>58.0</td>\n",
              "      <td>58.0</td>\n",
              "      <td>58.0</td>\n",
              "    </tr>\n",
              "    <tr>\n",
              "      <th>12</th>\n",
              "      <td>20.0</td>\n",
              "      <td>20.0</td>\n",
              "      <td>20.0</td>\n",
              "      <td>20.0</td>\n",
              "      <td>20.0</td>\n",
              "    </tr>\n",
              "    <tr>\n",
              "      <th>13</th>\n",
              "      <td>39.0</td>\n",
              "      <td>39.0</td>\n",
              "      <td>39.0</td>\n",
              "      <td>39.0</td>\n",
              "      <td>39.0</td>\n",
              "    </tr>\n",
              "    <tr>\n",
              "      <th>14</th>\n",
              "      <td>14.0</td>\n",
              "      <td>14.0</td>\n",
              "      <td>14.0</td>\n",
              "      <td>14.0</td>\n",
              "      <td>14.0</td>\n",
              "    </tr>\n",
              "    <tr>\n",
              "      <th>15</th>\n",
              "      <td>55.0</td>\n",
              "      <td>55.0</td>\n",
              "      <td>55.0</td>\n",
              "      <td>55.0</td>\n",
              "      <td>55.0</td>\n",
              "    </tr>\n",
              "    <tr>\n",
              "      <th>16</th>\n",
              "      <td>2.0</td>\n",
              "      <td>2.0</td>\n",
              "      <td>2.0</td>\n",
              "      <td>2.0</td>\n",
              "      <td>2.0</td>\n",
              "    </tr>\n",
              "    <tr>\n",
              "      <th>17</th>\n",
              "      <td>NaN</td>\n",
              "      <td>28.0</td>\n",
              "      <td>2.0</td>\n",
              "      <td>31.0</td>\n",
              "      <td>16.5</td>\n",
              "    </tr>\n",
              "    <tr>\n",
              "      <th>18</th>\n",
              "      <td>31.0</td>\n",
              "      <td>31.0</td>\n",
              "      <td>31.0</td>\n",
              "      <td>31.0</td>\n",
              "      <td>31.0</td>\n",
              "    </tr>\n",
              "    <tr>\n",
              "      <th>19</th>\n",
              "      <td>NaN</td>\n",
              "      <td>28.0</td>\n",
              "      <td>31.0</td>\n",
              "      <td>35.0</td>\n",
              "      <td>33.0</td>\n",
              "    </tr>\n",
              "  </tbody>\n",
              "</table>\n",
              "</div>\n",
              "      <button class=\"colab-df-convert\" onclick=\"convertToInteractive('df-17372324-9f99-4f84-9479-567d79f56733')\"\n",
              "              title=\"Convert this dataframe to an interactive table.\"\n",
              "              style=\"display:none;\">\n",
              "        \n",
              "  <svg xmlns=\"http://www.w3.org/2000/svg\" height=\"24px\"viewBox=\"0 0 24 24\"\n",
              "       width=\"24px\">\n",
              "    <path d=\"M0 0h24v24H0V0z\" fill=\"none\"/>\n",
              "    <path d=\"M18.56 5.44l.94 2.06.94-2.06 2.06-.94-2.06-.94-.94-2.06-.94 2.06-2.06.94zm-11 1L8.5 8.5l.94-2.06 2.06-.94-2.06-.94L8.5 2.5l-.94 2.06-2.06.94zm10 10l.94 2.06.94-2.06 2.06-.94-2.06-.94-.94-2.06-.94 2.06-2.06.94z\"/><path d=\"M17.41 7.96l-1.37-1.37c-.4-.4-.92-.59-1.43-.59-.52 0-1.04.2-1.43.59L10.3 9.45l-7.72 7.72c-.78.78-.78 2.05 0 2.83L4 21.41c.39.39.9.59 1.41.59.51 0 1.02-.2 1.41-.59l7.78-7.78 2.81-2.81c.8-.78.8-2.07 0-2.86zM5.41 20L4 18.59l7.72-7.72 1.47 1.35L5.41 20z\"/>\n",
              "  </svg>\n",
              "      </button>\n",
              "      \n",
              "  <style>\n",
              "    .colab-df-container {\n",
              "      display:flex;\n",
              "      flex-wrap:wrap;\n",
              "      gap: 12px;\n",
              "    }\n",
              "\n",
              "    .colab-df-convert {\n",
              "      background-color: #E8F0FE;\n",
              "      border: none;\n",
              "      border-radius: 50%;\n",
              "      cursor: pointer;\n",
              "      display: none;\n",
              "      fill: #1967D2;\n",
              "      height: 32px;\n",
              "      padding: 0 0 0 0;\n",
              "      width: 32px;\n",
              "    }\n",
              "\n",
              "    .colab-df-convert:hover {\n",
              "      background-color: #E2EBFA;\n",
              "      box-shadow: 0px 1px 2px rgba(60, 64, 67, 0.3), 0px 1px 3px 1px rgba(60, 64, 67, 0.15);\n",
              "      fill: #174EA6;\n",
              "    }\n",
              "\n",
              "    [theme=dark] .colab-df-convert {\n",
              "      background-color: #3B4455;\n",
              "      fill: #D2E3FC;\n",
              "    }\n",
              "\n",
              "    [theme=dark] .colab-df-convert:hover {\n",
              "      background-color: #434B5C;\n",
              "      box-shadow: 0px 1px 3px 1px rgba(0, 0, 0, 0.15);\n",
              "      filter: drop-shadow(0px 1px 2px rgba(0, 0, 0, 0.3));\n",
              "      fill: #FFFFFF;\n",
              "    }\n",
              "  </style>\n",
              "\n",
              "      <script>\n",
              "        const buttonEl =\n",
              "          document.querySelector('#df-17372324-9f99-4f84-9479-567d79f56733 button.colab-df-convert');\n",
              "        buttonEl.style.display =\n",
              "          google.colab.kernel.accessAllowed ? 'block' : 'none';\n",
              "\n",
              "        async function convertToInteractive(key) {\n",
              "          const element = document.querySelector('#df-17372324-9f99-4f84-9479-567d79f56733');\n",
              "          const dataTable =\n",
              "            await google.colab.kernel.invokeFunction('convertToInteractive',\n",
              "                                                     [key], {});\n",
              "          if (!dataTable) return;\n",
              "\n",
              "          const docLinkHtml = 'Like what you see? Visit the ' +\n",
              "            '<a target=\"_blank\" href=https://colab.research.google.com/notebooks/data_table.ipynb>data table notebook</a>'\n",
              "            + ' to learn more about interactive tables.';\n",
              "          element.innerHTML = '';\n",
              "          dataTable['output_type'] = 'display_data';\n",
              "          await google.colab.output.renderOutput(dataTable, element);\n",
              "          const docLink = document.createElement('div');\n",
              "          docLink.innerHTML = docLinkHtml;\n",
              "          element.appendChild(docLink);\n",
              "        }\n",
              "      </script>\n",
              "    </div>\n",
              "  </div>\n",
              "  "
            ],
            "text/plain": [
              "     Age  Age_fillna  Age_ffill  Age_bbill  Age_interpolate\n",
              "0   22.0        22.0       22.0       22.0             22.0\n",
              "1   38.0        38.0       38.0       38.0             38.0\n",
              "2   26.0        26.0       26.0       26.0             26.0\n",
              "3   35.0        35.0       35.0       35.0             35.0\n",
              "4   35.0        35.0       35.0       35.0             35.0\n",
              "5    NaN        28.0       35.0       54.0             44.5\n",
              "6   54.0        54.0       54.0       54.0             54.0\n",
              "7    2.0         2.0        2.0        2.0              2.0\n",
              "8   27.0        27.0       27.0       27.0             27.0\n",
              "9   14.0        14.0       14.0       14.0             14.0\n",
              "10   4.0         4.0        4.0        4.0              4.0\n",
              "11  58.0        58.0       58.0       58.0             58.0\n",
              "12  20.0        20.0       20.0       20.0             20.0\n",
              "13  39.0        39.0       39.0       39.0             39.0\n",
              "14  14.0        14.0       14.0       14.0             14.0\n",
              "15  55.0        55.0       55.0       55.0             55.0\n",
              "16   2.0         2.0        2.0        2.0              2.0\n",
              "17   NaN        28.0        2.0       31.0             16.5\n",
              "18  31.0        31.0       31.0       31.0             31.0\n",
              "19   NaN        28.0       31.0       35.0             33.0"
            ]
          },
          "execution_count": 20,
          "metadata": {},
          "output_type": "execute_result"
        }
      ],
      "source": [
        "# 지정 값으로 치환\n",
        "df.eval('Age_fillna = Age', inplace=True)\n",
        "df['Age_fillna'].fillna(df.Age.median(), inplace=True)\n",
        "\n",
        "# 앞 행 값으로 치환\n",
        "df.eval('Age_ffill = Age', inplace=True)\n",
        "df['Age_ffill'].fillna(method='ffill', inplace=True)\n",
        "\n",
        "# 뒤쪽 행 값으로 치환\n",
        "df.eval('Age_bbill = Age', inplace=True)\n",
        "df['Age_bbill'].fillna(method='bfill', inplace=True)\n",
        "\n",
        "# 앞/뒤 평균 값으로 치환\n",
        "df.eval('Age_interpolate = Age', inplace=True)\n",
        "df['Age_interpolate'].interpolate(inplace=True)\n",
        "\n",
        "df[['Age', 'Age_fillna', 'Age_ffill', 'Age_bbill', 'Age_interpolate']].head(20)"
      ]
    },
    {
      "cell_type": "markdown",
      "metadata": {
        "id": "Ig9-cU5w02MA"
      },
      "source": [
        "### (2) SimpltImputer 이용"
      ]
    },
    {
      "cell_type": "code",
      "execution_count": 21,
      "metadata": {
        "colab": {
          "base_uri": "https://localhost:8080/",
          "height": 702
        },
        "id": "e0l7GaIVru-i",
        "outputId": "dce93c13-b3d2-490e-a7a3-3f7620de612a"
      },
      "outputs": [
        {
          "data": {
            "image/png": "[encoded data removed]",
            "text/plain": [
              "<Figure size 1800x720 with 3 Axes>"
            ]
          },
          "metadata": {},
          "output_type": "display_data"
        }
      ],
      "source": [
        "# 숫자형 변수 medaian으로 대체\n",
        "df['Age'] = SimpleImputer(strategy='median').fit_transform(df[['Age']])\n",
        "\n",
        "# 범주형 변수 최빈값 대체\n",
        "df['Cabin'] = SimpleImputer(strategy='most_frequent').fit_transform(df[['Cabin']])\n",
        "df['Embarked'] = SimpleImputer(strategy='most_frequent').fit_transform(df[['Embarked']])\n",
        "\n",
        "# 결측치 시각화\n",
        "df.drop(columns=['Age', 'Age_fillna', 'Age_ffill', 'Age_bbill', 'Age_interpolate'], inplace=True)\n",
        "msno.bar(df);"
      ]
    },
    {
      "cell_type": "markdown",
      "metadata": {
        "id": "-HgRwlICDkWa"
      },
      "source": [
        "# 4) 이상값 처리"
      ]
    },
    {
      "cell_type": "markdown",
      "metadata": {
        "id": "cv1eaZUncbXN"
      },
      "source": [
        "## 가) 이상값 확인"
      ]
    },
    {
      "cell_type": "code",
      "execution_count": 22,
      "metadata": {
        "colab": {
          "base_uri": "https://localhost:8080/",
          "height": 340
        },
        "id": "6M5B3Bq72aTn",
        "outputId": "c2404254-a612-4db6-f487-21b7dcc20c1e"
      },
      "outputs": [
        {
          "data": {
            "image/png": "[encoded data removed]",
            "text/plain": [
              "<Figure size 720x360 with 1 Axes>"
            ]
          },
          "metadata": {},
          "output_type": "display_data"
        }
      ],
      "source": [
        "# 이상값 시각화\n",
        "plt.figure(figsize=(10,5))\n",
        "sns.boxplot(\n",
        "    data = df,\n",
        "    x = 'Fare'\n",
        ");"
      ]
    },
    {
      "cell_type": "markdown",
      "metadata": {
        "id": "V9U-izoVcji5"
      },
      "source": [
        "## 나) 이상값 처리\n",
        "- 숫자형 변수 : 상한값으로 대체하거나 Lot Transform"
      ]
    },
    {
      "cell_type": "code",
      "execution_count": 23,
      "metadata": {
        "colab": {
          "base_uri": "https://localhost:8080/",
          "height": 340
        },
        "id": "V-Uj44SH3HgU",
        "outputId": "a48c76a2-62de-4f1d-e4bb-9d54a50e5002"
      },
      "outputs": [
        {
          "data": {
            "image/png": "[encoded data removed]",
            "text/plain": [
              "<Figure size 720x360 with 1 Axes>"
            ]
          },
          "metadata": {},
          "output_type": "display_data"
        }
      ],
      "source": [
        "# ESD 계산\n",
        "q1, q3 = df['Fare'].quantile([.25, .75])\n",
        "LL, UL = q1-(q3-q1)*1.5, q3+(q3-q1)*1.5\n",
        "\n",
        "# 이상값을 상한으로 대체\n",
        "df.Fare = np.where(df.Fare > UL, UL, df.Fare)\n",
        "\n",
        "# 이상값 시각화\n",
        "plt.figure(figsize=(10,5))\n",
        "sns.boxplot(\n",
        "    data = df,\n",
        "    x = 'Fare'\n",
        ");"
      ]
    },
    {
      "cell_type": "code",
      "execution_count": 24,
      "metadata": {
        "colab": {
          "base_uri": "https://localhost:8080/",
          "height": 340
        },
        "id": "lfzMMwXp6A2h",
        "outputId": "ab9023b1-2a4a-441d-e88a-cdd1f63c33bb"
      },
      "outputs": [
        {
          "data": {
            "image/png": "[encoded data removed]",
            "text/plain": [
              "<Figure size 720x360 with 1 Axes>"
            ]
          },
          "metadata": {},
          "output_type": "display_data"
        }
      ],
      "source": [
        "# Log Transform\n",
        "if df['Fare'].min() > 0:\n",
        "    df['Fare'] = (df['Fare']+1).transform(np.log)\n",
        "else:\n",
        "    df['Fare'] = (df['Fare']-df['Fare'].min()+1).transform(np.log)\n",
        "\n",
        "# 이상값 시각화\n",
        "plt.figure(figsize=(10,5))\n",
        "sns.boxplot(\n",
        "    data = df,\n",
        "    x = 'Fare'\n",
        ");"
      ]
    },
    {
      "cell_type": "markdown",
      "metadata": {
        "id": "a08en_DRcuBn"
      },
      "source": [
        "## 다) 범주형 변수"
      ]
    },
    {
      "cell_type": "code",
      "execution_count": 25,
      "metadata": {
        "colab": {
          "base_uri": "https://localhost:8080/",
          "height": 340
        },
        "id": "WmPxTOZz-HyH",
        "outputId": "7d7e3398-6355-4f7f-8496-375508c10f30"
      },
      "outputs": [
        {
          "data": {
            "image/png": "[encoded data removed]",
            "text/plain": [
              "<Figure size 720x360 with 1 Axes>"
            ]
          },
          "metadata": {},
          "output_type": "display_data"
        }
      ],
      "source": [
        "# binning\n",
        "condlist = [\n",
        "    df['Name'].str.contains('Mr.'),\n",
        "    df['Name'].str.contains('Miss.'),\n",
        "    df['Name'].str.contains('Mrs.'),\n",
        "    df['Name'].str.contains('Master.')\n",
        "    ]\n",
        "\n",
        "choicelist = ['Mr', 'Miss', 'Mrs', 'Master']\n",
        "\n",
        "df['Name'] = np.select(\n",
        "    condlist = condlist, \n",
        "    choicelist = choicelist, \n",
        "    default = 'Other')\n",
        "\n",
        "# 변환 결과 확인\n",
        "sns.countplot(\n",
        "    data = df,\n",
        "    x = 'Name'\n",
        ");"
      ]
    },
    {
      "cell_type": "markdown",
      "metadata": {
        "id": "h6cwNRCtDkwm"
      },
      "source": [
        "# 5) Feature Engineering"
      ]
    },
    {
      "cell_type": "markdown",
      "metadata": {
        "id": "vteS9lRUc7bG"
      },
      "source": [
        "## 가) 표준화 및 정규화\n",
        "- MinMaxScaler : 최소 최대값을 기준으로 0~1로 정규화\n",
        "  - 모든 이상값의 존재에 대해 매우 민감\n",
        "- StandardScaler : 평균 0, 분산 1로 표준화\n",
        "  - 이상치가 존재하면 평균이 치우쳐 있으므로 변수의 균형을 보장하지 못함\n",
        "- RobustScaler : 중위수와 사분위수를 이용해 스케일링\n",
        "  - 소수의 이상치에 영향을 받지 않으나 MinMaxScaler, StandardScler 보다 값의 범위가 넓다\n",
        "  - 이상치 자체는 변환된 데이터에 여전히 존재\n",
        "- QuantileTransformer : 확률밀도함수가 균일하거나 가우시안 분포가 되도록 0~1 범위로 비선형 변환\n",
        "  - RobustScaler와 달리 이상치가 유지되지 않고 0~1범위 분포에 매핑되어 축소\n",
        "  - 파라미터 지정을 통해 균일 또는 가우시안분로를 설정 가능\n",
        "  - 균일(output_distribution='uniform'), 가우시안 분포(output_distribution='normal')\n",
        "- PowerTransformer : 가우시안 분포가 되도록 제로 평균 분산 정규화 적용해 데이터를 변환\n",
        "  - 데이터에 양수만 있는 경우 : method = 'box-cox'\n",
        "  - 데이터에 음수가 포함된 경우 : method = 'yeo-johnson'"
      ]
    },
    {
      "cell_type": "code",
      "execution_count": 26,
      "metadata": {
        "colab": {
          "base_uri": "https://localhost:8080/",
          "height": 0
        },
        "id": "3Fo2pMQU-A3b",
        "outputId": "f4bcb9f1-22c9-4a7f-a962-aee261665fb3"
      },
      "outputs": [
        {
          "data": {
            "text/html": [
              "\n",
              "  <div id=\"df-76664d6d-3f23-42dc-a9a9-e88ee9a9c928\">\n",
              "    <div class=\"colab-df-container\">\n",
              "      <div>\n",
              "<style scoped>\n",
              "    .dataframe tbody tr th:only-of-type {\n",
              "        vertical-align: middle;\n",
              "    }\n",
              "\n",
              "    .dataframe tbody tr th {\n",
              "        vertical-align: top;\n",
              "    }\n",
              "\n",
              "    .dataframe thead th {\n",
              "        text-align: right;\n",
              "    }\n",
              "</style>\n",
              "<table border=\"1\" class=\"dataframe\">\n",
              "  <thead>\n",
              "    <tr style=\"text-align: right;\">\n",
              "      <th></th>\n",
              "      <th>x</th>\n",
              "      <th>MinMaxScaler</th>\n",
              "      <th>StandardScaler</th>\n",
              "      <th>RobustScaler</th>\n",
              "      <th>QuantileTrans_uniform</th>\n",
              "      <th>QuantileTrans_normal</th>\n",
              "      <th>PowerTransformer_yeo</th>\n",
              "      <th>PowerTransformer_box</th>\n",
              "    </tr>\n",
              "  </thead>\n",
              "  <tbody>\n",
              "    <tr>\n",
              "      <th>0</th>\n",
              "      <td>1</td>\n",
              "      <td>0.000000</td>\n",
              "      <td>-0.384462</td>\n",
              "      <td>-1.666667</td>\n",
              "      <td>0.000000</td>\n",
              "      <td>-5.199338</td>\n",
              "      <td>-1.669182</td>\n",
              "      <td>-1.809227</td>\n",
              "    </tr>\n",
              "    <tr>\n",
              "      <th>1</th>\n",
              "      <td>2</td>\n",
              "      <td>0.001001</td>\n",
              "      <td>-0.381429</td>\n",
              "      <td>-1.000000</td>\n",
              "      <td>0.142857</td>\n",
              "      <td>-1.067571</td>\n",
              "      <td>-0.721468</td>\n",
              "      <td>-0.649935</td>\n",
              "    </tr>\n",
              "    <tr>\n",
              "      <th>2</th>\n",
              "      <td>3</td>\n",
              "      <td>0.002002</td>\n",
              "      <td>-0.378395</td>\n",
              "      <td>-0.333333</td>\n",
              "      <td>0.357143</td>\n",
              "      <td>-0.366106</td>\n",
              "      <td>-0.195337</td>\n",
              "      <td>-0.136714</td>\n",
              "    </tr>\n",
              "    <tr>\n",
              "      <th>3</th>\n",
              "      <td>4</td>\n",
              "      <td>0.003003</td>\n",
              "      <td>-0.375362</td>\n",
              "      <td>0.333333</td>\n",
              "      <td>0.642857</td>\n",
              "      <td>0.366106</td>\n",
              "      <td>0.145455</td>\n",
              "      <td>0.169091</td>\n",
              "    </tr>\n",
              "    <tr>\n",
              "      <th>4</th>\n",
              "      <td>3</td>\n",
              "      <td>0.002002</td>\n",
              "      <td>-0.378395</td>\n",
              "      <td>-0.333333</td>\n",
              "      <td>0.357143</td>\n",
              "      <td>-0.366106</td>\n",
              "      <td>-0.195337</td>\n",
              "      <td>-0.136714</td>\n",
              "    </tr>\n",
              "    <tr>\n",
              "      <th>5</th>\n",
              "      <td>4</td>\n",
              "      <td>0.003003</td>\n",
              "      <td>-0.375362</td>\n",
              "      <td>0.333333</td>\n",
              "      <td>0.642857</td>\n",
              "      <td>0.366106</td>\n",
              "      <td>0.145455</td>\n",
              "      <td>0.169091</td>\n",
              "    </tr>\n",
              "    <tr>\n",
              "      <th>6</th>\n",
              "      <td>5</td>\n",
              "      <td>0.004004</td>\n",
              "      <td>-0.372329</td>\n",
              "      <td>1.000000</td>\n",
              "      <td>0.857143</td>\n",
              "      <td>1.067571</td>\n",
              "      <td>0.386834</td>\n",
              "      <td>0.377716</td>\n",
              "    </tr>\n",
              "    <tr>\n",
              "      <th>7</th>\n",
              "      <td>1000</td>\n",
              "      <td>1.000000</td>\n",
              "      <td>2.645735</td>\n",
              "      <td>664.333333</td>\n",
              "      <td>1.000000</td>\n",
              "      <td>5.199338</td>\n",
              "      <td>2.103579</td>\n",
              "      <td>2.016692</td>\n",
              "    </tr>\n",
              "  </tbody>\n",
              "</table>\n",
              "</div>\n",
              "      <button class=\"colab-df-convert\" onclick=\"convertToInteractive('df-76664d6d-3f23-42dc-a9a9-e88ee9a9c928')\"\n",
              "              title=\"Convert this dataframe to an interactive table.\"\n",
              "              style=\"display:none;\">\n",
              "        \n",
              "  <svg xmlns=\"http://www.w3.org/2000/svg\" height=\"24px\"viewBox=\"0 0 24 24\"\n",
              "       width=\"24px\">\n",
              "    <path d=\"M0 0h24v24H0V0z\" fill=\"none\"/>\n",
              "    <path d=\"M18.56 5.44l.94 2.06.94-2.06 2.06-.94-2.06-.94-.94-2.06-.94 2.06-2.06.94zm-11 1L8.5 8.5l.94-2.06 2.06-.94-2.06-.94L8.5 2.5l-.94 2.06-2.06.94zm10 10l.94 2.06.94-2.06 2.06-.94-2.06-.94-.94-2.06-.94 2.06-2.06.94z\"/><path d=\"M17.41 7.96l-1.37-1.37c-.4-.4-.92-.59-1.43-.59-.52 0-1.04.2-1.43.59L10.3 9.45l-7.72 7.72c-.78.78-.78 2.05 0 2.83L4 21.41c.39.39.9.59 1.41.59.51 0 1.02-.2 1.41-.59l7.78-7.78 2.81-2.81c.8-.78.8-2.07 0-2.86zM5.41 20L4 18.59l7.72-7.72 1.47 1.35L5.41 20z\"/>\n",
              "  </svg>\n",
              "      </button>\n",
              "      \n",
              "  <style>\n",
              "    .colab-df-container {\n",
              "      display:flex;\n",
              "      flex-wrap:wrap;\n",
              "      gap: 12px;\n",
              "    }\n",
              "\n",
              "    .colab-df-convert {\n",
              "      background-color: #E8F0FE;\n",
              "      border: none;\n",
              "      border-radius: 50%;\n",
              "      cursor: pointer;\n",
              "      display: none;\n",
              "      fill: #1967D2;\n",
              "      height: 32px;\n",
              "      padding: 0 0 0 0;\n",
              "      width: 32px;\n",
              "    }\n",
              "\n",
              "    .colab-df-convert:hover {\n",
              "      background-color: #E2EBFA;\n",
              "      box-shadow: 0px 1px 2px rgba(60, 64, 67, 0.3), 0px 1px 3px 1px rgba(60, 64, 67, 0.15);\n",
              "      fill: #174EA6;\n",
              "    }\n",
              "\n",
              "    [theme=dark] .colab-df-convert {\n",
              "      background-color: #3B4455;\n",
              "      fill: #D2E3FC;\n",
              "    }\n",
              "\n",
              "    [theme=dark] .colab-df-convert:hover {\n",
              "      background-color: #434B5C;\n",
              "      box-shadow: 0px 1px 3px 1px rgba(0, 0, 0, 0.15);\n",
              "      filter: drop-shadow(0px 1px 2px rgba(0, 0, 0, 0.3));\n",
              "      fill: #FFFFFF;\n",
              "    }\n",
              "  </style>\n",
              "\n",
              "      <script>\n",
              "        const buttonEl =\n",
              "          document.querySelector('#df-76664d6d-3f23-42dc-a9a9-e88ee9a9c928 button.colab-df-convert');\n",
              "        buttonEl.style.display =\n",
              "          google.colab.kernel.accessAllowed ? 'block' : 'none';\n",
              "\n",
              "        async function convertToInteractive(key) {\n",
              "          const element = document.querySelector('#df-76664d6d-3f23-42dc-a9a9-e88ee9a9c928');\n",
              "          const dataTable =\n",
              "            await google.colab.kernel.invokeFunction('convertToInteractive',\n",
              "                                                     [key], {});\n",
              "          if (!dataTable) return;\n",
              "\n",
              "          const docLinkHtml = 'Like what you see? Visit the ' +\n",
              "            '<a target=\"_blank\" href=https://colab.research.google.com/notebooks/data_table.ipynb>data table notebook</a>'\n",
              "            + ' to learn more about interactive tables.';\n",
              "          element.innerHTML = '';\n",
              "          dataTable['output_type'] = 'display_data';\n",
              "          await google.colab.output.renderOutput(dataTable, element);\n",
              "          const docLink = document.createElement('div');\n",
              "          docLink.innerHTML = docLinkHtml;\n",
              "          element.appendChild(docLink);\n",
              "        }\n",
              "      </script>\n",
              "    </div>\n",
              "  </div>\n",
              "  "
            ],
            "text/plain": [
              "      x  MinMaxScaler  StandardScaler  RobustScaler  QuantileTrans_uniform  \\\n",
              "0     1      0.000000       -0.384462     -1.666667               0.000000   \n",
              "1     2      0.001001       -0.381429     -1.000000               0.142857   \n",
              "2     3      0.002002       -0.378395     -0.333333               0.357143   \n",
              "3     4      0.003003       -0.375362      0.333333               0.642857   \n",
              "4     3      0.002002       -0.378395     -0.333333               0.357143   \n",
              "5     4      0.003003       -0.375362      0.333333               0.642857   \n",
              "6     5      0.004004       -0.372329      1.000000               0.857143   \n",
              "7  1000      1.000000        2.645735    664.333333               1.000000   \n",
              "\n",
              "   QuantileTrans_normal  PowerTransformer_yeo  PowerTransformer_box  \n",
              "0             -5.199338             -1.669182             -1.809227  \n",
              "1             -1.067571             -0.721468             -0.649935  \n",
              "2             -0.366106             -0.195337             -0.136714  \n",
              "3              0.366106              0.145455              0.169091  \n",
              "4             -0.366106             -0.195337             -0.136714  \n",
              "5              0.366106              0.145455              0.169091  \n",
              "6              1.067571              0.386834              0.377716  \n",
              "7              5.199338              2.103579              2.016692  "
            ]
          },
          "execution_count": 26,
          "metadata": {},
          "output_type": "execute_result"
        }
      ],
      "source": [
        "df = pd.DataFrame(data=[1, 2, 3, 4, 3, 4, 5, 1000], columns=['x'])\n",
        "\n",
        "df['MinMaxScaler'] = MinMaxScaler().fit_transform(df[['x']])\n",
        "df['StandardScaler'] = StandardScaler().fit_transform(df[['x']])\n",
        "df['RobustScaler'] = RobustScaler().fit_transform(df[['x']])\n",
        "df['QuantileTrans_uniform'] = QuantileTransformer(output_distribution=\"uniform\").fit_transform(df[['x']])\n",
        "df['QuantileTrans_normal'] = QuantileTransformer(output_distribution=\"normal\").fit_transform(df[['x']])\n",
        "df['PowerTransformer_yeo'] = PowerTransformer(method=\"yeo-johnson\").fit_transform(df[['x']])\n",
        "df['PowerTransformer_box'] = PowerTransformer(method=\"box-cox\").fit_transform(df[['x']])\n",
        "\n",
        "df"
      ]
    },
    {
      "cell_type": "markdown",
      "metadata": {
        "id": "5nQQ7cyddD-y"
      },
      "source": [
        "## 나) 더미 변수화\n",
        "- Full Rank : 특정 변수에 존재하는 모든 범주값으로 더미변수를 만든다.\n",
        "- Reduced Rank : 특정 변수에 존재하는 기준값은 항상 1로 두고, 나머지를 더미변수로 만든다.\n",
        "  - Reduced Rank가 필요한 이유는 변수간에 독립성을 보장하기 위해서임\n",
        "  - 변수값이 A, B인 경우 Full Rank로 더미변수를 생성하면 A, B 두개의 컬럼이 생성되는데 B값이 결정되면 A값이 확정되므로 2개의 더미변수를 모두 사용하면 다중공선성이 발생함"
      ]
    },
    {
      "cell_type": "markdown",
      "metadata": {
        "id": "hQuLEc8nQZzl"
      },
      "source": [
        "### (1) Full Rank 더미 변수화"
      ]
    },
    {
      "cell_type": "code",
      "execution_count": 27,
      "metadata": {
        "id": "fhqGrBl2PJsz"
      },
      "outputs": [],
      "source": [
        "import pandas as pd\n",
        "import numpy as np\n",
        "from patsy import demo_data, dmatrix\n",
        "\n",
        "df = pd.DataFrame(data=[['a', 'c'], ['b', 'e'], ['a', 'c'], ['b', np.NAN], ['a', 'd'], ['b', 'e']], columns=['x1', 'x2'])"
      ]
    },
    {
      "cell_type": "code",
      "execution_count": 28,
      "metadata": {
        "colab": {
          "base_uri": "https://localhost:8080/",
          "height": 238
        },
        "id": "LUNHt0cyQw-l",
        "outputId": "9269627f-4546-4ce3-f49d-f134618214a7"
      },
      "outputs": [
        {
          "data": {
            "text/html": [
              "\n",
              "  <div id=\"df-6c0e3da5-b658-477d-9da4-a3c1884096a2\">\n",
              "    <div class=\"colab-df-container\">\n",
              "      <div>\n",
              "<style scoped>\n",
              "    .dataframe tbody tr th:only-of-type {\n",
              "        vertical-align: middle;\n",
              "    }\n",
              "\n",
              "    .dataframe tbody tr th {\n",
              "        vertical-align: top;\n",
              "    }\n",
              "\n",
              "    .dataframe thead th {\n",
              "        text-align: right;\n",
              "    }\n",
              "</style>\n",
              "<table border=\"1\" class=\"dataframe\">\n",
              "  <thead>\n",
              "    <tr style=\"text-align: right;\">\n",
              "      <th></th>\n",
              "      <th>x2_c</th>\n",
              "      <th>x2_d</th>\n",
              "      <th>x2_e</th>\n",
              "    </tr>\n",
              "  </thead>\n",
              "  <tbody>\n",
              "    <tr>\n",
              "      <th>0</th>\n",
              "      <td>1</td>\n",
              "      <td>0</td>\n",
              "      <td>0</td>\n",
              "    </tr>\n",
              "    <tr>\n",
              "      <th>1</th>\n",
              "      <td>0</td>\n",
              "      <td>0</td>\n",
              "      <td>1</td>\n",
              "    </tr>\n",
              "    <tr>\n",
              "      <th>2</th>\n",
              "      <td>1</td>\n",
              "      <td>0</td>\n",
              "      <td>0</td>\n",
              "    </tr>\n",
              "    <tr>\n",
              "      <th>3</th>\n",
              "      <td>0</td>\n",
              "      <td>0</td>\n",
              "      <td>0</td>\n",
              "    </tr>\n",
              "    <tr>\n",
              "      <th>4</th>\n",
              "      <td>0</td>\n",
              "      <td>1</td>\n",
              "      <td>0</td>\n",
              "    </tr>\n",
              "    <tr>\n",
              "      <th>5</th>\n",
              "      <td>0</td>\n",
              "      <td>0</td>\n",
              "      <td>1</td>\n",
              "    </tr>\n",
              "  </tbody>\n",
              "</table>\n",
              "</div>\n",
              "      <button class=\"colab-df-convert\" onclick=\"convertToInteractive('df-6c0e3da5-b658-477d-9da4-a3c1884096a2')\"\n",
              "              title=\"Convert this dataframe to an interactive table.\"\n",
              "              style=\"display:none;\">\n",
              "        \n",
              "  <svg xmlns=\"http://www.w3.org/2000/svg\" height=\"24px\"viewBox=\"0 0 24 24\"\n",
              "       width=\"24px\">\n",
              "    <path d=\"M0 0h24v24H0V0z\" fill=\"none\"/>\n",
              "    <path d=\"M18.56 5.44l.94 2.06.94-2.06 2.06-.94-2.06-.94-.94-2.06-.94 2.06-2.06.94zm-11 1L8.5 8.5l.94-2.06 2.06-.94-2.06-.94L8.5 2.5l-.94 2.06-2.06.94zm10 10l.94 2.06.94-2.06 2.06-.94-2.06-.94-.94-2.06-.94 2.06-2.06.94z\"/><path d=\"M17.41 7.96l-1.37-1.37c-.4-.4-.92-.59-1.43-.59-.52 0-1.04.2-1.43.59L10.3 9.45l-7.72 7.72c-.78.78-.78 2.05 0 2.83L4 21.41c.39.39.9.59 1.41.59.51 0 1.02-.2 1.41-.59l7.78-7.78 2.81-2.81c.8-.78.8-2.07 0-2.86zM5.41 20L4 18.59l7.72-7.72 1.47 1.35L5.41 20z\"/>\n",
              "  </svg>\n",
              "      </button>\n",
              "      \n",
              "  <style>\n",
              "    .colab-df-container {\n",
              "      display:flex;\n",
              "      flex-wrap:wrap;\n",
              "      gap: 12px;\n",
              "    }\n",
              "\n",
              "    .colab-df-convert {\n",
              "      background-color: #E8F0FE;\n",
              "      border: none;\n",
              "      border-radius: 50%;\n",
              "      cursor: pointer;\n",
              "      display: none;\n",
              "      fill: #1967D2;\n",
              "      height: 32px;\n",
              "      padding: 0 0 0 0;\n",
              "      width: 32px;\n",
              "    }\n",
              "\n",
              "    .colab-df-convert:hover {\n",
              "      background-color: #E2EBFA;\n",
              "      box-shadow: 0px 1px 2px rgba(60, 64, 67, 0.3), 0px 1px 3px 1px rgba(60, 64, 67, 0.15);\n",
              "      fill: #174EA6;\n",
              "    }\n",
              "\n",
              "    [theme=dark] .colab-df-convert {\n",
              "      background-color: #3B4455;\n",
              "      fill: #D2E3FC;\n",
              "    }\n",
              "\n",
              "    [theme=dark] .colab-df-convert:hover {\n",
              "      background-color: #434B5C;\n",
              "      box-shadow: 0px 1px 3px 1px rgba(0, 0, 0, 0.15);\n",
              "      filter: drop-shadow(0px 1px 2px rgba(0, 0, 0, 0.3));\n",
              "      fill: #FFFFFF;\n",
              "    }\n",
              "  </style>\n",
              "\n",
              "      <script>\n",
              "        const buttonEl =\n",
              "          document.querySelector('#df-6c0e3da5-b658-477d-9da4-a3c1884096a2 button.colab-df-convert');\n",
              "        buttonEl.style.display =\n",
              "          google.colab.kernel.accessAllowed ? 'block' : 'none';\n",
              "\n",
              "        async function convertToInteractive(key) {\n",
              "          const element = document.querySelector('#df-6c0e3da5-b658-477d-9da4-a3c1884096a2');\n",
              "          const dataTable =\n",
              "            await google.colab.kernel.invokeFunction('convertToInteractive',\n",
              "                                                     [key], {});\n",
              "          if (!dataTable) return;\n",
              "\n",
              "          const docLinkHtml = 'Like what you see? Visit the ' +\n",
              "            '<a target=\"_blank\" href=https://colab.research.google.com/notebooks/data_table.ipynb>data table notebook</a>'\n",
              "            + ' to learn more about interactive tables.';\n",
              "          element.innerHTML = '';\n",
              "          dataTable['output_type'] = 'display_data';\n",
              "          await google.colab.output.renderOutput(dataTable, element);\n",
              "          const docLink = document.createElement('div');\n",
              "          docLink.innerHTML = docLinkHtml;\n",
              "          element.appendChild(docLink);\n",
              "        }\n",
              "      </script>\n",
              "    </div>\n",
              "  </div>\n",
              "  "
            ],
            "text/plain": [
              "   x2_c  x2_d  x2_e\n",
              "0     1     0     0\n",
              "1     0     0     1\n",
              "2     1     0     0\n",
              "3     0     0     0\n",
              "4     0     1     0\n",
              "5     0     0     1"
            ]
          },
          "execution_count": 28,
          "metadata": {},
          "output_type": "execute_result"
        }
      ],
      "source": [
        "# Pandas get_dummies 이용\n",
        "pd.get_dummies(\n",
        "    data = df['x2'], \n",
        "    prefix = 'x2', \n",
        "    dummy_na = False, \n",
        "    drop_first = False)"
      ]
    },
    {
      "cell_type": "code",
      "execution_count": 29,
      "metadata": {
        "colab": {
          "base_uri": "https://localhost:8080/",
          "height": 206
        },
        "id": "pyzCSODJQwoT",
        "outputId": "0795e6ff-653c-4ba8-f758-be04f82a135f"
      },
      "outputs": [
        {
          "data": {
            "text/html": [
              "\n",
              "  <div id=\"df-ea2afb2e-91f5-407e-86d2-5b7631b484c2\">\n",
              "    <div class=\"colab-df-container\">\n",
              "      <div>\n",
              "<style scoped>\n",
              "    .dataframe tbody tr th:only-of-type {\n",
              "        vertical-align: middle;\n",
              "    }\n",
              "\n",
              "    .dataframe tbody tr th {\n",
              "        vertical-align: top;\n",
              "    }\n",
              "\n",
              "    .dataframe thead th {\n",
              "        text-align: right;\n",
              "    }\n",
              "</style>\n",
              "<table border=\"1\" class=\"dataframe\">\n",
              "  <thead>\n",
              "    <tr style=\"text-align: right;\">\n",
              "      <th></th>\n",
              "      <th>x2[c]</th>\n",
              "      <th>x2[d]</th>\n",
              "      <th>x2[e]</th>\n",
              "    </tr>\n",
              "  </thead>\n",
              "  <tbody>\n",
              "    <tr>\n",
              "      <th>0</th>\n",
              "      <td>1.0</td>\n",
              "      <td>0.0</td>\n",
              "      <td>0.0</td>\n",
              "    </tr>\n",
              "    <tr>\n",
              "      <th>1</th>\n",
              "      <td>0.0</td>\n",
              "      <td>0.0</td>\n",
              "      <td>1.0</td>\n",
              "    </tr>\n",
              "    <tr>\n",
              "      <th>2</th>\n",
              "      <td>1.0</td>\n",
              "      <td>0.0</td>\n",
              "      <td>0.0</td>\n",
              "    </tr>\n",
              "    <tr>\n",
              "      <th>4</th>\n",
              "      <td>0.0</td>\n",
              "      <td>1.0</td>\n",
              "      <td>0.0</td>\n",
              "    </tr>\n",
              "    <tr>\n",
              "      <th>5</th>\n",
              "      <td>0.0</td>\n",
              "      <td>0.0</td>\n",
              "      <td>1.0</td>\n",
              "    </tr>\n",
              "  </tbody>\n",
              "</table>\n",
              "</div>\n",
              "      <button class=\"colab-df-convert\" onclick=\"convertToInteractive('df-ea2afb2e-91f5-407e-86d2-5b7631b484c2')\"\n",
              "              title=\"Convert this dataframe to an interactive table.\"\n",
              "              style=\"display:none;\">\n",
              "        \n",
              "  <svg xmlns=\"http://www.w3.org/2000/svg\" height=\"24px\"viewBox=\"0 0 24 24\"\n",
              "       width=\"24px\">\n",
              "    <path d=\"M0 0h24v24H0V0z\" fill=\"none\"/>\n",
              "    <path d=\"M18.56 5.44l.94 2.06.94-2.06 2.06-.94-2.06-.94-.94-2.06-.94 2.06-2.06.94zm-11 1L8.5 8.5l.94-2.06 2.06-.94-2.06-.94L8.5 2.5l-.94 2.06-2.06.94zm10 10l.94 2.06.94-2.06 2.06-.94-2.06-.94-.94-2.06-.94 2.06-2.06.94z\"/><path d=\"M17.41 7.96l-1.37-1.37c-.4-.4-.92-.59-1.43-.59-.52 0-1.04.2-1.43.59L10.3 9.45l-7.72 7.72c-.78.78-.78 2.05 0 2.83L4 21.41c.39.39.9.59 1.41.59.51 0 1.02-.2 1.41-.59l7.78-7.78 2.81-2.81c.8-.78.8-2.07 0-2.86zM5.41 20L4 18.59l7.72-7.72 1.47 1.35L5.41 20z\"/>\n",
              "  </svg>\n",
              "      </button>\n",
              "      \n",
              "  <style>\n",
              "    .colab-df-container {\n",
              "      display:flex;\n",
              "      flex-wrap:wrap;\n",
              "      gap: 12px;\n",
              "    }\n",
              "\n",
              "    .colab-df-convert {\n",
              "      background-color: #E8F0FE;\n",
              "      border: none;\n",
              "      border-radius: 50%;\n",
              "      cursor: pointer;\n",
              "      display: none;\n",
              "      fill: #1967D2;\n",
              "      height: 32px;\n",
              "      padding: 0 0 0 0;\n",
              "      width: 32px;\n",
              "    }\n",
              "\n",
              "    .colab-df-convert:hover {\n",
              "      background-color: #E2EBFA;\n",
              "      box-shadow: 0px 1px 2px rgba(60, 64, 67, 0.3), 0px 1px 3px 1px rgba(60, 64, 67, 0.15);\n",
              "      fill: #174EA6;\n",
              "    }\n",
              "\n",
              "    [theme=dark] .colab-df-convert {\n",
              "      background-color: #3B4455;\n",
              "      fill: #D2E3FC;\n",
              "    }\n",
              "\n",
              "    [theme=dark] .colab-df-convert:hover {\n",
              "      background-color: #434B5C;\n",
              "      box-shadow: 0px 1px 3px 1px rgba(0, 0, 0, 0.15);\n",
              "      filter: drop-shadow(0px 1px 2px rgba(0, 0, 0, 0.3));\n",
              "      fill: #FFFFFF;\n",
              "    }\n",
              "  </style>\n",
              "\n",
              "      <script>\n",
              "        const buttonEl =\n",
              "          document.querySelector('#df-ea2afb2e-91f5-407e-86d2-5b7631b484c2 button.colab-df-convert');\n",
              "        buttonEl.style.display =\n",
              "          google.colab.kernel.accessAllowed ? 'block' : 'none';\n",
              "\n",
              "        async function convertToInteractive(key) {\n",
              "          const element = document.querySelector('#df-ea2afb2e-91f5-407e-86d2-5b7631b484c2');\n",
              "          const dataTable =\n",
              "            await google.colab.kernel.invokeFunction('convertToInteractive',\n",
              "                                                     [key], {});\n",
              "          if (!dataTable) return;\n",
              "\n",
              "          const docLinkHtml = 'Like what you see? Visit the ' +\n",
              "            '<a target=\"_blank\" href=https://colab.research.google.com/notebooks/data_table.ipynb>data table notebook</a>'\n",
              "            + ' to learn more about interactive tables.';\n",
              "          element.innerHTML = '';\n",
              "          dataTable['output_type'] = 'display_data';\n",
              "          await google.colab.output.renderOutput(dataTable, element);\n",
              "          const docLink = document.createElement('div');\n",
              "          docLink.innerHTML = docLinkHtml;\n",
              "          element.appendChild(docLink);\n",
              "        }\n",
              "      </script>\n",
              "    </div>\n",
              "  </div>\n",
              "  "
            ],
            "text/plain": [
              "   x2[c]  x2[d]  x2[e]\n",
              "0    1.0    0.0    0.0\n",
              "1    0.0    0.0    1.0\n",
              "2    1.0    0.0    0.0\n",
              "4    0.0    1.0    0.0\n",
              "5    0.0    0.0    1.0"
            ]
          },
          "execution_count": 29,
          "metadata": {},
          "output_type": "execute_result"
        }
      ],
      "source": [
        "# pasty dmatrix 이용\n",
        "dmatrix('x2+0', df, return_type='dataframe')"
      ]
    },
    {
      "cell_type": "markdown",
      "metadata": {
        "id": "jDI3h7YeRXga"
      },
      "source": [
        "### (2) Reduced Rank 더미 변수화"
      ]
    },
    {
      "cell_type": "code",
      "execution_count": 30,
      "metadata": {
        "colab": {
          "base_uri": "https://localhost:8080/",
          "height": 238
        },
        "id": "i7qglvvBReA0",
        "outputId": "9fde0baa-997a-414e-9dd3-4b2a47b53f71"
      },
      "outputs": [
        {
          "data": {
            "text/html": [
              "\n",
              "  <div id=\"df-9f6dadde-bcb3-4a72-a9df-4efbdbcd005c\">\n",
              "    <div class=\"colab-df-container\">\n",
              "      <div>\n",
              "<style scoped>\n",
              "    .dataframe tbody tr th:only-of-type {\n",
              "        vertical-align: middle;\n",
              "    }\n",
              "\n",
              "    .dataframe tbody tr th {\n",
              "        vertical-align: top;\n",
              "    }\n",
              "\n",
              "    .dataframe thead th {\n",
              "        text-align: right;\n",
              "    }\n",
              "</style>\n",
              "<table border=\"1\" class=\"dataframe\">\n",
              "  <thead>\n",
              "    <tr style=\"text-align: right;\">\n",
              "      <th></th>\n",
              "      <th>x2_d</th>\n",
              "      <th>x2_e</th>\n",
              "    </tr>\n",
              "  </thead>\n",
              "  <tbody>\n",
              "    <tr>\n",
              "      <th>0</th>\n",
              "      <td>0</td>\n",
              "      <td>0</td>\n",
              "    </tr>\n",
              "    <tr>\n",
              "      <th>1</th>\n",
              "      <td>0</td>\n",
              "      <td>1</td>\n",
              "    </tr>\n",
              "    <tr>\n",
              "      <th>2</th>\n",
              "      <td>0</td>\n",
              "      <td>0</td>\n",
              "    </tr>\n",
              "    <tr>\n",
              "      <th>3</th>\n",
              "      <td>0</td>\n",
              "      <td>0</td>\n",
              "    </tr>\n",
              "    <tr>\n",
              "      <th>4</th>\n",
              "      <td>1</td>\n",
              "      <td>0</td>\n",
              "    </tr>\n",
              "    <tr>\n",
              "      <th>5</th>\n",
              "      <td>0</td>\n",
              "      <td>1</td>\n",
              "    </tr>\n",
              "  </tbody>\n",
              "</table>\n",
              "</div>\n",
              "      <button class=\"colab-df-convert\" onclick=\"convertToInteractive('df-9f6dadde-bcb3-4a72-a9df-4efbdbcd005c')\"\n",
              "              title=\"Convert this dataframe to an interactive table.\"\n",
              "              style=\"display:none;\">\n",
              "        \n",
              "  <svg xmlns=\"http://www.w3.org/2000/svg\" height=\"24px\"viewBox=\"0 0 24 24\"\n",
              "       width=\"24px\">\n",
              "    <path d=\"M0 0h24v24H0V0z\" fill=\"none\"/>\n",
              "    <path d=\"M18.56 5.44l.94 2.06.94-2.06 2.06-.94-2.06-.94-.94-2.06-.94 2.06-2.06.94zm-11 1L8.5 8.5l.94-2.06 2.06-.94-2.06-.94L8.5 2.5l-.94 2.06-2.06.94zm10 10l.94 2.06.94-2.06 2.06-.94-2.06-.94-.94-2.06-.94 2.06-2.06.94z\"/><path d=\"M17.41 7.96l-1.37-1.37c-.4-.4-.92-.59-1.43-.59-.52 0-1.04.2-1.43.59L10.3 9.45l-7.72 7.72c-.78.78-.78 2.05 0 2.83L4 21.41c.39.39.9.59 1.41.59.51 0 1.02-.2 1.41-.59l7.78-7.78 2.81-2.81c.8-.78.8-2.07 0-2.86zM5.41 20L4 18.59l7.72-7.72 1.47 1.35L5.41 20z\"/>\n",
              "  </svg>\n",
              "      </button>\n",
              "      \n",
              "  <style>\n",
              "    .colab-df-container {\n",
              "      display:flex;\n",
              "      flex-wrap:wrap;\n",
              "      gap: 12px;\n",
              "    }\n",
              "\n",
              "    .colab-df-convert {\n",
              "      background-color: #E8F0FE;\n",
              "      border: none;\n",
              "      border-radius: 50%;\n",
              "      cursor: pointer;\n",
              "      display: none;\n",
              "      fill: #1967D2;\n",
              "      height: 32px;\n",
              "      padding: 0 0 0 0;\n",
              "      width: 32px;\n",
              "    }\n",
              "\n",
              "    .colab-df-convert:hover {\n",
              "      background-color: #E2EBFA;\n",
              "      box-shadow: 0px 1px 2px rgba(60, 64, 67, 0.3), 0px 1px 3px 1px rgba(60, 64, 67, 0.15);\n",
              "      fill: #174EA6;\n",
              "    }\n",
              "\n",
              "    [theme=dark] .colab-df-convert {\n",
              "      background-color: #3B4455;\n",
              "      fill: #D2E3FC;\n",
              "    }\n",
              "\n",
              "    [theme=dark] .colab-df-convert:hover {\n",
              "      background-color: #434B5C;\n",
              "      box-shadow: 0px 1px 3px 1px rgba(0, 0, 0, 0.15);\n",
              "      filter: drop-shadow(0px 1px 2px rgba(0, 0, 0, 0.3));\n",
              "      fill: #FFFFFF;\n",
              "    }\n",
              "  </style>\n",
              "\n",
              "      <script>\n",
              "        const buttonEl =\n",
              "          document.querySelector('#df-9f6dadde-bcb3-4a72-a9df-4efbdbcd005c button.colab-df-convert');\n",
              "        buttonEl.style.display =\n",
              "          google.colab.kernel.accessAllowed ? 'block' : 'none';\n",
              "\n",
              "        async function convertToInteractive(key) {\n",
              "          const element = document.querySelector('#df-9f6dadde-bcb3-4a72-a9df-4efbdbcd005c');\n",
              "          const dataTable =\n",
              "            await google.colab.kernel.invokeFunction('convertToInteractive',\n",
              "                                                     [key], {});\n",
              "          if (!dataTable) return;\n",
              "\n",
              "          const docLinkHtml = 'Like what you see? Visit the ' +\n",
              "            '<a target=\"_blank\" href=https://colab.research.google.com/notebooks/data_table.ipynb>data table notebook</a>'\n",
              "            + ' to learn more about interactive tables.';\n",
              "          element.innerHTML = '';\n",
              "          dataTable['output_type'] = 'display_data';\n",
              "          await google.colab.output.renderOutput(dataTable, element);\n",
              "          const docLink = document.createElement('div');\n",
              "          docLink.innerHTML = docLinkHtml;\n",
              "          element.appendChild(docLink);\n",
              "        }\n",
              "      </script>\n",
              "    </div>\n",
              "  </div>\n",
              "  "
            ],
            "text/plain": [
              "   x2_d  x2_e\n",
              "0     0     0\n",
              "1     0     1\n",
              "2     0     0\n",
              "3     0     0\n",
              "4     1     0\n",
              "5     0     1"
            ]
          },
          "execution_count": 30,
          "metadata": {},
          "output_type": "execute_result"
        }
      ],
      "source": [
        "# 축소 Rank 방식\n",
        "pd.get_dummies(\n",
        "    data = df['x2'], \n",
        "    prefix = 'x2', \n",
        "    dummy_na = False, \n",
        "    drop_first = True) # True로 설정하여 1개 컬럼을 삭제"
      ]
    },
    {
      "cell_type": "code",
      "execution_count": 31,
      "metadata": {
        "colab": {
          "base_uri": "https://localhost:8080/",
          "height": 206
        },
        "id": "E4df90ZBRkET",
        "outputId": "8685fe11-d1c7-4997-b860-30095b14ffd8"
      },
      "outputs": [
        {
          "data": {
            "text/html": [
              "\n",
              "  <div id=\"df-9df8b9f1-952b-4f9b-8470-b1e907e1f968\">\n",
              "    <div class=\"colab-df-container\">\n",
              "      <div>\n",
              "<style scoped>\n",
              "    .dataframe tbody tr th:only-of-type {\n",
              "        vertical-align: middle;\n",
              "    }\n",
              "\n",
              "    .dataframe tbody tr th {\n",
              "        vertical-align: top;\n",
              "    }\n",
              "\n",
              "    .dataframe thead th {\n",
              "        text-align: right;\n",
              "    }\n",
              "</style>\n",
              "<table border=\"1\" class=\"dataframe\">\n",
              "  <thead>\n",
              "    <tr style=\"text-align: right;\">\n",
              "      <th></th>\n",
              "      <th>Intercept</th>\n",
              "      <th>x2[T.d]</th>\n",
              "      <th>x2[T.e]</th>\n",
              "    </tr>\n",
              "  </thead>\n",
              "  <tbody>\n",
              "    <tr>\n",
              "      <th>0</th>\n",
              "      <td>1.0</td>\n",
              "      <td>0.0</td>\n",
              "      <td>0.0</td>\n",
              "    </tr>\n",
              "    <tr>\n",
              "      <th>1</th>\n",
              "      <td>1.0</td>\n",
              "      <td>0.0</td>\n",
              "      <td>1.0</td>\n",
              "    </tr>\n",
              "    <tr>\n",
              "      <th>2</th>\n",
              "      <td>1.0</td>\n",
              "      <td>0.0</td>\n",
              "      <td>0.0</td>\n",
              "    </tr>\n",
              "    <tr>\n",
              "      <th>4</th>\n",
              "      <td>1.0</td>\n",
              "      <td>1.0</td>\n",
              "      <td>0.0</td>\n",
              "    </tr>\n",
              "    <tr>\n",
              "      <th>5</th>\n",
              "      <td>1.0</td>\n",
              "      <td>0.0</td>\n",
              "      <td>1.0</td>\n",
              "    </tr>\n",
              "  </tbody>\n",
              "</table>\n",
              "</div>\n",
              "      <button class=\"colab-df-convert\" onclick=\"convertToInteractive('df-9df8b9f1-952b-4f9b-8470-b1e907e1f968')\"\n",
              "              title=\"Convert this dataframe to an interactive table.\"\n",
              "              style=\"display:none;\">\n",
              "        \n",
              "  <svg xmlns=\"http://www.w3.org/2000/svg\" height=\"24px\"viewBox=\"0 0 24 24\"\n",
              "       width=\"24px\">\n",
              "    <path d=\"M0 0h24v24H0V0z\" fill=\"none\"/>\n",
              "    <path d=\"M18.56 5.44l.94 2.06.94-2.06 2.06-.94-2.06-.94-.94-2.06-.94 2.06-2.06.94zm-11 1L8.5 8.5l.94-2.06 2.06-.94-2.06-.94L8.5 2.5l-.94 2.06-2.06.94zm10 10l.94 2.06.94-2.06 2.06-.94-2.06-.94-.94-2.06-.94 2.06-2.06.94z\"/><path d=\"M17.41 7.96l-1.37-1.37c-.4-.4-.92-.59-1.43-.59-.52 0-1.04.2-1.43.59L10.3 9.45l-7.72 7.72c-.78.78-.78 2.05 0 2.83L4 21.41c.39.39.9.59 1.41.59.51 0 1.02-.2 1.41-.59l7.78-7.78 2.81-2.81c.8-.78.8-2.07 0-2.86zM5.41 20L4 18.59l7.72-7.72 1.47 1.35L5.41 20z\"/>\n",
              "  </svg>\n",
              "      </button>\n",
              "      \n",
              "  <style>\n",
              "    .colab-df-container {\n",
              "      display:flex;\n",
              "      flex-wrap:wrap;\n",
              "      gap: 12px;\n",
              "    }\n",
              "\n",
              "    .colab-df-convert {\n",
              "      background-color: #E8F0FE;\n",
              "      border: none;\n",
              "      border-radius: 50%;\n",
              "      cursor: pointer;\n",
              "      display: none;\n",
              "      fill: #1967D2;\n",
              "      height: 32px;\n",
              "      padding: 0 0 0 0;\n",
              "      width: 32px;\n",
              "    }\n",
              "\n",
              "    .colab-df-convert:hover {\n",
              "      background-color: #E2EBFA;\n",
              "      box-shadow: 0px 1px 2px rgba(60, 64, 67, 0.3), 0px 1px 3px 1px rgba(60, 64, 67, 0.15);\n",
              "      fill: #174EA6;\n",
              "    }\n",
              "\n",
              "    [theme=dark] .colab-df-convert {\n",
              "      background-color: #3B4455;\n",
              "      fill: #D2E3FC;\n",
              "    }\n",
              "\n",
              "    [theme=dark] .colab-df-convert:hover {\n",
              "      background-color: #434B5C;\n",
              "      box-shadow: 0px 1px 3px 1px rgba(0, 0, 0, 0.15);\n",
              "      filter: drop-shadow(0px 1px 2px rgba(0, 0, 0, 0.3));\n",
              "      fill: #FFFFFF;\n",
              "    }\n",
              "  </style>\n",
              "\n",
              "      <script>\n",
              "        const buttonEl =\n",
              "          document.querySelector('#df-9df8b9f1-952b-4f9b-8470-b1e907e1f968 button.colab-df-convert');\n",
              "        buttonEl.style.display =\n",
              "          google.colab.kernel.accessAllowed ? 'block' : 'none';\n",
              "\n",
              "        async function convertToInteractive(key) {\n",
              "          const element = document.querySelector('#df-9df8b9f1-952b-4f9b-8470-b1e907e1f968');\n",
              "          const dataTable =\n",
              "            await google.colab.kernel.invokeFunction('convertToInteractive',\n",
              "                                                     [key], {});\n",
              "          if (!dataTable) return;\n",
              "\n",
              "          const docLinkHtml = 'Like what you see? Visit the ' +\n",
              "            '<a target=\"_blank\" href=https://colab.research.google.com/notebooks/data_table.ipynb>data table notebook</a>'\n",
              "            + ' to learn more about interactive tables.';\n",
              "          element.innerHTML = '';\n",
              "          dataTable['output_type'] = 'display_data';\n",
              "          await google.colab.output.renderOutput(dataTable, element);\n",
              "          const docLink = document.createElement('div');\n",
              "          docLink.innerHTML = docLinkHtml;\n",
              "          element.appendChild(docLink);\n",
              "        }\n",
              "      </script>\n",
              "    </div>\n",
              "  </div>\n",
              "  "
            ],
            "text/plain": [
              "   Intercept  x2[T.d]  x2[T.e]\n",
              "0        1.0      0.0      0.0\n",
              "1        1.0      0.0      1.0\n",
              "2        1.0      0.0      0.0\n",
              "4        1.0      1.0      0.0\n",
              "5        1.0      0.0      1.0"
            ]
          },
          "execution_count": 31,
          "metadata": {},
          "output_type": "execute_result"
        }
      ],
      "source": [
        "# 축소 Rank 방식\n",
        "dmatrix('x2', df, return_type='dataframe') # '+0'을 포함하지 않으면 됨"
      ]
    },
    {
      "cell_type": "markdown",
      "metadata": {
        "id": "caZyhvtCRqL5"
      },
      "source": [
        "### (3) 두개 이상 범주형 변수 포함\n",
        "- 통합 축소형 또는 상호작용 방식으로 더미변수화"
      ]
    },
    {
      "cell_type": "code",
      "execution_count": 32,
      "metadata": {
        "colab": {
          "base_uri": "https://localhost:8080/",
          "height": 238
        },
        "id": "kbV7sWTNRvOU",
        "outputId": "4680eb88-137e-44ef-e599-bd9a0285c36a"
      },
      "outputs": [
        {
          "data": {
            "text/html": [
              "\n",
              "  <div id=\"df-05330069-aaa3-4e56-9982-5d3be4a142e0\">\n",
              "    <div class=\"colab-df-container\">\n",
              "      <div>\n",
              "<style scoped>\n",
              "    .dataframe tbody tr th:only-of-type {\n",
              "        vertical-align: middle;\n",
              "    }\n",
              "\n",
              "    .dataframe tbody tr th {\n",
              "        vertical-align: top;\n",
              "    }\n",
              "\n",
              "    .dataframe thead th {\n",
              "        text-align: right;\n",
              "    }\n",
              "</style>\n",
              "<table border=\"1\" class=\"dataframe\">\n",
              "  <thead>\n",
              "    <tr style=\"text-align: right;\">\n",
              "      <th></th>\n",
              "      <th>x1_b</th>\n",
              "      <th>x2_d</th>\n",
              "      <th>x2_e</th>\n",
              "    </tr>\n",
              "  </thead>\n",
              "  <tbody>\n",
              "    <tr>\n",
              "      <th>0</th>\n",
              "      <td>0</td>\n",
              "      <td>0</td>\n",
              "      <td>0</td>\n",
              "    </tr>\n",
              "    <tr>\n",
              "      <th>1</th>\n",
              "      <td>1</td>\n",
              "      <td>0</td>\n",
              "      <td>1</td>\n",
              "    </tr>\n",
              "    <tr>\n",
              "      <th>2</th>\n",
              "      <td>0</td>\n",
              "      <td>0</td>\n",
              "      <td>0</td>\n",
              "    </tr>\n",
              "    <tr>\n",
              "      <th>3</th>\n",
              "      <td>1</td>\n",
              "      <td>0</td>\n",
              "      <td>0</td>\n",
              "    </tr>\n",
              "    <tr>\n",
              "      <th>4</th>\n",
              "      <td>0</td>\n",
              "      <td>1</td>\n",
              "      <td>0</td>\n",
              "    </tr>\n",
              "    <tr>\n",
              "      <th>5</th>\n",
              "      <td>1</td>\n",
              "      <td>0</td>\n",
              "      <td>1</td>\n",
              "    </tr>\n",
              "  </tbody>\n",
              "</table>\n",
              "</div>\n",
              "      <button class=\"colab-df-convert\" onclick=\"convertToInteractive('df-05330069-aaa3-4e56-9982-5d3be4a142e0')\"\n",
              "              title=\"Convert this dataframe to an interactive table.\"\n",
              "              style=\"display:none;\">\n",
              "        \n",
              "  <svg xmlns=\"http://www.w3.org/2000/svg\" height=\"24px\"viewBox=\"0 0 24 24\"\n",
              "       width=\"24px\">\n",
              "    <path d=\"M0 0h24v24H0V0z\" fill=\"none\"/>\n",
              "    <path d=\"M18.56 5.44l.94 2.06.94-2.06 2.06-.94-2.06-.94-.94-2.06-.94 2.06-2.06.94zm-11 1L8.5 8.5l.94-2.06 2.06-.94-2.06-.94L8.5 2.5l-.94 2.06-2.06.94zm10 10l.94 2.06.94-2.06 2.06-.94-2.06-.94-.94-2.06-.94 2.06-2.06.94z\"/><path d=\"M17.41 7.96l-1.37-1.37c-.4-.4-.92-.59-1.43-.59-.52 0-1.04.2-1.43.59L10.3 9.45l-7.72 7.72c-.78.78-.78 2.05 0 2.83L4 21.41c.39.39.9.59 1.41.59.51 0 1.02-.2 1.41-.59l7.78-7.78 2.81-2.81c.8-.78.8-2.07 0-2.86zM5.41 20L4 18.59l7.72-7.72 1.47 1.35L5.41 20z\"/>\n",
              "  </svg>\n",
              "      </button>\n",
              "      \n",
              "  <style>\n",
              "    .colab-df-container {\n",
              "      display:flex;\n",
              "      flex-wrap:wrap;\n",
              "      gap: 12px;\n",
              "    }\n",
              "\n",
              "    .colab-df-convert {\n",
              "      background-color: #E8F0FE;\n",
              "      border: none;\n",
              "      border-radius: 50%;\n",
              "      cursor: pointer;\n",
              "      display: none;\n",
              "      fill: #1967D2;\n",
              "      height: 32px;\n",
              "      padding: 0 0 0 0;\n",
              "      width: 32px;\n",
              "    }\n",
              "\n",
              "    .colab-df-convert:hover {\n",
              "      background-color: #E2EBFA;\n",
              "      box-shadow: 0px 1px 2px rgba(60, 64, 67, 0.3), 0px 1px 3px 1px rgba(60, 64, 67, 0.15);\n",
              "      fill: #174EA6;\n",
              "    }\n",
              "\n",
              "    [theme=dark] .colab-df-convert {\n",
              "      background-color: #3B4455;\n",
              "      fill: #D2E3FC;\n",
              "    }\n",
              "\n",
              "    [theme=dark] .colab-df-convert:hover {\n",
              "      background-color: #434B5C;\n",
              "      box-shadow: 0px 1px 3px 1px rgba(0, 0, 0, 0.15);\n",
              "      filter: drop-shadow(0px 1px 2px rgba(0, 0, 0, 0.3));\n",
              "      fill: #FFFFFF;\n",
              "    }\n",
              "  </style>\n",
              "\n",
              "      <script>\n",
              "        const buttonEl =\n",
              "          document.querySelector('#df-05330069-aaa3-4e56-9982-5d3be4a142e0 button.colab-df-convert');\n",
              "        buttonEl.style.display =\n",
              "          google.colab.kernel.accessAllowed ? 'block' : 'none';\n",
              "\n",
              "        async function convertToInteractive(key) {\n",
              "          const element = document.querySelector('#df-05330069-aaa3-4e56-9982-5d3be4a142e0');\n",
              "          const dataTable =\n",
              "            await google.colab.kernel.invokeFunction('convertToInteractive',\n",
              "                                                     [key], {});\n",
              "          if (!dataTable) return;\n",
              "\n",
              "          const docLinkHtml = 'Like what you see? Visit the ' +\n",
              "            '<a target=\"_blank\" href=https://colab.research.google.com/notebooks/data_table.ipynb>data table notebook</a>'\n",
              "            + ' to learn more about interactive tables.';\n",
              "          element.innerHTML = '';\n",
              "          dataTable['output_type'] = 'display_data';\n",
              "          await google.colab.output.renderOutput(dataTable, element);\n",
              "          const docLink = document.createElement('div');\n",
              "          docLink.innerHTML = docLinkHtml;\n",
              "          element.appendChild(docLink);\n",
              "        }\n",
              "      </script>\n",
              "    </div>\n",
              "  </div>\n",
              "  "
            ],
            "text/plain": [
              "   x1_b  x2_d  x2_e\n",
              "0     0     0     0\n",
              "1     1     0     1\n",
              "2     0     0     0\n",
              "3     1     0     0\n",
              "4     0     1     0\n",
              "5     1     0     1"
            ]
          },
          "execution_count": 32,
          "metadata": {},
          "output_type": "execute_result"
        }
      ],
      "source": [
        "# 통합 축소형 - Pandas get_dummies 이용\n",
        "pd.get_dummies(\n",
        "    data = df, \n",
        "    dummy_na = False, \n",
        "    drop_first = True)"
      ]
    },
    {
      "cell_type": "code",
      "execution_count": 33,
      "metadata": {
        "colab": {
          "base_uri": "https://localhost:8080/",
          "height": 206
        },
        "id": "KxaQ3-C8Ru_3",
        "outputId": "58bd106c-b9b2-4878-fdeb-ecbd103e5648"
      },
      "outputs": [
        {
          "data": {
            "text/html": [
              "\n",
              "  <div id=\"df-3196676f-7cd5-40c8-a2c2-8a0e088624f5\">\n",
              "    <div class=\"colab-df-container\">\n",
              "      <div>\n",
              "<style scoped>\n",
              "    .dataframe tbody tr th:only-of-type {\n",
              "        vertical-align: middle;\n",
              "    }\n",
              "\n",
              "    .dataframe tbody tr th {\n",
              "        vertical-align: top;\n",
              "    }\n",
              "\n",
              "    .dataframe thead th {\n",
              "        text-align: right;\n",
              "    }\n",
              "</style>\n",
              "<table border=\"1\" class=\"dataframe\">\n",
              "  <thead>\n",
              "    <tr style=\"text-align: right;\">\n",
              "      <th></th>\n",
              "      <th>Intercept</th>\n",
              "      <th>x1[T.b]</th>\n",
              "      <th>x2[T.d]</th>\n",
              "      <th>x2[T.e]</th>\n",
              "    </tr>\n",
              "  </thead>\n",
              "  <tbody>\n",
              "    <tr>\n",
              "      <th>0</th>\n",
              "      <td>1.0</td>\n",
              "      <td>0.0</td>\n",
              "      <td>0.0</td>\n",
              "      <td>0.0</td>\n",
              "    </tr>\n",
              "    <tr>\n",
              "      <th>1</th>\n",
              "      <td>1.0</td>\n",
              "      <td>1.0</td>\n",
              "      <td>0.0</td>\n",
              "      <td>1.0</td>\n",
              "    </tr>\n",
              "    <tr>\n",
              "      <th>2</th>\n",
              "      <td>1.0</td>\n",
              "      <td>0.0</td>\n",
              "      <td>0.0</td>\n",
              "      <td>0.0</td>\n",
              "    </tr>\n",
              "    <tr>\n",
              "      <th>4</th>\n",
              "      <td>1.0</td>\n",
              "      <td>0.0</td>\n",
              "      <td>1.0</td>\n",
              "      <td>0.0</td>\n",
              "    </tr>\n",
              "    <tr>\n",
              "      <th>5</th>\n",
              "      <td>1.0</td>\n",
              "      <td>1.0</td>\n",
              "      <td>0.0</td>\n",
              "      <td>1.0</td>\n",
              "    </tr>\n",
              "  </tbody>\n",
              "</table>\n",
              "</div>\n",
              "      <button class=\"colab-df-convert\" onclick=\"convertToInteractive('df-3196676f-7cd5-40c8-a2c2-8a0e088624f5')\"\n",
              "              title=\"Convert this dataframe to an interactive table.\"\n",
              "              style=\"display:none;\">\n",
              "        \n",
              "  <svg xmlns=\"http://www.w3.org/2000/svg\" height=\"24px\"viewBox=\"0 0 24 24\"\n",
              "       width=\"24px\">\n",
              "    <path d=\"M0 0h24v24H0V0z\" fill=\"none\"/>\n",
              "    <path d=\"M18.56 5.44l.94 2.06.94-2.06 2.06-.94-2.06-.94-.94-2.06-.94 2.06-2.06.94zm-11 1L8.5 8.5l.94-2.06 2.06-.94-2.06-.94L8.5 2.5l-.94 2.06-2.06.94zm10 10l.94 2.06.94-2.06 2.06-.94-2.06-.94-.94-2.06-.94 2.06-2.06.94z\"/><path d=\"M17.41 7.96l-1.37-1.37c-.4-.4-.92-.59-1.43-.59-.52 0-1.04.2-1.43.59L10.3 9.45l-7.72 7.72c-.78.78-.78 2.05 0 2.83L4 21.41c.39.39.9.59 1.41.59.51 0 1.02-.2 1.41-.59l7.78-7.78 2.81-2.81c.8-.78.8-2.07 0-2.86zM5.41 20L4 18.59l7.72-7.72 1.47 1.35L5.41 20z\"/>\n",
              "  </svg>\n",
              "      </button>\n",
              "      \n",
              "  <style>\n",
              "    .colab-df-container {\n",
              "      display:flex;\n",
              "      flex-wrap:wrap;\n",
              "      gap: 12px;\n",
              "    }\n",
              "\n",
              "    .colab-df-convert {\n",
              "      background-color: #E8F0FE;\n",
              "      border: none;\n",
              "      border-radius: 50%;\n",
              "      cursor: pointer;\n",
              "      display: none;\n",
              "      fill: #1967D2;\n",
              "      height: 32px;\n",
              "      padding: 0 0 0 0;\n",
              "      width: 32px;\n",
              "    }\n",
              "\n",
              "    .colab-df-convert:hover {\n",
              "      background-color: #E2EBFA;\n",
              "      box-shadow: 0px 1px 2px rgba(60, 64, 67, 0.3), 0px 1px 3px 1px rgba(60, 64, 67, 0.15);\n",
              "      fill: #174EA6;\n",
              "    }\n",
              "\n",
              "    [theme=dark] .colab-df-convert {\n",
              "      background-color: #3B4455;\n",
              "      fill: #D2E3FC;\n",
              "    }\n",
              "\n",
              "    [theme=dark] .colab-df-convert:hover {\n",
              "      background-color: #434B5C;\n",
              "      box-shadow: 0px 1px 3px 1px rgba(0, 0, 0, 0.15);\n",
              "      filter: drop-shadow(0px 1px 2px rgba(0, 0, 0, 0.3));\n",
              "      fill: #FFFFFF;\n",
              "    }\n",
              "  </style>\n",
              "\n",
              "      <script>\n",
              "        const buttonEl =\n",
              "          document.querySelector('#df-3196676f-7cd5-40c8-a2c2-8a0e088624f5 button.colab-df-convert');\n",
              "        buttonEl.style.display =\n",
              "          google.colab.kernel.accessAllowed ? 'block' : 'none';\n",
              "\n",
              "        async function convertToInteractive(key) {\n",
              "          const element = document.querySelector('#df-3196676f-7cd5-40c8-a2c2-8a0e088624f5');\n",
              "          const dataTable =\n",
              "            await google.colab.kernel.invokeFunction('convertToInteractive',\n",
              "                                                     [key], {});\n",
              "          if (!dataTable) return;\n",
              "\n",
              "          const docLinkHtml = 'Like what you see? Visit the ' +\n",
              "            '<a target=\"_blank\" href=https://colab.research.google.com/notebooks/data_table.ipynb>data table notebook</a>'\n",
              "            + ' to learn more about interactive tables.';\n",
              "          element.innerHTML = '';\n",
              "          dataTable['output_type'] = 'display_data';\n",
              "          await google.colab.output.renderOutput(dataTable, element);\n",
              "          const docLink = document.createElement('div');\n",
              "          docLink.innerHTML = docLinkHtml;\n",
              "          element.appendChild(docLink);\n",
              "        }\n",
              "      </script>\n",
              "    </div>\n",
              "  </div>\n",
              "  "
            ],
            "text/plain": [
              "   Intercept  x1[T.b]  x2[T.d]  x2[T.e]\n",
              "0        1.0      0.0      0.0      0.0\n",
              "1        1.0      1.0      0.0      1.0\n",
              "2        1.0      0.0      0.0      0.0\n",
              "4        1.0      0.0      1.0      0.0\n",
              "5        1.0      1.0      0.0      1.0"
            ]
          },
          "execution_count": 33,
          "metadata": {},
          "output_type": "execute_result"
        }
      ],
      "source": [
        "# 통합 축소형 - patsy dmatrix 이용\n",
        "dmatrix('x1+x2', df, return_type='dataframe')"
      ]
    },
    {
      "cell_type": "code",
      "execution_count": 34,
      "metadata": {
        "colab": {
          "base_uri": "https://localhost:8080/",
          "height": 206
        },
        "id": "voayjLmGR9LY",
        "outputId": "ad0e41e6-955b-4473-a4e5-d6e3906ba11c"
      },
      "outputs": [
        {
          "data": {
            "text/html": [
              "\n",
              "  <div id=\"df-ee8efe3d-949b-4279-97be-4d8fd3039894\">\n",
              "    <div class=\"colab-df-container\">\n",
              "      <div>\n",
              "<style scoped>\n",
              "    .dataframe tbody tr th:only-of-type {\n",
              "        vertical-align: middle;\n",
              "    }\n",
              "\n",
              "    .dataframe tbody tr th {\n",
              "        vertical-align: top;\n",
              "    }\n",
              "\n",
              "    .dataframe thead th {\n",
              "        text-align: right;\n",
              "    }\n",
              "</style>\n",
              "<table border=\"1\" class=\"dataframe\">\n",
              "  <thead>\n",
              "    <tr style=\"text-align: right;\">\n",
              "      <th></th>\n",
              "      <th>Intercept</th>\n",
              "      <th>x2[T.d]</th>\n",
              "      <th>x2[T.e]</th>\n",
              "      <th>x1[T.b]:x2[c]</th>\n",
              "      <th>x1[T.b]:x2[d]</th>\n",
              "      <th>x1[T.b]:x2[e]</th>\n",
              "    </tr>\n",
              "  </thead>\n",
              "  <tbody>\n",
              "    <tr>\n",
              "      <th>0</th>\n",
              "      <td>1.0</td>\n",
              "      <td>0.0</td>\n",
              "      <td>0.0</td>\n",
              "      <td>0.0</td>\n",
              "      <td>0.0</td>\n",
              "      <td>0.0</td>\n",
              "    </tr>\n",
              "    <tr>\n",
              "      <th>1</th>\n",
              "      <td>1.0</td>\n",
              "      <td>0.0</td>\n",
              "      <td>1.0</td>\n",
              "      <td>0.0</td>\n",
              "      <td>0.0</td>\n",
              "      <td>1.0</td>\n",
              "    </tr>\n",
              "    <tr>\n",
              "      <th>2</th>\n",
              "      <td>1.0</td>\n",
              "      <td>0.0</td>\n",
              "      <td>0.0</td>\n",
              "      <td>0.0</td>\n",
              "      <td>0.0</td>\n",
              "      <td>0.0</td>\n",
              "    </tr>\n",
              "    <tr>\n",
              "      <th>4</th>\n",
              "      <td>1.0</td>\n",
              "      <td>1.0</td>\n",
              "      <td>0.0</td>\n",
              "      <td>0.0</td>\n",
              "      <td>0.0</td>\n",
              "      <td>0.0</td>\n",
              "    </tr>\n",
              "    <tr>\n",
              "      <th>5</th>\n",
              "      <td>1.0</td>\n",
              "      <td>0.0</td>\n",
              "      <td>1.0</td>\n",
              "      <td>0.0</td>\n",
              "      <td>0.0</td>\n",
              "      <td>1.0</td>\n",
              "    </tr>\n",
              "  </tbody>\n",
              "</table>\n",
              "</div>\n",
              "      <button class=\"colab-df-convert\" onclick=\"convertToInteractive('df-ee8efe3d-949b-4279-97be-4d8fd3039894')\"\n",
              "              title=\"Convert this dataframe to an interactive table.\"\n",
              "              style=\"display:none;\">\n",
              "        \n",
              "  <svg xmlns=\"http://www.w3.org/2000/svg\" height=\"24px\"viewBox=\"0 0 24 24\"\n",
              "       width=\"24px\">\n",
              "    <path d=\"M0 0h24v24H0V0z\" fill=\"none\"/>\n",
              "    <path d=\"M18.56 5.44l.94 2.06.94-2.06 2.06-.94-2.06-.94-.94-2.06-.94 2.06-2.06.94zm-11 1L8.5 8.5l.94-2.06 2.06-.94-2.06-.94L8.5 2.5l-.94 2.06-2.06.94zm10 10l.94 2.06.94-2.06 2.06-.94-2.06-.94-.94-2.06-.94 2.06-2.06.94z\"/><path d=\"M17.41 7.96l-1.37-1.37c-.4-.4-.92-.59-1.43-.59-.52 0-1.04.2-1.43.59L10.3 9.45l-7.72 7.72c-.78.78-.78 2.05 0 2.83L4 21.41c.39.39.9.59 1.41.59.51 0 1.02-.2 1.41-.59l7.78-7.78 2.81-2.81c.8-.78.8-2.07 0-2.86zM5.41 20L4 18.59l7.72-7.72 1.47 1.35L5.41 20z\"/>\n",
              "  </svg>\n",
              "      </button>\n",
              "      \n",
              "  <style>\n",
              "    .colab-df-container {\n",
              "      display:flex;\n",
              "      flex-wrap:wrap;\n",
              "      gap: 12px;\n",
              "    }\n",
              "\n",
              "    .colab-df-convert {\n",
              "      background-color: #E8F0FE;\n",
              "      border: none;\n",
              "      border-radius: 50%;\n",
              "      cursor: pointer;\n",
              "      display: none;\n",
              "      fill: #1967D2;\n",
              "      height: 32px;\n",
              "      padding: 0 0 0 0;\n",
              "      width: 32px;\n",
              "    }\n",
              "\n",
              "    .colab-df-convert:hover {\n",
              "      background-color: #E2EBFA;\n",
              "      box-shadow: 0px 1px 2px rgba(60, 64, 67, 0.3), 0px 1px 3px 1px rgba(60, 64, 67, 0.15);\n",
              "      fill: #174EA6;\n",
              "    }\n",
              "\n",
              "    [theme=dark] .colab-df-convert {\n",
              "      background-color: #3B4455;\n",
              "      fill: #D2E3FC;\n",
              "    }\n",
              "\n",
              "    [theme=dark] .colab-df-convert:hover {\n",
              "      background-color: #434B5C;\n",
              "      box-shadow: 0px 1px 3px 1px rgba(0, 0, 0, 0.15);\n",
              "      filter: drop-shadow(0px 1px 2px rgba(0, 0, 0, 0.3));\n",
              "      fill: #FFFFFF;\n",
              "    }\n",
              "  </style>\n",
              "\n",
              "      <script>\n",
              "        const buttonEl =\n",
              "          document.querySelector('#df-ee8efe3d-949b-4279-97be-4d8fd3039894 button.colab-df-convert');\n",
              "        buttonEl.style.display =\n",
              "          google.colab.kernel.accessAllowed ? 'block' : 'none';\n",
              "\n",
              "        async function convertToInteractive(key) {\n",
              "          const element = document.querySelector('#df-ee8efe3d-949b-4279-97be-4d8fd3039894');\n",
              "          const dataTable =\n",
              "            await google.colab.kernel.invokeFunction('convertToInteractive',\n",
              "                                                     [key], {});\n",
              "          if (!dataTable) return;\n",
              "\n",
              "          const docLinkHtml = 'Like what you see? Visit the ' +\n",
              "            '<a target=\"_blank\" href=https://colab.research.google.com/notebooks/data_table.ipynb>data table notebook</a>'\n",
              "            + ' to learn more about interactive tables.';\n",
              "          element.innerHTML = '';\n",
              "          dataTable['output_type'] = 'display_data';\n",
              "          await google.colab.output.renderOutput(dataTable, element);\n",
              "          const docLink = document.createElement('div');\n",
              "          docLink.innerHTML = docLinkHtml;\n",
              "          element.appendChild(docLink);\n",
              "        }\n",
              "      </script>\n",
              "    </div>\n",
              "  </div>\n",
              "  "
            ],
            "text/plain": [
              "   Intercept  x2[T.d]  x2[T.e]  x1[T.b]:x2[c]  x1[T.b]:x2[d]  x1[T.b]:x2[e]\n",
              "0        1.0      0.0      0.0            0.0            0.0            0.0\n",
              "1        1.0      0.0      1.0            0.0            0.0            1.0\n",
              "2        1.0      0.0      0.0            0.0            0.0            0.0\n",
              "4        1.0      1.0      0.0            0.0            0.0            0.0\n",
              "5        1.0      0.0      1.0            0.0            0.0            1.0"
            ]
          },
          "execution_count": 34,
          "metadata": {},
          "output_type": "execute_result"
        }
      ],
      "source": [
        "# 상호 작용형\n",
        "dmatrix('x1:x2', df, return_type='dataframe')"
      ]
    },
    {
      "cell_type": "markdown",
      "metadata": {
        "id": "NaUORkxRdJA3"
      },
      "source": [
        "## 다) 변수 변환\n",
        "- 범주형 컬럼 그룹핑\n",
        "- 날자형 컬럼 그룹핑\n",
        "- 날짜형 데이터 변환 - 년, 월, 일 분리"
      ]
    },
    {
      "cell_type": "markdown",
      "metadata": {
        "id": "yTvhuWXgDkmH"
      },
      "source": [
        "## 라) 차원 축소\n",
        "\n",
        "| 주성분분석 | 요인분석 |\n",
        "| --- | --- |\n",
        "| 관찰기술(요인분석 유형) | 모델링 기술 |\n",
        "| 최대 분산양 설명 | 데이터의 공분산을 설명 |\n",
        "| 관측된 변수의 선형 조합 | 미관측 변수/요인 선형조합 |\n",
        "| 구성요소 해석 불가 | 레이블링 및 해석 가능 |\n",
        "| 차원 축소법 | 잠재변수 방법 |"
      ]
    },
    {
      "cell_type": "code",
      "execution_count": 35,
      "metadata": {
        "colab": {
          "base_uri": "https://localhost:8080/",
          "height": 329
        },
        "id": "wmxrWK8ZD4wH",
        "outputId": "f3f1c1d9-f0b7-490e-84f3-bd4428865a56"
      },
      "outputs": [
        {
          "data": {
            "image/png": "[encoded data removed]",
            "text/plain": [
              "<Figure size 720x360 with 2 Axes>"
            ]
          },
          "metadata": {},
          "output_type": "display_data"
        }
      ],
      "source": [
        "# 연속형 변수간 상관관계 분석\n",
        "df = sns.load_dataset('iris').iloc[:,:-1]\n",
        "sns.heatmap(\n",
        "    data = df.corr(),\n",
        "    annot = True);"
      ]
    },
    {
      "cell_type": "markdown",
      "metadata": {
        "id": "k8AytdkhTH7P"
      },
      "source": [
        "### (1) 주성분분석\n",
        "- 주성분-변수 관계 : pca.components_.T\n",
        "- 주성분 설명력 : pca.explained_variance_ratio_"
      ]
    },
    {
      "cell_type": "code",
      "execution_count": 36,
      "metadata": {
        "colab": {
          "base_uri": "https://localhost:8080/",
          "height": 0
        },
        "id": "f47H60NSUDo8",
        "outputId": "ed36b854-fcbd-409d-de20-613cb23a2755"
      },
      "outputs": [
        {
          "data": {
            "text/plain": [
              "array([0.92461872, 0.97768521, 0.99478782, 1.        ])"
            ]
          },
          "execution_count": 36,
          "metadata": {},
          "output_type": "execute_result"
        }
      ],
      "source": [
        "# 최대 갯수로 PCA 실행\n",
        "ncomp = min(df.shape[0], df.shape[1])\n",
        "pca = PCA(n_components = ncomp)\n",
        "pca.fit(df)\n",
        "\n",
        "# Loadings : 각 변수와 주성분간의 관계\n",
        "loadings = pd.DataFrame(\n",
        "    data=pca.components_.T, \n",
        "    index=df.columns,\n",
        "    columns=[ 'pca_'+ str(i+1) for i in range(df.shape[1]) ]\n",
        "    )\n",
        "\n",
        "# Cumulative Explained Value : 주성분의 설명력\n",
        "cev = np.cumsum(pca.explained_variance_ratio_)\n",
        "cev"
      ]
    },
    {
      "cell_type": "code",
      "execution_count": 37,
      "metadata": {
        "colab": {
          "base_uri": "https://localhost:8080/",
          "height": 0
        },
        "id": "a286Dyj-TLsv",
        "outputId": "432257f7-0bdb-4626-b5db-3c70703d4e47"
      },
      "outputs": [
        {
          "data": {
            "image/png": "[encoded data removed]",
            "text/plain": [
              "<Figure size 720x360 with 2 Axes>"
            ]
          },
          "metadata": {},
          "output_type": "display_data"
        }
      ],
      "source": [
        "sns.heatmap(\n",
        "    data = loadings,\n",
        "    annot=True,\n",
        "    fmt='.2f',\n",
        "    cmap='Blues'\n",
        ");"
      ]
    },
    {
      "cell_type": "code",
      "execution_count": 38,
      "metadata": {
        "colab": {
          "base_uri": "https://localhost:8080/",
          "height": 0
        },
        "id": "gZVnJ3YffzOx",
        "outputId": "023135b0-76d1-487f-9fcd-07c9977a4f92"
      },
      "outputs": [
        {
          "data": {
            "image/png": "[encoded data removed]",
            "text/plain": [
              "<Figure size 720x360 with 1 Axes>"
            ]
          },
          "metadata": {},
          "output_type": "display_data"
        }
      ],
      "source": [
        "x = range(1, ncomp+1)\n",
        "y = pca.explained_variance_ratio_ \n",
        "s = cev\n",
        "\n",
        "plt.title('Scree plot'.format(ncomp))\n",
        "plt.ylim(0,1.2)\n",
        "plt.xticks(x)\n",
        "plt.xlabel('Components')\n",
        "plt.ylabel('Cumulative Explained Value')\n",
        "\n",
        "plt.bar(x, y, color='grey', width=0.4, alpha=0.2)\n",
        "plt.plot(x, s, 'bo-')\n",
        "\n",
        "plt.show()"
      ]
    },
    {
      "cell_type": "code",
      "execution_count": 39,
      "metadata": {
        "id": "zONzCpRNkV8F"
      },
      "outputs": [],
      "source": [
        "# 주성분 갯수를 결정하고 최종 주성분 분석을 수행 후 결과 저장\n",
        "pca = PCA(n_components = 2)\n",
        "pca_comp = pca.fit_transform(df)"
      ]
    },
    {
      "cell_type": "markdown",
      "metadata": {
        "id": "L-2PcF_yoiup"
      },
      "source": [
        "### (2) 요인분석"
      ]
    },
    {
      "cell_type": "markdown",
      "metadata": {
        "id": "jBKpGu0W1w32"
      },
      "source": [
        "#### (가) 요인분석 적성성 평가\n",
        "- bartlett: 관측 변수들의 상호 연관성 확인\n",
        "- kmo : 관측 변수와 전체 모형의 적합성 결정(0~1 사이)\n",
        "  - 0.6 미만이면 부적절, 0.8 이상이면 우수"
      ]
    },
    {
      "cell_type": "code",
      "execution_count": 40,
      "metadata": {
        "colab": {
          "base_uri": "https://localhost:8080/",
          "height": 0
        },
        "id": "eCVeBWYn2HFl",
        "outputId": "f43b0515-a87b-4a5a-f97e-55f8789eb53c"
      },
      "outputs": [
        {
          "name": "stdout",
          "output_type": "stream",
          "text": [
            "H0 : 상관행렬이 항등행렬(변수간 관련이 없음) : False\n"
          ]
        }
      ],
      "source": [
        "# Bartlett 검정\n",
        "stat, pvalue = calculate_bartlett_sphericity(df)\n",
        "print('H0 : 상관행렬이 항등행렬(변수간 관련이 없음) : {}'.format(pvalue > 0.05))"
      ]
    },
    {
      "cell_type": "code",
      "execution_count": 41,
      "metadata": {
        "colab": {
          "base_uri": "https://localhost:8080/",
          "height": 0
        },
        "id": "jnR7jxEg2G6A",
        "outputId": "53a59491-bcd2-4a64-aa61-a1db54baaf58"
      },
      "outputs": [
        {
          "name": "stdout",
          "output_type": "stream",
          "text": [
            "H0 : 변수간 편상관 강도 : 0.5367519348790607\n"
          ]
        }
      ],
      "source": [
        "# Kaiser-Meyer-Olkin 검정\n",
        "kmo_all, kmo_model = calculate_kmo(df)\n",
        "print('H0 : 변수간 편상관 강도 : {}'.format(kmo_model))"
      ]
    },
    {
      "cell_type": "markdown",
      "metadata": {
        "id": "1ssNQwi-1qkq"
      },
      "source": [
        "#### (나) 요인분석 실행"
      ]
    },
    {
      "cell_type": "code",
      "execution_count": 42,
      "metadata": {
        "colab": {
          "base_uri": "https://localhost:8080/",
          "height": 0
        },
        "id": "1dPVqJ1zneiK",
        "outputId": "9cd4675c-3aa4-4d3a-8531-913ec3492f16"
      },
      "outputs": [
        {
          "data": {
            "text/plain": [
              "array([2.91849782, 3.83252829, 3.97928516, 4.        ])"
            ]
          },
          "execution_count": 42,
          "metadata": {},
          "output_type": "execute_result"
        }
      ],
      "source": [
        "from scipy.sparse.linalg import eigen\n",
        "# 최대 갯수로 PCA 실행\n",
        "ncomp = min(df.shape[0], df.shape[1])\n",
        "fa = FactorAnalyzer(n_factors=ncomp, rotation='varimax')\n",
        "fa.fit(df)\n",
        "\n",
        "# Loadings : 각 변수와 요인간의 관계\n",
        "loadings = pd.DataFrame(\n",
        "    data=fa.loadings_, \n",
        "    index=df.columns,\n",
        "    columns=[ 'fa_'+ str(i+1) for i in range(ncomp) ]\n",
        "    )\n",
        "\n",
        "# Cumulative Eigen Value : 요인들의 설명력\n",
        "ev, v = fa.get_eigenvalues()\n",
        "cev = np.cumsum(ev)\n",
        "cev"
      ]
    },
    {
      "cell_type": "code",
      "execution_count": 43,
      "metadata": {
        "colab": {
          "base_uri": "https://localhost:8080/",
          "height": 175
        },
        "id": "cuLQ0gTxGmlR",
        "outputId": "ad77e882-e3e9-41f6-f756-61a26f3e5793"
      },
      "outputs": [
        {
          "data": {
            "text/html": [
              "\n",
              "  <div id=\"df-64443bb8-1883-4627-8076-950837d04706\">\n",
              "    <div class=\"colab-df-container\">\n",
              "      <div>\n",
              "<style scoped>\n",
              "    .dataframe tbody tr th:only-of-type {\n",
              "        vertical-align: middle;\n",
              "    }\n",
              "\n",
              "    .dataframe tbody tr th {\n",
              "        vertical-align: top;\n",
              "    }\n",
              "\n",
              "    .dataframe thead th {\n",
              "        text-align: right;\n",
              "    }\n",
              "</style>\n",
              "<table border=\"1\" class=\"dataframe\">\n",
              "  <thead>\n",
              "    <tr style=\"text-align: right;\">\n",
              "      <th></th>\n",
              "      <th>fa_1</th>\n",
              "      <th>fa_2</th>\n",
              "      <th>fa_3</th>\n",
              "      <th>fa_4</th>\n",
              "    </tr>\n",
              "  </thead>\n",
              "  <tbody>\n",
              "    <tr>\n",
              "      <th>sepal_length</th>\n",
              "      <td>0.995957</td>\n",
              "      <td>-0.009327</td>\n",
              "      <td>0.035266</td>\n",
              "      <td>0.0</td>\n",
              "    </tr>\n",
              "    <tr>\n",
              "      <th>sepal_width</th>\n",
              "      <td>-0.108139</td>\n",
              "      <td>0.755990</td>\n",
              "      <td>-0.079890</td>\n",
              "      <td>0.0</td>\n",
              "    </tr>\n",
              "    <tr>\n",
              "      <th>petal_length</th>\n",
              "      <td>0.861249</td>\n",
              "      <td>-0.413169</td>\n",
              "      <td>0.287304</td>\n",
              "      <td>0.0</td>\n",
              "    </tr>\n",
              "    <tr>\n",
              "      <th>petal_width</th>\n",
              "      <td>0.800788</td>\n",
              "      <td>-0.317525</td>\n",
              "      <td>0.494231</td>\n",
              "      <td>0.0</td>\n",
              "    </tr>\n",
              "  </tbody>\n",
              "</table>\n",
              "</div>\n",
              "      <button class=\"colab-df-convert\" onclick=\"convertToInteractive('df-64443bb8-1883-4627-8076-950837d04706')\"\n",
              "              title=\"Convert this dataframe to an interactive table.\"\n",
              "              style=\"display:none;\">\n",
              "        \n",
              "  <svg xmlns=\"http://www.w3.org/2000/svg\" height=\"24px\"viewBox=\"0 0 24 24\"\n",
              "       width=\"24px\">\n",
              "    <path d=\"M0 0h24v24H0V0z\" fill=\"none\"/>\n",
              "    <path d=\"M18.56 5.44l.94 2.06.94-2.06 2.06-.94-2.06-.94-.94-2.06-.94 2.06-2.06.94zm-11 1L8.5 8.5l.94-2.06 2.06-.94-2.06-.94L8.5 2.5l-.94 2.06-2.06.94zm10 10l.94 2.06.94-2.06 2.06-.94-2.06-.94-.94-2.06-.94 2.06-2.06.94z\"/><path d=\"M17.41 7.96l-1.37-1.37c-.4-.4-.92-.59-1.43-.59-.52 0-1.04.2-1.43.59L10.3 9.45l-7.72 7.72c-.78.78-.78 2.05 0 2.83L4 21.41c.39.39.9.59 1.41.59.51 0 1.02-.2 1.41-.59l7.78-7.78 2.81-2.81c.8-.78.8-2.07 0-2.86zM5.41 20L4 18.59l7.72-7.72 1.47 1.35L5.41 20z\"/>\n",
              "  </svg>\n",
              "      </button>\n",
              "      \n",
              "  <style>\n",
              "    .colab-df-container {\n",
              "      display:flex;\n",
              "      flex-wrap:wrap;\n",
              "      gap: 12px;\n",
              "    }\n",
              "\n",
              "    .colab-df-convert {\n",
              "      background-color: #E8F0FE;\n",
              "      border: none;\n",
              "      border-radius: 50%;\n",
              "      cursor: pointer;\n",
              "      display: none;\n",
              "      fill: #1967D2;\n",
              "      height: 32px;\n",
              "      padding: 0 0 0 0;\n",
              "      width: 32px;\n",
              "    }\n",
              "\n",
              "    .colab-df-convert:hover {\n",
              "      background-color: #E2EBFA;\n",
              "      box-shadow: 0px 1px 2px rgba(60, 64, 67, 0.3), 0px 1px 3px 1px rgba(60, 64, 67, 0.15);\n",
              "      fill: #174EA6;\n",
              "    }\n",
              "\n",
              "    [theme=dark] .colab-df-convert {\n",
              "      background-color: #3B4455;\n",
              "      fill: #D2E3FC;\n",
              "    }\n",
              "\n",
              "    [theme=dark] .colab-df-convert:hover {\n",
              "      background-color: #434B5C;\n",
              "      box-shadow: 0px 1px 3px 1px rgba(0, 0, 0, 0.15);\n",
              "      filter: drop-shadow(0px 1px 2px rgba(0, 0, 0, 0.3));\n",
              "      fill: #FFFFFF;\n",
              "    }\n",
              "  </style>\n",
              "\n",
              "      <script>\n",
              "        const buttonEl =\n",
              "          document.querySelector('#df-64443bb8-1883-4627-8076-950837d04706 button.colab-df-convert');\n",
              "        buttonEl.style.display =\n",
              "          google.colab.kernel.accessAllowed ? 'block' : 'none';\n",
              "\n",
              "        async function convertToInteractive(key) {\n",
              "          const element = document.querySelector('#df-64443bb8-1883-4627-8076-950837d04706');\n",
              "          const dataTable =\n",
              "            await google.colab.kernel.invokeFunction('convertToInteractive',\n",
              "                                                     [key], {});\n",
              "          if (!dataTable) return;\n",
              "\n",
              "          const docLinkHtml = 'Like what you see? Visit the ' +\n",
              "            '<a target=\"_blank\" href=https://colab.research.google.com/notebooks/data_table.ipynb>data table notebook</a>'\n",
              "            + ' to learn more about interactive tables.';\n",
              "          element.innerHTML = '';\n",
              "          dataTable['output_type'] = 'display_data';\n",
              "          await google.colab.output.renderOutput(dataTable, element);\n",
              "          const docLink = document.createElement('div');\n",
              "          docLink.innerHTML = docLinkHtml;\n",
              "          element.appendChild(docLink);\n",
              "        }\n",
              "      </script>\n",
              "    </div>\n",
              "  </div>\n",
              "  "
            ],
            "text/plain": [
              "                  fa_1      fa_2      fa_3  fa_4\n",
              "sepal_length  0.995957 -0.009327  0.035266   0.0\n",
              "sepal_width  -0.108139  0.755990 -0.079890   0.0\n",
              "petal_length  0.861249 -0.413169  0.287304   0.0\n",
              "petal_width   0.800788 -0.317525  0.494231   0.0"
            ]
          },
          "execution_count": 43,
          "metadata": {},
          "output_type": "execute_result"
        }
      ],
      "source": [
        "loadings"
      ]
    },
    {
      "cell_type": "code",
      "execution_count": 44,
      "metadata": {
        "colab": {
          "base_uri": "https://localhost:8080/",
          "height": 324
        },
        "id": "-3p8wXIp0_J1",
        "outputId": "e54a3e60-7415-4989-e7dd-5036f6263a68"
      },
      "outputs": [
        {
          "data": {
            "image/png": "[encoded data removed]",
            "text/plain": [
              "<Figure size 720x360 with 2 Axes>"
            ]
          },
          "metadata": {},
          "output_type": "display_data"
        }
      ],
      "source": [
        "sns.heatmap(\n",
        "    data = loadings,\n",
        "    annot=True,\n",
        "    fmt='.2f',\n",
        "    cmap='Blues'\n",
        ");"
      ]
    },
    {
      "cell_type": "code",
      "execution_count": 45,
      "metadata": {
        "colab": {
          "base_uri": "https://localhost:8080/",
          "height": 355
        },
        "id": "eKwM1z2CxIQ-",
        "outputId": "d268da14-b919-4a98-e912-2179adb4e7e9"
      },
      "outputs": [
        {
          "data": {
            "image/png": "[encoded data removed]",
            "text/plain": [
              "<Figure size 720x360 with 1 Axes>"
            ]
          },
          "metadata": {},
          "output_type": "display_data"
        }
      ],
      "source": [
        "x = range(1, ncomp+1)\n",
        "y = ev\n",
        "s = cev\n",
        "\n",
        "plt.title('Scree plot'.format(ncomp))\n",
        "plt.ylim(0, ncomp+1)\n",
        "plt.xticks(x)\n",
        "plt.xlabel('Factors')\n",
        "plt.ylabel('Cumulative Eigen Value')\n",
        "\n",
        "plt.bar(x, y, color='grey', width=0.4, alpha=0.2)\n",
        "plt.plot(x, s, 'bo-')\n",
        "\n",
        "plt.show()"
      ]
    },
    {
      "cell_type": "code",
      "execution_count": 46,
      "metadata": {
        "id": "BgFKMTNf0WY0"
      },
      "outputs": [],
      "source": [
        "# 요인의 갯수를 결정하고\n",
        "ncomp = 3\n",
        "fa = FactorAnalyzer(n_factors=ncomp, rotation='varimax')\n",
        "fa_comp = fa.fit_transform(df)\n",
        "\n",
        "loadings = pd.DataFrame(\n",
        "    data=fa.loadings_, \n",
        "    index=df.columns,\n",
        "    columns=[ 'fa_'+ str(i+1) for i in range(ncomp) ]\n",
        "    )"
      ]
    },
    {
      "cell_type": "markdown",
      "metadata": {
        "id": "vncbwR0d7ycD"
      },
      "source": [
        "### (다) 요인분석 결과 검증\n",
        "- 크론바흐 알파: 주어진 변수들이 한개 그룹에 속할 수 있는지 내적일관성 측정, 0.7 이상이면 우수"
      ]
    },
    {
      "cell_type": "code",
      "execution_count": 47,
      "metadata": {
        "colab": {
          "base_uri": "https://localhost:8080/",
          "height": 175
        },
        "id": "rZ0M-OiA-lm4",
        "outputId": "7e852b39-4d74-409d-d238-d79f18695d94"
      },
      "outputs": [
        {
          "data": {
            "text/html": [
              "\n",
              "  <div id=\"df-6d928d89-d3b1-4a62-a2bb-b5cbcb558410\">\n",
              "    <div class=\"colab-df-container\">\n",
              "      <div>\n",
              "<style scoped>\n",
              "    .dataframe tbody tr th:only-of-type {\n",
              "        vertical-align: middle;\n",
              "    }\n",
              "\n",
              "    .dataframe tbody tr th {\n",
              "        vertical-align: top;\n",
              "    }\n",
              "\n",
              "    .dataframe thead th {\n",
              "        text-align: right;\n",
              "    }\n",
              "</style>\n",
              "<table border=\"1\" class=\"dataframe\">\n",
              "  <thead>\n",
              "    <tr style=\"text-align: right;\">\n",
              "      <th></th>\n",
              "      <th>fa_1</th>\n",
              "      <th>fa_2</th>\n",
              "      <th>fa_3</th>\n",
              "    </tr>\n",
              "  </thead>\n",
              "  <tbody>\n",
              "    <tr>\n",
              "      <th>sepal_length</th>\n",
              "      <td>0.995957</td>\n",
              "      <td>-0.009327</td>\n",
              "      <td>0.035266</td>\n",
              "    </tr>\n",
              "    <tr>\n",
              "      <th>sepal_width</th>\n",
              "      <td>-0.108139</td>\n",
              "      <td>0.755990</td>\n",
              "      <td>-0.079890</td>\n",
              "    </tr>\n",
              "    <tr>\n",
              "      <th>petal_length</th>\n",
              "      <td>0.861249</td>\n",
              "      <td>-0.413169</td>\n",
              "      <td>0.287304</td>\n",
              "    </tr>\n",
              "    <tr>\n",
              "      <th>petal_width</th>\n",
              "      <td>0.800788</td>\n",
              "      <td>-0.317525</td>\n",
              "      <td>0.494231</td>\n",
              "    </tr>\n",
              "  </tbody>\n",
              "</table>\n",
              "</div>\n",
              "      <button class=\"colab-df-convert\" onclick=\"convertToInteractive('df-6d928d89-d3b1-4a62-a2bb-b5cbcb558410')\"\n",
              "              title=\"Convert this dataframe to an interactive table.\"\n",
              "              style=\"display:none;\">\n",
              "        \n",
              "  <svg xmlns=\"http://www.w3.org/2000/svg\" height=\"24px\"viewBox=\"0 0 24 24\"\n",
              "       width=\"24px\">\n",
              "    <path d=\"M0 0h24v24H0V0z\" fill=\"none\"/>\n",
              "    <path d=\"M18.56 5.44l.94 2.06.94-2.06 2.06-.94-2.06-.94-.94-2.06-.94 2.06-2.06.94zm-11 1L8.5 8.5l.94-2.06 2.06-.94-2.06-.94L8.5 2.5l-.94 2.06-2.06.94zm10 10l.94 2.06.94-2.06 2.06-.94-2.06-.94-.94-2.06-.94 2.06-2.06.94z\"/><path d=\"M17.41 7.96l-1.37-1.37c-.4-.4-.92-.59-1.43-.59-.52 0-1.04.2-1.43.59L10.3 9.45l-7.72 7.72c-.78.78-.78 2.05 0 2.83L4 21.41c.39.39.9.59 1.41.59.51 0 1.02-.2 1.41-.59l7.78-7.78 2.81-2.81c.8-.78.8-2.07 0-2.86zM5.41 20L4 18.59l7.72-7.72 1.47 1.35L5.41 20z\"/>\n",
              "  </svg>\n",
              "      </button>\n",
              "      \n",
              "  <style>\n",
              "    .colab-df-container {\n",
              "      display:flex;\n",
              "      flex-wrap:wrap;\n",
              "      gap: 12px;\n",
              "    }\n",
              "\n",
              "    .colab-df-convert {\n",
              "      background-color: #E8F0FE;\n",
              "      border: none;\n",
              "      border-radius: 50%;\n",
              "      cursor: pointer;\n",
              "      display: none;\n",
              "      fill: #1967D2;\n",
              "      height: 32px;\n",
              "      padding: 0 0 0 0;\n",
              "      width: 32px;\n",
              "    }\n",
              "\n",
              "    .colab-df-convert:hover {\n",
              "      background-color: #E2EBFA;\n",
              "      box-shadow: 0px 1px 2px rgba(60, 64, 67, 0.3), 0px 1px 3px 1px rgba(60, 64, 67, 0.15);\n",
              "      fill: #174EA6;\n",
              "    }\n",
              "\n",
              "    [theme=dark] .colab-df-convert {\n",
              "      background-color: #3B4455;\n",
              "      fill: #D2E3FC;\n",
              "    }\n",
              "\n",
              "    [theme=dark] .colab-df-convert:hover {\n",
              "      background-color: #434B5C;\n",
              "      box-shadow: 0px 1px 3px 1px rgba(0, 0, 0, 0.15);\n",
              "      filter: drop-shadow(0px 1px 2px rgba(0, 0, 0, 0.3));\n",
              "      fill: #FFFFFF;\n",
              "    }\n",
              "  </style>\n",
              "\n",
              "      <script>\n",
              "        const buttonEl =\n",
              "          document.querySelector('#df-6d928d89-d3b1-4a62-a2bb-b5cbcb558410 button.colab-df-convert');\n",
              "        buttonEl.style.display =\n",
              "          google.colab.kernel.accessAllowed ? 'block' : 'none';\n",
              "\n",
              "        async function convertToInteractive(key) {\n",
              "          const element = document.querySelector('#df-6d928d89-d3b1-4a62-a2bb-b5cbcb558410');\n",
              "          const dataTable =\n",
              "            await google.colab.kernel.invokeFunction('convertToInteractive',\n",
              "                                                     [key], {});\n",
              "          if (!dataTable) return;\n",
              "\n",
              "          const docLinkHtml = 'Like what you see? Visit the ' +\n",
              "            '<a target=\"_blank\" href=https://colab.research.google.com/notebooks/data_table.ipynb>data table notebook</a>'\n",
              "            + ' to learn more about interactive tables.';\n",
              "          element.innerHTML = '';\n",
              "          dataTable['output_type'] = 'display_data';\n",
              "          await google.colab.output.renderOutput(dataTable, element);\n",
              "          const docLink = document.createElement('div');\n",
              "          docLink.innerHTML = docLinkHtml;\n",
              "          element.appendChild(docLink);\n",
              "        }\n",
              "      </script>\n",
              "    </div>\n",
              "  </div>\n",
              "  "
            ],
            "text/plain": [
              "                  fa_1      fa_2      fa_3\n",
              "sepal_length  0.995957 -0.009327  0.035266\n",
              "sepal_width  -0.108139  0.755990 -0.079890\n",
              "petal_length  0.861249 -0.413169  0.287304\n",
              "petal_width   0.800788 -0.317525  0.494231"
            ]
          },
          "execution_count": 47,
          "metadata": {},
          "output_type": "execute_result"
        }
      ],
      "source": [
        "loadings"
      ]
    },
    {
      "cell_type": "code",
      "execution_count": 48,
      "metadata": {
        "colab": {
          "base_uri": "https://localhost:8080/",
          "height": 0
        },
        "id": "FFn0amaH1Wf-",
        "outputId": "4c76466e-b360-40ec-85c0-cbb5bda6c763"
      },
      "outputs": [
        {
          "name": "stdout",
          "output_type": "stream",
          "text": [
            "fa_1 : 0.8771447836441384\n",
            "fa_2 : 0.4542665948543568\n"
          ]
        }
      ],
      "source": [
        "# 요인별로 크론바흐 알파값을 계산\n",
        "for c in loadings.columns:\n",
        "    idx = loadings[c].loc[np.abs(loadings[c]) >= 0.3].index\n",
        "\n",
        "    # 적어도 변수가 2개 이상이어야 크론바흐 알파 값 계산 가능\n",
        "    if len(idx) >= 2:\n",
        "        factor_alpha, conf_interval = pg.cronbach_alpha(df[idx])\n",
        "        print(f'{c} : {factor_alpha}')"
      ]
    }
  ],
  "metadata": {
    "colab": {
      "collapsed_sections": [
        "sBgXgDvcuvmU",
        "RWo-c5wbvLDW",
        "jNYZ38tyDkTQ",
        "nZCcuzeoEGDp",
        "5kdAENVTEFyo",
        "A8HmWE4Z09Mp",
        "Ig9-cU5w02MA",
        "cv1eaZUncbXN",
        "V9U-izoVcji5"
      ],
      "name": "02. 데이터 전처리.ipynb",
      "provenance": []
    },
    "kernelspec": {
      "display_name": "Python 3",
      "name": "python3"
    },
    "language_info": {
      "codemirror_mode": {
        "name": "ipython",
        "version": 3
      },
      "file_extension": ".py",
      "mimetype": "text/x-python",
      "name": "python",
      "nbconvert_exporter": "python",
      "pygments_lexer": "ipython3",
      "version": "3.10.3"
    }
  },
  "nbformat": 4,
  "nbformat_minor": 0
}
